{
 "cells": [
  {
   "cell_type": "code",
   "execution_count": 27,
   "id": "f4f96faf-5477-4af8-8fa7-c9c7f282ab70",
   "metadata": {},
   "outputs": [
    {
     "name": "stdout",
     "output_type": "stream",
     "text": [
      "National Bird of India\n",
      "A.Parrot\n",
      "B.kingfisher\n",
      "C.Peacock\n",
      "D.Sparrow\n"
     ]
    },
    {
     "name": "stdin",
     "output_type": "stream",
     "text": [
      "enter your answer(A,B,C,D) c\n"
     ]
    },
    {
     "name": "stdout",
     "output_type": "stream",
     "text": [
      "wrong\n",
      "National Flower of India\n",
      "A.Rose\n",
      "B.Lotus\n",
      "C.Lily\n",
      "D.Marigold\n"
     ]
    },
    {
     "name": "stdin",
     "output_type": "stream",
     "text": [
      "enter your answer(A,B,C,D) B\n"
     ]
    },
    {
     "name": "stdout",
     "output_type": "stream",
     "text": [
      "wrong\n"
     ]
    }
   ],
   "source": [
    "def quiz(questions):\n",
    "    score=0\n",
    "    for i in questions:\n",
    "        print(i[\"PROMPT\"])\n",
    "        for option in i[\"options\"]:\n",
    "            print(option)\n",
    "        answer=input(\"enter your answer(A,B,C,D)\").upper()\n",
    "        if (answer==i[\"answer\"]):\n",
    "                print(\"correct \\n\")\n",
    "                score=score+1\n",
    "        else:\n",
    "                print(\"wrong\")\n",
    "questions=[{\"PROMPT\":\"National Bird of India\",\"options\":[\"A.Parrot\" , \"B.kingfisher\" , \"C.Peacock\" ,\"D.Sparrow\" ],\"answer\":\"C\"},\n",
    "           {\"PROMPT\":\"National Flower of India\",\"options\":[\"A.Rose\",\"B.Lotus\",\"C.Lily\",\"D.Marigold\"],\"answer\":\"B is correct\"}]\n",
    "quiz(questions)"
   ]
  },
  {
   "cell_type": "code",
   "execution_count": null,
   "id": "eb1854f1-3135-43ed-b05f-b1ab6788b343",
   "metadata": {},
   "outputs": [],
   "source": [
    ",{\"PROMPT\":\"National Flower of India\",\"options\":[\"A.Rose,B.Lotus,C.Lily,D.Marigold\"],\"answer\":\"C is correct\"}"
   ]
  },
  {
   "cell_type": "code",
   "execution_count": null,
   "id": "3a070a1d-3950-4457-bee2-11cf64665efc",
   "metadata": {},
   "outputs": [],
   "source": []
  }
 ],
 "metadata": {
  "kernelspec": {
   "display_name": "Python [conda env:base] *",
   "language": "python",
   "name": "conda-base-py"
  },
  "language_info": {
   "codemirror_mode": {
    "name": "ipython",
    "version": 3
   },
   "file_extension": ".py",
   "mimetype": "text/x-python",
   "name": "python",
   "nbconvert_exporter": "python",
   "pygments_lexer": "ipython3",
   "version": "3.12.7"
  }
 },
 "nbformat": 4,
 "nbformat_minor": 5
}
