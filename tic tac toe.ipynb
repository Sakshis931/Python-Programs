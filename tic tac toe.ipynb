{
 "cells": [
  {
   "cell_type": "code",
   "execution_count": null,
   "id": "caf802b0-9327-4f5c-8df4-8cb19c920be6",
   "metadata": {},
   "outputs": [
    {
     "name": "stdout",
     "output_type": "stream",
     "text": [
      "\n",
      "  0   1   2\n",
      "    |   |  \n",
      " -----------\n",
      "3   |   |   5\n",
      " -----------\n",
      "    |   |  \n",
      "  6   7   8\n",
      "\n"
     ]
    },
    {
     "name": "stdin",
     "output_type": "stream",
     "text": [
      "X to move [0-8] >  3\n"
     ]
    },
    {
     "name": "stdout",
     "output_type": "stream",
     "text": [
      "\n",
      "  0   1   2\n",
      "    |   |  \n",
      " -----------\n",
      "3 X |   |   5\n",
      " -----------\n",
      "    |   |  \n",
      "  6   7   8\n",
      "\n"
     ]
    },
    {
     "name": "stdin",
     "output_type": "stream",
     "text": [
      "O to move [0-8] >  2\n"
     ]
    },
    {
     "name": "stdout",
     "output_type": "stream",
     "text": [
      "\n",
      "  0   1   2\n",
      "    |   | O\n",
      " -----------\n",
      "3 X |   |   5\n",
      " -----------\n",
      "    |   |  \n",
      "  6   7   8\n",
      "\n"
     ]
    },
    {
     "name": "stdin",
     "output_type": "stream",
     "text": [
      "X to move [0-8] >  4\n"
     ]
    },
    {
     "name": "stdout",
     "output_type": "stream",
     "text": [
      "\n",
      "  0   1   2\n",
      "    |   | O\n",
      " -----------\n",
      "3 X | X |   5\n",
      " -----------\n",
      "    |   |  \n",
      "  6   7   8\n",
      "\n"
     ]
    },
    {
     "name": "stdin",
     "output_type": "stream",
     "text": [
      "O to move [0-8] >  2\n"
     ]
    },
    {
     "name": "stdout",
     "output_type": "stream",
     "text": [
      "Invalid move!\n",
      "\n",
      "  0   1   2\n",
      "    |   | O\n",
      " -----------\n",
      "3 X | X |   5\n",
      " -----------\n",
      "    |   |  \n",
      "  6   7   8\n",
      "\n"
     ]
    },
    {
     "name": "stdin",
     "output_type": "stream",
     "text": [
      "O to move [0-8] >  0\n"
     ]
    },
    {
     "name": "stdout",
     "output_type": "stream",
     "text": [
      "\n",
      "  0   1   2\n",
      "  O |   | O\n",
      " -----------\n",
      "3 X | X |   5\n",
      " -----------\n",
      "    |   |  \n",
      "  6   7   8\n",
      "\n"
     ]
    },
    {
     "name": "stdin",
     "output_type": "stream",
     "text": [
      "X to move [0-8] >  0\n"
     ]
    },
    {
     "name": "stdout",
     "output_type": "stream",
     "text": [
      "Invalid move!\n",
      "\n",
      "  0   1   2\n",
      "  O |   | O\n",
      " -----------\n",
      "3 X | X |   5\n",
      " -----------\n",
      "    |   |  \n",
      "  6   7   8\n",
      "\n"
     ]
    },
    {
     "name": "stdin",
     "output_type": "stream",
     "text": [
      "X to move [0-8] >  x\n"
     ]
    },
    {
     "name": "stdout",
     "output_type": "stream",
     "text": [
      "Invalid move!\n",
      "\n",
      "  0   1   2\n",
      "  O |   | O\n",
      " -----------\n",
      "3 X | X |   5\n",
      " -----------\n",
      "    |   |  \n",
      "  6   7   8\n",
      "\n"
     ]
    },
    {
     "name": "stdin",
     "output_type": "stream",
     "text": [
      "X to move [0-8] >  x\n"
     ]
    },
    {
     "name": "stdout",
     "output_type": "stream",
     "text": [
      "Invalid move!\n",
      "\n",
      "  0   1   2\n",
      "  O |   | O\n",
      " -----------\n",
      "3 X | X |   5\n",
      " -----------\n",
      "    |   |  \n",
      "  6   7   8\n",
      "\n"
     ]
    },
    {
     "name": "stdin",
     "output_type": "stream",
     "text": [
      "X to move [0-8] >  6\n"
     ]
    },
    {
     "name": "stdout",
     "output_type": "stream",
     "text": [
      "\n",
      "  0   1   2\n",
      "  O |   | O\n",
      " -----------\n",
      "3 X | X |   5\n",
      " -----------\n",
      "  X |   |  \n",
      "  6   7   8\n",
      "\n"
     ]
    }
   ],
   "source": [
    "squares = [' ']*9\n",
    "players = 'XO'\n",
    "board = '''\n",
    "  0   1   2\n",
    "  {0} | {1} | {2}\n",
    " -----------\n",
    "3 {3} | {4} | {5} 5\n",
    " -----------\n",
    "  {6} | {7} | {8}\n",
    "  6   7   8\n",
    "'''\n",
    "win_conditions = [\n",
    "    (0, 1, 2), (3, 4, 5), (6, 7, 8), # horizontals\n",
    "    (0, 3, 6), (1, 4, 7), (2, 5, 8), # verticals\n",
    "    (0, 4, 8), (2, 4, 6)             # diagonals\n",
    "]\n",
    "\n",
    "def check_win(player):\n",
    "    for a, b, c in win_conditions:\n",
    "        if {squares[a], squares[b], squares[c]} == {player}:\n",
    "            return True\n",
    "\n",
    "while True:\n",
    "    print(board.format(*squares))\n",
    "    if check_win(players[1]):\n",
    "        print(f'{players[1]} is the winner!')\n",
    "        break\n",
    "    if ' ' not in squares:\n",
    "        print('Cats game!')\n",
    "        break\n",
    "    move = input(f'{players[0]} to move [0-8] > ')\n",
    "    if not move.isdigit() or not 0 <= int(move) <= 8 or squares[int(move)] != ' ':\n",
    "        print('Invalid move!')\n",
    "        continue\n",
    "    squares[int(move)], players = players[0], players[::-1]\n"
   ]
  },
  {
   "cell_type": "code",
   "execution_count": null,
   "id": "7ca976f1-f193-4ea2-a8c3-59ba30a992af",
   "metadata": {},
   "outputs": [],
   "source": []
  }
 ],
 "metadata": {
  "kernelspec": {
   "display_name": "Python [conda env:base] *",
   "language": "python",
   "name": "conda-base-py"
  },
  "language_info": {
   "codemirror_mode": {
    "name": "ipython",
    "version": 3
   },
   "file_extension": ".py",
   "mimetype": "text/x-python",
   "name": "python",
   "nbconvert_exporter": "python",
   "pygments_lexer": "ipython3",
   "version": "3.12.7"
  }
 },
 "nbformat": 4,
 "nbformat_minor": 5
}
