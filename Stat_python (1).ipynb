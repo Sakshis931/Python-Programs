{
 "cells": [
  {
   "cell_type": "code",
   "execution_count": 3,
   "id": "5d3c04f6-615d-4b19-a513-00fef11e628a",
   "metadata": {},
   "outputs": [],
   "source": [
    "import numpy as np"
   ]
  },
  {
   "cell_type": "code",
   "execution_count": 4,
   "id": "103d1500-24c3-477e-b936-796077034618",
   "metadata": {},
   "outputs": [],
   "source": [
    "# pip install numpy"
   ]
  },
  {
   "cell_type": "code",
   "execution_count": 5,
   "id": "d72505d3-601e-4476-975c-0698c8e7c26a",
   "metadata": {},
   "outputs": [],
   "source": [
    "data = [1,2,3,4,5,6,7]"
   ]
  },
  {
   "cell_type": "code",
   "execution_count": 7,
   "id": "d0d4b593-f61f-43cd-80b9-d252bf769b03",
   "metadata": {},
   "outputs": [
    {
     "name": "stdout",
     "output_type": "stream",
     "text": [
      "4.0\n"
     ]
    }
   ],
   "source": [
    "#mean\n",
    "data = [1,2,3,4,5,6,7]\n",
    "print(np.mean(data))"
   ]
  },
  {
   "cell_type": "code",
   "execution_count": 8,
   "id": "a57d4616-35f4-477f-af56-a3fdc5d8129f",
   "metadata": {},
   "outputs": [
    {
     "name": "stdout",
     "output_type": "stream",
     "text": [
      "4.0\n"
     ]
    }
   ],
   "source": [
    "# median\n",
    "data = [1,2,3,4,5,6,7]\n",
    "print(np.median(data))"
   ]
  },
  {
   "cell_type": "code",
   "execution_count": 10,
   "id": "c0c23daf-a3bc-4a18-a3a3-c0b19ac11956",
   "metadata": {},
   "outputs": [],
   "source": [
    "# mode\n",
    "from scipy import stats"
   ]
  },
  {
   "cell_type": "code",
   "execution_count": 17,
   "id": "262d9a2a-3713-498a-b6c0-c4efcab6125e",
   "metadata": {},
   "outputs": [
    {
     "name": "stdout",
     "output_type": "stream",
     "text": [
      "ModeResult(mode=1, count=3)\n",
      "mode ==  1\n",
      "count of mode ==  3\n"
     ]
    }
   ],
   "source": [
    "data = [2,3,4,5,1,6,7,1,2,1,2]\n",
    "mode = stats.mode(data)\n",
    "print(mode)\n",
    "print(\"mode == \",mode[0])\n",
    "print(\"count of mode == \",mode[1])"
   ]
  },
  {
   "cell_type": "code",
   "execution_count": 18,
   "id": "120387fe-73d0-4c94-9e96-a605227edb08",
   "metadata": {},
   "outputs": [],
   "source": [
    "#IQR"
   ]
  },
  {
   "cell_type": "code",
   "execution_count": 22,
   "id": "fe6a7212-2c8e-40a7-a8d3-26dad40afdf2",
   "metadata": {},
   "outputs": [
    {
     "data": {
      "text/plain": [
       "3.0"
      ]
     },
     "execution_count": 22,
     "metadata": {},
     "output_type": "execute_result"
    }
   ],
   "source": [
    "stats.iqr(data)"
   ]
  },
  {
   "cell_type": "code",
   "execution_count": 19,
   "id": "2d89425b-83c8-4c88-b2f0-c62821724ba9",
   "metadata": {},
   "outputs": [
    {
     "data": {
      "text/plain": [
       "1.5"
      ]
     },
     "execution_count": 19,
     "metadata": {},
     "output_type": "execute_result"
    }
   ],
   "source": [
    "Q1 = np.percentile(data, 25)\n",
    "Q1"
   ]
  },
  {
   "cell_type": "code",
   "execution_count": 20,
   "id": "2f5632e0-086e-40fd-97ec-d90d2d300c11",
   "metadata": {},
   "outputs": [
    {
     "data": {
      "text/plain": [
       "4.5"
      ]
     },
     "execution_count": 20,
     "metadata": {},
     "output_type": "execute_result"
    }
   ],
   "source": [
    "Q3 = np.percentile(data, 75)\n",
    "Q3"
   ]
  },
  {
   "cell_type": "code",
   "execution_count": 21,
   "id": "9e4f7bd8-010a-4246-ad01-a551e385dafe",
   "metadata": {},
   "outputs": [
    {
     "data": {
      "text/plain": [
       "3.0"
      ]
     },
     "execution_count": 21,
     "metadata": {},
     "output_type": "execute_result"
    }
   ],
   "source": [
    "iqr = Q3 - Q1\n",
    "iqr"
   ]
  },
  {
   "cell_type": "code",
   "execution_count": 20,
   "id": "1b834b23-668a-4901-97e9-23ac425540e1",
   "metadata": {},
   "outputs": [],
   "source": [
    "# dir(np)"
   ]
  },
  {
   "cell_type": "code",
   "execution_count": null,
   "id": "ac25830a-2bc0-417b-b1b1-e4550da570ac",
   "metadata": {},
   "outputs": [],
   "source": []
  },
  {
   "cell_type": "code",
   "execution_count": 21,
   "id": "95ac5531-e1fd-4a4f-89d0-f4c64864d02c",
   "metadata": {},
   "outputs": [
    {
     "data": {
      "text/plain": [
       "[2, 3, 4, 5, 1, 6, -1, 7, -1]"
      ]
     },
     "execution_count": 21,
     "metadata": {},
     "output_type": "execute_result"
    }
   ],
   "source": [
    "data"
   ]
  },
  {
   "cell_type": "code",
   "execution_count": 26,
   "id": "4f42a5e7-e206-41a0-ac3d-4c727a1b22a6",
   "metadata": {},
   "outputs": [],
   "source": [
    "data = [1,2,3,4,5]"
   ]
  },
  {
   "cell_type": "code",
   "execution_count": 27,
   "id": "ce75bf56-2865-4e97-b429-ab22d1ce3028",
   "metadata": {},
   "outputs": [
    {
     "data": {
      "text/plain": [
       "2.0"
      ]
     },
     "execution_count": 27,
     "metadata": {},
     "output_type": "execute_result"
    }
   ],
   "source": [
    "# var\n",
    "np.var(data)"
   ]
  },
  {
   "cell_type": "code",
   "execution_count": 28,
   "id": "26e364b6-b9f4-4ace-9ee0-0d3c83e9cb68",
   "metadata": {},
   "outputs": [
    {
     "name": "stdout",
     "output_type": "stream",
     "text": [
      "1.4142135623730951\n"
     ]
    }
   ],
   "source": [
    "print(np.std(data))"
   ]
  },
  {
   "cell_type": "code",
   "execution_count": 24,
   "id": "48cf70ea-b834-4edf-8e54-50b8e563ba12",
   "metadata": {},
   "outputs": [
    {
     "name": "stdout",
     "output_type": "stream",
     "text": [
      "data\n"
     ]
    }
   ],
   "source": [
    "s = \"data\"\n",
    "print(s)"
   ]
  },
  {
   "cell_type": "code",
   "execution_count": 25,
   "id": "ed6e9465-7879-46c7-9ab4-351788107c12",
   "metadata": {},
   "outputs": [],
   "source": [
    "dataset = [20,21,22,25,26,29,33,34,38]"
   ]
  },
  {
   "cell_type": "code",
   "execution_count": 26,
   "id": "6edfd116-59d8-4c18-b468-d6f05c378129",
   "metadata": {},
   "outputs": [
    {
     "data": {
      "text/plain": [
       "np.float64(0.3456494605102496)"
      ]
     },
     "execution_count": 26,
     "metadata": {},
     "output_type": "execute_result"
    }
   ],
   "source": [
    "stats.skew(dataset)"
   ]
  },
  {
   "cell_type": "code",
   "execution_count": 27,
   "id": "9915cc0f-7acc-41ea-b954-bd30b1ee4e10",
   "metadata": {},
   "outputs": [
    {
     "data": {
      "text/plain": [
       "np.float64(-1.2130829964328183)"
      ]
     },
     "execution_count": 27,
     "metadata": {},
     "output_type": "execute_result"
    }
   ],
   "source": [
    "stats.kurtosis(dataset)"
   ]
  },
  {
   "cell_type": "code",
   "execution_count": 28,
   "id": "fb0638a7-0b92-4590-8159-f44f12a734ec",
   "metadata": {},
   "outputs": [],
   "source": [
    "dataset = [20,21,22,25,26,29,33,34,38, 1000]"
   ]
  },
  {
   "cell_type": "code",
   "execution_count": 29,
   "id": "c3e1c245-9d75-416d-9726-6b106e6a1328",
   "metadata": {},
   "outputs": [
    {
     "data": {
      "text/plain": [
       "np.float64(2.6647772684028395)"
      ]
     },
     "execution_count": 29,
     "metadata": {},
     "output_type": "execute_result"
    }
   ],
   "source": [
    "stats.skew(dataset)"
   ]
  },
  {
   "cell_type": "code",
   "execution_count": 30,
   "id": "67fa1214-bc95-4322-b0a4-f3225f94849f",
   "metadata": {},
   "outputs": [
    {
     "data": {
      "text/plain": [
       "np.float64(-2.664969739224319)"
      ]
     },
     "execution_count": 30,
     "metadata": {},
     "output_type": "execute_result"
    }
   ],
   "source": [
    "dataset = [20,21,22,25,26,29,33,34,38, -1000]\n",
    "stats.skew(dataset)"
   ]
  },
  {
   "cell_type": "code",
   "execution_count": 31,
   "id": "25b15351-51c9-4516-adac-86cc5bb4b7f2",
   "metadata": {},
   "outputs": [
    {
     "data": {
      "text/plain": [
       "np.float64(12.051673963623678)"
      ]
     },
     "execution_count": 31,
     "metadata": {},
     "output_type": "execute_result"
    }
   ],
   "source": [
    "dataset = [20,21,22,25,26,29,33,34,38,27,28,27,28,27,27,28,1000]\n",
    "stats.kurtosis(dataset)"
   ]
  },
  {
   "cell_type": "code",
   "execution_count": 33,
   "id": "5055f530-3c73-407f-a491-7c7bc9ac7976",
   "metadata": {},
   "outputs": [
    {
     "name": "stdout",
     "output_type": "stream",
     "text": [
      "0.16552354823959758\n"
     ]
    }
   ],
   "source": [
    "dataset = [20,21,22,25,26,29,33,34,38,27,28,27,28,27,27,28]\n",
    "print(stats.kurtosis(dataset))"
   ]
  },
  {
   "cell_type": "code",
   "execution_count": null,
   "id": "37b4cf9f-78dc-49f1-b853-e5849d10d8c4",
   "metadata": {},
   "outputs": [],
   "source": []
  },
  {
   "cell_type": "code",
   "execution_count": 29,
   "id": "22335fd7-4b89-4ac3-9106-00821fb96782",
   "metadata": {},
   "outputs": [],
   "source": [
    "import seaborn as sns"
   ]
  },
  {
   "cell_type": "code",
   "execution_count": 38,
   "id": "d51d4637-8481-4df2-8d9d-38457da5443f",
   "metadata": {},
   "outputs": [],
   "source": [
    "data1 = [1,2,3,4,5,6]"
   ]
  },
  {
   "cell_type": "code",
   "execution_count": 39,
   "id": "f95c0b13-61ce-4188-ba19-55d02a676c21",
   "metadata": {},
   "outputs": [
    {
     "data": {
      "image/png": "[encoded data removed]",
      "text/plain": [
       "<Figure size 640x480 with 1 Axes>"
      ]
     },
     "metadata": {},
     "output_type": "display_data"
    }
   ],
   "source": [
    "plot = sns.kdeplot(data1)"
   ]
  },
  {
   "cell_type": "code",
   "execution_count": 40,
   "id": "fd3fab69-e660-4acc-b09d-8870e6576543",
   "metadata": {},
   "outputs": [
    {
     "data": {
      "text/plain": [
       "<Axes: ylabel='Density'>"
      ]
     },
     "execution_count": 40,
     "metadata": {},
     "output_type": "execute_result"
    },
    {
     "data": {
      "image/png": "[encoded data removed]",
      "text/plain": [
       "<Figure size 640x480 with 1 Axes>"
      ]
     },
     "metadata": {},
     "output_type": "display_data"
    }
   ],
   "source": [
    "data2 = [1,2,3,4,5,6, 100]\n",
    "sns.kdeplot(data2)"
   ]
  },
  {
   "cell_type": "code",
   "execution_count": 44,
   "id": "ec20b286-c09f-4d50-98bc-c5d79a2f7871",
   "metadata": {},
   "outputs": [
    {
     "data": {
      "text/plain": [
       "<Axes: ylabel='Density'>"
      ]
     },
     "execution_count": 44,
     "metadata": {},
     "output_type": "execute_result"
    },
    {
     "data": {
      "image/png": "[encoded data removed]",
      "text/plain": [
       "<Figure size 640x480 with 1 Axes>"
      ]
     },
     "metadata": {},
     "output_type": "display_data"
    }
   ],
   "source": [
    "data2 = [1,2,3,4,5,6,1,2,3,4,1,2,3,4,5,1,1,1,1,1, 1,1,2,1,]\n",
    "sns.kdeplot(data2)"
   ]
  },
  {
   "cell_type": "code",
   "execution_count": null,
   "id": "b76165e7-e045-4c40-9af1-d1a465b27739",
   "metadata": {},
   "outputs": [],
   "source": []
  }
 ],
 "metadata": {
  "kernelspec": {
   "display_name": "Python [conda env:base] *",
   "language": "python",
   "name": "conda-base-py"
  },
  "language_info": {
   "codemirror_mode": {
    "name": "ipython",
    "version": 3
   },
   "file_extension": ".py",
   "mimetype": "text/x-python",
   "name": "python",
   "nbconvert_exporter": "python",
   "pygments_lexer": "ipython3",
   "version": "3.12.7"
  }
 },
 "nbformat": 4,
 "nbformat_minor": 5
}
