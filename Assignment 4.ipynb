{
 "cells": [
  {
   "cell_type": "code",
   "execution_count": 54,
   "id": "39a9a89b-785a-4441-9a1c-139183476fe9",
   "metadata": {},
   "outputs": [
    {
     "name": "stdin",
     "output_type": "stream",
     "text": [
      "enter 8\n"
     ]
    },
    {
     "name": "stdout",
     "output_type": "stream",
     "text": [
      "not prime\n",
      "not prime\n",
      " prime\n",
      "not prime\n",
      " prime\n",
      " prime\n",
      " prime\n"
     ]
    }
   ],
   "source": [
    "#Check if a number is prime.(without break and where we get report of each i)\n",
    "a=int(input(\"enter\"))\n",
    "if(a>1):\n",
    "    for i in range(1,a):\n",
    "         if(a%i==0):\n",
    "                print(\"not prime\")\n",
    "         else:\n",
    "             print(\" prime\")"
   ]
  },
  {
   "cell_type": "code",
   "execution_count": 21,
   "id": "f435d408-b99d-43a9-841e-4793b303a9e1",
   "metadata": {},
   "outputs": [
    {
     "name": "stdin",
     "output_type": "stream",
     "text": [
      "enter 153\n"
     ]
    },
    {
     "name": "stdout",
     "output_type": "stream",
     "text": [
      "0.201\n"
     ]
    }
   ],
   "source": [
    "#Write a program to check if a number is an Armstrong number\n",
    "#153=1^3+5^3+3^3\n",
    "n=1\n",
    "a=int(input(\"enter\"))\n",
    "n=n/10\n",
    "s=n**3\n",
    "sum=n+sum\n",
    "print(sum)"
   ]
  },
  {
   "cell_type": "code",
   "execution_count": 13,
   "id": "93533708-6036-4b7a-ae38-cac02333452f",
   "metadata": {},
   "outputs": [
    {
     "name": "stdout",
     "output_type": "stream",
     "text": [
      "1st is greater\n",
      "1st is greater\n",
      "1st is greater\n",
      "1st is greater\n"
     ]
    }
   ],
   "source": [
    "#Write a program to find the second largest number in a list.\n",
    "l=[23,43,45,244]\n",
    "for i in l:\n",
    "    if(l[0]<l[1]):\n",
    "        print(\"1st is greater\")\n",
    "    #elif(i[1]>i[2]):\n",
    "   #     print(\"2nd is g\")\n",
    "   # elif(i[2]>i[3]):\n",
    "    #    print(\"3rd is g\")\n",
    "  #  else:\n",
    "  #      print(\"4th is g\")"
   ]
  },
  {
   "cell_type": "code",
   "execution_count": 1,
   "id": "754ce64d-ee1a-454b-af0a-878c8410aab6",
   "metadata": {},
   "outputs": [
    {
     "name": "stdout",
     "output_type": "stream",
     "text": [
      "13\n"
     ]
    }
   ],
   "source": [
    "#swap of value\n",
    "a=13\n",
    "b=12\n",
    "temp=a\n",
    "a=b\n",
    "b=temp\n",
    "print(b)"
   ]
  },
  {
   "cell_type": "code",
   "execution_count": 100,
   "id": "cb6c9693-b03c-4025-92a5-3682dd9e518e",
   "metadata": {},
   "outputs": [
    {
     "name": "stdin",
     "output_type": "stream",
     "text": [
      "enter number 9\n"
     ]
    },
    {
     "name": "stdout",
     "output_type": "stream",
     "text": [
      "not p\n"
     ]
    }
   ],
   "source": [
    "#wap to check given number is prime or not\n",
    "a=int(input(\"enter number\"))\n",
    "if(a<=1):\n",
    "    print(\"prime\")\n",
    "if(a>1):\n",
    "      for i in range(2,a):\n",
    "             #i=i+1\n",
    "        if(a%i==0):\n",
    "             print(\"not p\")\n",
    "             break\n",
    "      else:\n",
    "             print(\"prime\")\n"
   ]
  },
  {
   "cell_type": "code",
   "execution_count": 60,
   "id": "6a75b8fb-8431-468d-ad8d-f71fe0b43164",
   "metadata": {},
   "outputs": [
    {
     "name": "stdout",
     "output_type": "stream",
     "text": [
      "0\n",
      "1\n",
      "2\n",
      "3\n",
      "4\n"
     ]
    }
   ],
   "source": [
    "#break statement\n",
    "for i in range(10):\n",
    "    if i==5:\n",
    "      break\n",
    "    print(i)\n",
    "else:\n",
    "    print(\"he;;o\")"
   ]
  },
  {
   "cell_type": "code",
   "execution_count": 73,
   "id": "1b0971f9-9153-418f-b21c-ea2ab7b1d956",
   "metadata": {},
   "outputs": [],
   "source": [
    "#break statement\n",
    "for i in range(10):\n",
    "    if i==5:\n",
    "     print(i)\n",
    "    break\n",
    "else:\n",
    "    print(\"he;;o\")"
   ]
  },
  {
   "cell_type": "code",
   "execution_count": 62,
   "id": "04680a52-f8e5-49c1-813f-82bf524c2121",
   "metadata": {},
   "outputs": [
    {
     "name": "stdout",
     "output_type": "stream",
     "text": [
      "0\n",
      "1\n",
      "2\n",
      "3\n",
      "4\n",
      "6\n",
      "7\n",
      "8\n",
      "9\n",
      "he;;o\n"
     ]
    }
   ],
   "source": [
    "#continue statement\n",
    "for i in range(10):\n",
    "    if i==5:\n",
    "      continue\n",
    "    print(i)\n",
    "else:\n",
    "    print(\"he;;o\")"
   ]
  },
  {
   "cell_type": "code",
   "execution_count": 105,
   "id": "c270b878-f083-4501-b462-82a76b8d204e",
   "metadata": {},
   "outputs": [
    {
     "name": "stdin",
     "output_type": "stream",
     "text": [
      "enter number 27\n"
     ]
    },
    {
     "name": "stdout",
     "output_type": "stream",
     "text": [
      "not p\n"
     ]
    }
   ],
   "source": [
    "#wap to check given number is prime or not\n",
    "a=int(input(\"enter number\"))\n",
    "for i in range(2,a):\n",
    "    if(a%i==0):\n",
    "        print(\"not p\")\n",
    "        break\n",
    "else:\n",
    "    print(\"prime\")"
   ]
  },
  {
   "cell_type": "code",
   "execution_count": 107,
   "id": "258ae18b-52b8-4988-bd91-57d84b82cd5e",
   "metadata": {},
   "outputs": [
    {
     "name": "stdout",
     "output_type": "stream",
     "text": [
      "7\n"
     ]
    }
   ],
   "source": [
    "l=[5,7,8]\n",
    "print(l[1])"
   ]
  },
  {
   "cell_type": "code",
   "execution_count": 111,
   "id": "5bdb3543-8816-4187-8afb-4e2fb9328afd",
   "metadata": {},
   "outputs": [
    {
     "name": "stdout",
     "output_type": "stream",
     "text": [
      "[7, 8, 9]\n"
     ]
    }
   ],
   "source": [
    "l=[5,7,8,9,7]\n",
    "print(l[1:4])"
   ]
  },
  {
   "cell_type": "code",
   "execution_count": 227,
   "id": "7b068881-f3e5-4738-ad20-63742468883f",
   "metadata": {},
   "outputs": [
    {
     "name": "stdout",
     "output_type": "stream",
     "text": [
      "even\n",
      "even\n",
      "even\n",
      "even\n",
      "even\n",
      "even\n",
      "even\n",
      "even\n",
      "even\n",
      "even\n"
     ]
    }
   ],
   "source": [
    "l=[2,4,6,8,10,12,14,16,18,20]\n",
    "for i in l:\n",
    "      if(i%2==0):\n",
    "         print(\"even\")\n",
    "    "
   ]
  },
  {
   "cell_type": "code",
   "execution_count": 225,
   "id": "f6217b20-507e-4df4-9824-fd45d2ed2a09",
   "metadata": {},
   "outputs": [
    {
     "name": "stdout",
     "output_type": "stream",
     "text": [
      "[2, 4, 6, 8, 10]\n"
     ]
    }
   ],
   "source": [
    "l=[1,2,3,4,5,6,7,8,9,10]\n",
    "print(l[1:11:2])"
   ]
  },
  {
   "cell_type": "code",
   "execution_count": 141,
   "id": "fd08c2df-3aaa-4933-a984-e97794a82788",
   "metadata": {},
   "outputs": [
    {
     "name": "stdout",
     "output_type": "stream",
     "text": [
      "4\n",
      "5\n",
      "[2, 3, 4]\n"
     ]
    }
   ],
   "source": [
    "#index slicing\n",
    "l=[1,2,3,4,5]\n",
    "print(l[3])\n",
    "print(l[-1])\n",
    "print(l[1:4])"
   ]
  },
  {
   "cell_type": "code",
   "execution_count": 131,
   "id": "69154bb1-f6ea-4e2e-b850-33bd0f907482",
   "metadata": {},
   "outputs": [
    {
     "name": "stdout",
     "output_type": "stream",
     "text": [
      "<class 'list'>\n"
     ]
    }
   ],
   "source": [
    "l1=[]\n",
    "print(type(l1))\n"
   ]
  },
  {
   "cell_type": "code",
   "execution_count": 143,
   "id": "c9a1737f-d905-4755-9273-02d4f5b8d014",
   "metadata": {},
   "outputs": [
    {
     "name": "stdout",
     "output_type": "stream",
     "text": [
      "<class 'list'>\n"
     ]
    }
   ],
   "source": [
    "l=[1,\"a\",1.2]\n",
    "print(type(l))"
   ]
  },
  {
   "cell_type": "code",
   "execution_count": 157,
   "id": "1d3cdeb0-cf78-4876-8466-1d09e9cac268",
   "metadata": {},
   "outputs": [
    {
     "name": "stdout",
     "output_type": "stream",
     "text": [
      "7\n"
     ]
    }
   ],
   "source": [
    "l5=[1,2,3,[\"a\",\"b\",\"c\"],7,8]\n",
    "print(l5[4])"
   ]
  },
  {
   "cell_type": "code",
   "execution_count": 153,
   "id": "9da27fbb-50d3-40eb-a0d8-feb8421a6798",
   "metadata": {},
   "outputs": [
    {
     "name": "stdout",
     "output_type": "stream",
     "text": [
      "3\n"
     ]
    }
   ],
   "source": [
    "l5=[1,2,3,[\"a\",\"b\",\"c\"],7,8]\n",
    "print(l5[2])"
   ]
  },
  {
   "cell_type": "code",
   "execution_count": 155,
   "id": "1b074aad-88ee-4df7-9ef1-c6c31d371329",
   "metadata": {},
   "outputs": [
    {
     "name": "stdout",
     "output_type": "stream",
     "text": [
      "c\n"
     ]
    }
   ],
   "source": [
    "l5=[1,2,3,[\"a\",\"b\",\"c\"],7,8]\n",
    "print(l5[3][2])"
   ]
  },
  {
   "cell_type": "code",
   "execution_count": 167,
   "id": "20af1c24-2198-4ed0-b997-cd4731c5c7f5",
   "metadata": {},
   "outputs": [
    {
     "data": {
      "text/plain": [
       "[1, 3, 5]"
      ]
     },
     "execution_count": 167,
     "metadata": {},
     "output_type": "execute_result"
    }
   ],
   "source": [
    "l3=[1,2,3,4,5]\n",
    "l3[::2]"
   ]
  },
  {
   "cell_type": "code",
   "execution_count": 169,
   "id": "988b17cc-042d-409d-9a1e-fb627c5ec05d",
   "metadata": {},
   "outputs": [
    {
     "data": {
      "text/plain": [
       "[5, 4, 3, 2, 1]"
      ]
     },
     "execution_count": 169,
     "metadata": {},
     "output_type": "execute_result"
    }
   ],
   "source": [
    "l3[::-1]"
   ]
  },
  {
   "cell_type": "code",
   "execution_count": 178,
   "id": "ee20861f-b30e-47d8-8229-69adc8d98ce0",
   "metadata": {},
   "outputs": [
    {
     "data": {
      "text/plain": [
       "[1, 2, 3, 4, 5, 8, 8, 8, 8]"
      ]
     },
     "execution_count": 178,
     "metadata": {},
     "output_type": "execute_result"
    }
   ],
   "source": [
    "l3.append(8)\n",
    "l3"
   ]
  },
  {
   "cell_type": "code",
   "execution_count": 180,
   "id": "cda35e44-27f9-4cd7-bca5-ee103c360b57",
   "metadata": {},
   "outputs": [
    {
     "data": {
      "text/plain": [
       "9"
      ]
     },
     "execution_count": 180,
     "metadata": {},
     "output_type": "execute_result"
    }
   ],
   "source": [
    "len(l3)"
   ]
  },
  {
   "cell_type": "code",
   "execution_count": 182,
   "id": "ba72f271-cf86-4653-bdad-a8d81ad493d8",
   "metadata": {},
   "outputs": [
    {
     "ename": "TypeError",
     "evalue": "list.append() takes exactly one argument (2 given)",
     "output_type": "error",
     "traceback": [
      "\u001b[0;31m---------------------------------------------------------------------------\u001b[0m",
      "\u001b[0;31mTypeError\u001b[0m                                 Traceback (most recent call last)",
      "Cell \u001b[0;32mIn[182], line 1\u001b[0m\n\u001b[0;32m----> 1\u001b[0m l3\u001b[38;5;241m.\u001b[39mappend(\u001b[38;5;241m7\u001b[39m,\u001b[38;5;241m6\u001b[39m)\n\u001b[1;32m      2\u001b[0m l3\n",
      "\u001b[0;31mTypeError\u001b[0m: list.append() takes exactly one argument (2 given)"
     ]
    }
   ],
   "source": [
    "l3.append(7,6)         #cant take 2 values at a time\n",
    "l3"
   ]
  },
  {
   "cell_type": "code",
   "execution_count": 186,
   "id": "8732ca5b-daab-429d-b878-5855718ad9c9",
   "metadata": {},
   "outputs": [
    {
     "data": {
      "text/plain": [
       "[1, 2, 3, 4, 5, 8, 8, 8, 8, [6, 7], [6, 7]]"
      ]
     },
     "execution_count": 186,
     "metadata": {},
     "output_type": "execute_result"
    }
   ],
   "source": [
    "l3.append([6,7])\n",
    "l3"
   ]
  },
  {
   "cell_type": "code",
   "execution_count": 208,
   "id": "0592f370-5c0d-4fe0-ab1d-5cb51286781a",
   "metadata": {},
   "outputs": [
    {
     "data": {
      "text/plain": [
       "[7, 9, 50, 7, 9, 7, 98, 98, 56, 76]"
      ]
     },
     "execution_count": 208,
     "metadata": {},
     "output_type": "execute_result"
    }
   ],
   "source": [
    "l1=[7,9,7,9,7,98,98,56,76]\n",
    "l1.insert(2,50)\n",
    "l1"
   ]
  },
  {
   "cell_type": "code",
   "execution_count": 210,
   "id": "96accf01-8e70-45eb-8e70-691feb034e8f",
   "metadata": {},
   "outputs": [
    {
     "data": {
      "text/plain": [
       "[7, 9, 50, 7, 9, 7, 98, 98, 56, 76, 90, 80, 70]"
      ]
     },
     "execution_count": 210,
     "metadata": {},
     "output_type": "execute_result"
    }
   ],
   "source": [
    "l1.extend([90,80,70])\n",
    "l1"
   ]
  },
  {
   "cell_type": "code",
   "execution_count": 212,
   "id": "5c7febcf-790d-42cd-99ef-40b31239b463",
   "metadata": {},
   "outputs": [
    {
     "data": {
      "text/plain": [
       "[7, 9, 50, 7, 9, 7, 98, 98, 56, 76, 90, 80]"
      ]
     },
     "execution_count": 212,
     "metadata": {},
     "output_type": "execute_result"
    }
   ],
   "source": [
    "l1.pop()  #deletes last element\n",
    "l1"
   ]
  },
  {
   "cell_type": "code",
   "execution_count": 214,
   "id": "b50b9a88-9a66-4d7c-8d00-400b595efaa8",
   "metadata": {},
   "outputs": [
    {
     "data": {
      "text/plain": [
       "[7, 9, 7, 9, 7, 98, 98, 56, 76, 90, 80]"
      ]
     },
     "execution_count": 214,
     "metadata": {},
     "output_type": "execute_result"
    }
   ],
   "source": [
    "l1.pop(2)  #deletes on basis of index\n",
    "l1"
   ]
  },
  {
   "cell_type": "code",
   "execution_count": 216,
   "id": "12fef035-0478-4252-8229-2cf6e6eb7849",
   "metadata": {},
   "outputs": [
    {
     "data": {
      "text/plain": [
       "[7, 9, 7, 9, 7, 98, 98, 56, 76, 80]"
      ]
     },
     "execution_count": 216,
     "metadata": {},
     "output_type": "execute_result"
    }
   ],
   "source": [
    "l1.remove(90)      #deletes digit\n",
    "l1"
   ]
  },
  {
   "cell_type": "code",
   "execution_count": 221,
   "id": "1d52eae7-9c03-4a93-99a8-2c0850660024",
   "metadata": {},
   "outputs": [
    {
     "data": {
      "text/plain": [
       "[7, 9, 7, 9, 98, 56, 76, 80]"
      ]
     },
     "execution_count": 221,
     "metadata": {},
     "output_type": "execute_result"
    }
   ],
   "source": [
    "del l1[4]         #deletes index\n",
    "l1"
   ]
  },
  {
   "cell_type": "code",
   "execution_count": null,
   "id": "3b2bf149-d806-4203-967e-a87ba432c97b",
   "metadata": {},
   "outputs": [],
   "source": []
  }
 ],
 "metadata": {
  "kernelspec": {
   "display_name": "Python [conda env:base] *",
   "language": "python",
   "name": "conda-base-py"
  },
  "language_info": {
   "codemirror_mode": {
    "name": "ipython",
    "version": 3
   },
   "file_extension": ".py",
   "mimetype": "text/x-python",
   "name": "python",
   "nbconvert_exporter": "python",
   "pygments_lexer": "ipython3",
   "version": "3.12.7"
  }
 },
 "nbformat": 4,
 "nbformat_minor": 5
}
