{
 "cells": [
  {
   "cell_type": "code",
   "execution_count": 1,
   "id": "419eaac7-6b61-4421-9c5e-36203dcf8799",
   "metadata": {},
   "outputs": [
    {
     "data": {
      "text/plain": [
       "10.7"
      ]
     },
     "execution_count": 1,
     "metadata": {},
     "output_type": "execute_result"
    }
   ],
   "source": [
    "5+5.7+False"
   ]
  },
  {
   "cell_type": "code",
   "execution_count": 3,
   "id": "95793a60-fc1b-44a2-a245-d7b9fc2b74cd",
   "metadata": {},
   "outputs": [
    {
     "data": {
      "text/plain": [
       "'77'"
      ]
     },
     "execution_count": 3,
     "metadata": {},
     "output_type": "execute_result"
    }
   ],
   "source": [
    "'7'+str(7)"
   ]
  },
  {
   "cell_type": "code",
   "execution_count": 5,
   "id": "f241845f-b4df-49cd-b8ea-10ed1ac59185",
   "metadata": {},
   "outputs": [
    {
     "data": {
      "text/plain": [
       "52.5"
      ]
     },
     "execution_count": 5,
     "metadata": {},
     "output_type": "execute_result"
    }
   ],
   "source": [
    "7*7.5\n"
   ]
  },
  {
   "cell_type": "code",
   "execution_count": 7,
   "id": "606e7eaa-3691-43f3-b9ea-db13c96116e2",
   "metadata": {},
   "outputs": [
    {
     "data": {
      "text/plain": [
       "'7777777'"
      ]
     },
     "execution_count": 7,
     "metadata": {},
     "output_type": "execute_result"
    }
   ],
   "source": [
    "'7'*7        #product works only with integer\n"
   ]
  },
  {
   "cell_type": "code",
   "execution_count": 9,
   "id": "99af0cc4-1a35-4002-8c99-a8ba5e82dbbe",
   "metadata": {},
   "outputs": [
    {
     "ename": "TypeError",
     "evalue": "can't multiply sequence by non-int of type 'float'",
     "output_type": "error",
     "traceback": [
      "\u001b[0;31m---------------------------------------------------------------------------\u001b[0m",
      "\u001b[0;31mTypeError\u001b[0m                                 Traceback (most recent call last)",
      "Cell \u001b[0;32mIn[9], line 1\u001b[0m\n\u001b[0;32m----> 1\u001b[0m \u001b[38;5;124m'\u001b[39m\u001b[38;5;124m7\u001b[39m\u001b[38;5;124m'\u001b[39m\u001b[38;5;241m*\u001b[39m\u001b[38;5;241m7.2\u001b[39m\n",
      "\u001b[0;31mTypeError\u001b[0m: can't multiply sequence by non-int of type 'float'"
     ]
    }
   ],
   "source": [
    "'7'*7.2"
   ]
  },
  {
   "cell_type": "code",
   "execution_count": 11,
   "id": "1e0a19d2-50f6-431b-9249-90bcb814ad9b",
   "metadata": {},
   "outputs": [
    {
     "name": "stdin",
     "output_type": "stream",
     "text": [
      "enter number 2\n",
      "enter number 3\n"
     ]
    },
    {
     "name": "stdout",
     "output_type": "stream",
     "text": [
      "5\n"
     ]
    }
   ],
   "source": [
    "#addition\n",
    "a=int(input(\"enter number\"))\n",
    "b=int(input(\"enter number\"))\n",
    "sum=a+b\n",
    "print(sum)\n"
   ]
  },
  {
   "cell_type": "code",
   "execution_count": 13,
   "id": "f73c2be2-d45c-4938-a310-e268fff0250d",
   "metadata": {},
   "outputs": [
    {
     "name": "stdin",
     "output_type": "stream",
     "text": [
      "enter number 6\n",
      "enter number 4\n"
     ]
    },
    {
     "name": "stdout",
     "output_type": "stream",
     "text": [
      "2\n"
     ]
    }
   ],
   "source": [
    "#subtraction\n",
    "a=int(input(\"enter number\"))\n",
    "b=int(input(\"enter number\"))\n",
    "sub=a-b\n",
    "print(sub)"
   ]
  },
  {
   "cell_type": "code",
   "execution_count": 17,
   "id": "9fa8cb39-d386-4fef-8d7f-e27dfd61bfe7",
   "metadata": {},
   "outputs": [
    {
     "name": "stdin",
     "output_type": "stream",
     "text": [
      "enter number 2\n",
      "enter number 3\n"
     ]
    },
    {
     "name": "stdout",
     "output_type": "stream",
     "text": [
      "6\n"
     ]
    }
   ],
   "source": [
    "#multiplication\n",
    "a=int(input(\"enter number\"))\n",
    "b=int(input(\"enter number\"))\n",
    "mul=a*b\n",
    "print(mul)"
   ]
  },
  {
   "cell_type": "code",
   "execution_count": 19,
   "id": "d1392aa2-3bba-4a47-95ab-6738e8b36790",
   "metadata": {},
   "outputs": [
    {
     "name": "stdin",
     "output_type": "stream",
     "text": [
      "enter number 4\n",
      "enter number 2\n"
     ]
    },
    {
     "name": "stdout",
     "output_type": "stream",
     "text": [
      "0\n"
     ]
    }
   ],
   "source": [
    "#reminder\n",
    "a=int(input(\"enter number\"))\n",
    "b=int(input(\"enter number\"))\n",
    "Rem=a%b\n",
    "print(Rem)"
   ]
  },
  {
   "cell_type": "code",
   "execution_count": 21,
   "id": "bb0004ef-42b4-4e94-99cb-e696135c888a",
   "metadata": {},
   "outputs": [
    {
     "name": "stdin",
     "output_type": "stream",
     "text": [
      "enter number 6\n",
      "enter number 3\n"
     ]
    },
    {
     "name": "stdout",
     "output_type": "stream",
     "text": [
      "2.0\n"
     ]
    }
   ],
   "source": [
    "#Division\n",
    "a=int(input(\"enter number\"))\n",
    "b=int(input(\"enter number\"))\n",
    "div=a/b\n",
    "print(div)"
   ]
  },
  {
   "cell_type": "code",
   "execution_count": 23,
   "id": "b1011094-1313-442c-9ab8-99d42ba65c3f",
   "metadata": {},
   "outputs": [
    {
     "name": "stdin",
     "output_type": "stream",
     "text": [
      "enter number 3\n",
      "enter number 2\n"
     ]
    },
    {
     "name": "stdout",
     "output_type": "stream",
     "text": [
      "9\n"
     ]
    }
   ],
   "source": [
    "#power\n",
    "a=int(input(\"enter number\"))\n",
    "b=int(input(\"enter number\"))\n",
    "pow=a**b\n",
    "print(pow)"
   ]
  },
  {
   "cell_type": "code",
   "execution_count": 29,
   "id": "0f0fafff-4fa6-4fd1-97a1-a3ac3b352cee",
   "metadata": {},
   "outputs": [
    {
     "name": "stdin",
     "output_type": "stream",
     "text": [
      "enter number 10\n",
      "enter number 3\n"
     ]
    },
    {
     "name": "stdout",
     "output_type": "stream",
     "text": [
      "3\n"
     ]
    }
   ],
   "source": [
    "#division in interger output\n",
    "a=int(input(\"enter number\"))\n",
    "b=int(input(\"enter number\"))\n",
    "s=a//b\n",
    "print(s)"
   ]
  },
  {
   "cell_type": "code",
   "execution_count": 31,
   "id": "563747f3-411c-4d2b-a060-066c08711c90",
   "metadata": {},
   "outputs": [
    {
     "name": "stdin",
     "output_type": "stream",
     "text": [
      "enter radius 2\n"
     ]
    },
    {
     "name": "stdout",
     "output_type": "stream",
     "text": [
      "12.56\n"
     ]
    }
   ],
   "source": [
    "#write a program to perform area of circle where r is user input\n",
    "\"\"\"kk\n",
    "fhfh\n",
    "djnf\"\"\"\n",
    "r=float(input(\"enter radius\"))\n",
    "ar=3.14*r*r\n",
    "print(ar)"
   ]
  },
  {
   "cell_type": "code",
   "execution_count": 33,
   "id": "db047762-6194-4759-885c-e04feb22e6a8",
   "metadata": {},
   "outputs": [
    {
     "name": "stdin",
     "output_type": "stream",
     "text": [
      "enter radius 2\n"
     ]
    },
    {
     "name": "stdout",
     "output_type": "stream",
     "text": [
      "12.566370614359172\n"
     ]
    }
   ],
   "source": [
    "#write a program to perform area of circle where r is user input\n",
    "import math\n",
    "r=float(input(\"enter radius\"))\n",
    "ar=math.pi*r*r\n",
    "print(ar)"
   ]
  },
  {
   "cell_type": "code",
   "execution_count": 35,
   "id": "8d22cc85-535e-49ca-9893-b6d1fa09e94a",
   "metadata": {},
   "outputs": [
    {
     "name": "stdin",
     "output_type": "stream",
     "text": [
      "enter number 2\n",
      "enter number 4\n"
     ]
    },
    {
     "name": "stdout",
     "output_type": "stream",
     "text": [
      "4.0\n"
     ]
    }
   ],
   "source": [
    "#WAP to Area of Traingle where height and base are user input\n",
    "h=int(input(\"enter number\"))\n",
    "b=int(input(\"enter number\"))\n",
    "ar=1/2*h*b\n",
    "print(ar)"
   ]
  },
  {
   "cell_type": "code",
   "execution_count": 37,
   "id": "5b84c909-8fd0-4620-8be2-3b5a46ad539f",
   "metadata": {},
   "outputs": [
    {
     "name": "stdout",
     "output_type": "stream",
     "text": [
      "n1 is smaller\n",
      "if block\n"
     ]
    }
   ],
   "source": [
    "#if condition\n",
    "n1=30\n",
    "n2=32\n",
    "if(n1<n2):\n",
    "    print(\"n1 is smaller\")\n",
    "    print(\"if block\")\n",
    "elif(n1>n2):\n",
    "    print(\"n1 is greater\")\n",
    "    print(\"else block\")\n",
    "else:\n",
    "    print(\"both are equal\")"
   ]
  },
  {
   "cell_type": "code",
   "execution_count": 41,
   "id": "eb386152-caff-4a49-b628-65f06898e96d",
   "metadata": {},
   "outputs": [
    {
     "name": "stdin",
     "output_type": "stream",
     "text": [
      "enter number -4\n"
     ]
    },
    {
     "name": "stdout",
     "output_type": "stream",
     "text": [
      "negative\n"
     ]
    }
   ],
   "source": [
    "#wap to check a given number is positive or negative\n",
    "a=int(input(\"enter number\"))\n",
    "if(a<0):\n",
    "    print(\"negative\")\n",
    "elif(a>0):\n",
    "    print(\"positive\")\n",
    "else:\n",
    "    print(\"invalid\")"
   ]
  },
  {
   "cell_type": "code",
   "execution_count": 45,
   "id": "42e63dc4-9ca1-48ef-811e-171c4e4108c6",
   "metadata": {},
   "outputs": [
    {
     "name": "stdin",
     "output_type": "stream",
     "text": [
      "enter number 6\n"
     ]
    },
    {
     "name": "stdout",
     "output_type": "stream",
     "text": [
      "even\n"
     ]
    }
   ],
   "source": [
    "#wap to check given number is even or odd\n",
    "a=int(input(\"enter number\"))\n",
    "if(a%2==0):\n",
    "    print(\"even\")\n",
    "else:\n",
    "    print(\"odd\")"
   ]
  },
  {
   "cell_type": "code",
   "execution_count": null,
   "id": "56923ef6-63b7-43e5-82b8-13bb57c6336f",
   "metadata": {},
   "outputs": [],
   "source": []
  }
 ],
 "metadata": {
  "kernelspec": {
   "display_name": "Python [conda env:base] *",
   "language": "python",
   "name": "conda-base-py"
  },
  "language_info": {
   "codemirror_mode": {
    "name": "ipython",
    "version": 3
   },
   "file_extension": ".py",
   "mimetype": "text/x-python",
   "name": "python",
   "nbconvert_exporter": "python",
   "pygments_lexer": "ipython3",
   "version": "3.12.7"
  }
 },
 "nbformat": 4,
 "nbformat_minor": 5
}
