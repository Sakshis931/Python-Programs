{
 "cells": [
  {
   "cell_type": "code",
   "execution_count": null,
   "id": "e7f7a635-2cda-4eaa-8bff-21482eb1dc8a",
   "metadata": {},
   "outputs": [],
   "source": [
    "num=5"
   ]
  },
  {
   "cell_type": "code",
   "execution_count": null,
   "id": "ed939610-eacb-4db6-82a0-c39dc252c624",
   "metadata": {},
   "outputs": [],
   "source": [
    "id(num)"
   ]
  },
  {
   "cell_type": "code",
   "execution_count": null,
   "id": "0b2f0c89-733a-484f-86ec-007ae99fb59d",
   "metadata": {},
   "outputs": [],
   "source": [
    "name='sadd'"
   ]
  },
  {
   "cell_type": "markdown",
   "id": "8e9a122f-2031-4dac-a3d0-e676d99b0848",
   "metadata": {},
   "source": [
    "id(name)"
   ]
  },
  {
   "cell_type": "code",
   "execution_count": null,
   "id": "27fa4085-9c10-4c98-a808-30c33ecfeeb6",
   "metadata": {},
   "outputs": [],
   "source": [
    "a=10"
   ]
  },
  {
   "cell_type": "code",
   "execution_count": null,
   "id": "32c4cace-fddc-49c3-a05f-125e4f7419d9",
   "metadata": {},
   "outputs": [],
   "source": [
    "b=a"
   ]
  },
  {
   "cell_type": "code",
   "execution_count": null,
   "id": "f1562a0a-9148-403e-8696-4f9fc8ae6ebb",
   "metadata": {},
   "outputs": [],
   "source": [
    "a"
   ]
  },
  {
   "cell_type": "code",
   "execution_count": null,
   "id": "a1641692-0df9-448e-8df9-d48ecdec666a",
   "metadata": {},
   "outputs": [],
   "source": [
    "b"
   ]
  },
  {
   "cell_type": "code",
   "execution_count": null,
   "id": "da76ebb4-5dab-4011-84e8-2392dec149e6",
   "metadata": {},
   "outputs": [],
   "source": [
    "id(a)"
   ]
  },
  {
   "cell_type": "code",
   "execution_count": null,
   "id": "60ee3176-efca-4fa7-9eca-7665c7ab6c84",
   "metadata": {},
   "outputs": [],
   "source": [
    "id(b)"
   ]
  },
  {
   "cell_type": "code",
   "execution_count": null,
   "id": "318a8e93-9444-44bd-82ee-37c807bfa328",
   "metadata": {},
   "outputs": [],
   "source": [
    "id(10)"
   ]
  },
  {
   "cell_type": "code",
   "execution_count": null,
   "id": "36d254df-8853-4db7-8ec7-ddaff0c40af8",
   "metadata": {},
   "outputs": [],
   "source": [
    "k=9"
   ]
  },
  {
   "cell_type": "code",
   "execution_count": null,
   "id": "94da6fbc-a34a-4c64-8c04-2574785d00f8",
   "metadata": {},
   "outputs": [],
   "source": [
    "id(k)"
   ]
  },
  {
   "cell_type": "code",
   "execution_count": null,
   "id": "5e293d3f-fb09-44f4-8356-ef1041850d76",
   "metadata": {},
   "outputs": [],
   "source": [
    "k=a"
   ]
  },
  {
   "cell_type": "code",
   "execution_count": null,
   "id": "7ba3a675-0fb9-4a9b-b80f-8a31a65bdbdc",
   "metadata": {},
   "outputs": [],
   "source": [
    "id(k)"
   ]
  },
  {
   "cell_type": "code",
   "execution_count": null,
   "id": "fb6ba8a4-9cb0-49b3-8adf-e98db9bba294",
   "metadata": {},
   "outputs": [],
   "source": [
    "k"
   ]
  },
  {
   "cell_type": "code",
   "execution_count": null,
   "id": "bd39481a-2cfb-4b55-9ef8-3695dbcdbd92",
   "metadata": {},
   "outputs": [],
   "source": [
    "k=!a"
   ]
  },
  {
   "cell_type": "code",
   "execution_count": null,
   "id": "a7d65e3c-ab2d-4a6d-8ddf-c745f10d4264",
   "metadata": {},
   "outputs": [],
   "source": [
    "k=3"
   ]
  },
  {
   "cell_type": "code",
   "execution_count": null,
   "id": "7613f35a-c5ac-4c0c-b974-5ed81db73047",
   "metadata": {},
   "outputs": [],
   "source": [
    "k"
   ]
  },
  {
   "cell_type": "code",
   "execution_count": null,
   "id": "8efa3fc9-bac3-42ac-a4ec-695ecab07e48",
   "metadata": {},
   "outputs": [],
   "source": [
    "num=2.5"
   ]
  },
  {
   "cell_type": "code",
   "execution_count": null,
   "id": "55448ae9-8a73-4bb8-bc3c-90f30a45c6c8",
   "metadata": {},
   "outputs": [],
   "source": [
    "type(num)"
   ]
  },
  {
   "cell_type": "code",
   "execution_count": null,
   "id": "9d264058-253d-4c1b-b8c3-61e80ff3efba",
   "metadata": {},
   "outputs": [],
   "source": [
    "num=5"
   ]
  },
  {
   "cell_type": "code",
   "execution_count": null,
   "id": "65589891-ffb4-4503-8b84-78b74e89ee29",
   "metadata": {},
   "outputs": [],
   "source": [
    "type(num)"
   ]
  },
  {
   "cell_type": "code",
   "execution_count": null,
   "id": "2618d848-f972-4147-a465-76b69755057a",
   "metadata": {},
   "outputs": [],
   "source": [
    "nuum=8+9j"
   ]
  },
  {
   "cell_type": "code",
   "execution_count": null,
   "id": "9d4ae5cd-41ea-4975-a1d5-96d379937099",
   "metadata": {},
   "outputs": [],
   "source": [
    "type(nuum)"
   ]
  },
  {
   "cell_type": "code",
   "execution_count": null,
   "id": "6a9c6031-1791-4876-b4f8-73a6e7fff78f",
   "metadata": {},
   "outputs": [],
   "source": [
    "a=5.6"
   ]
  },
  {
   "cell_type": "code",
   "execution_count": null,
   "id": "8cc6bf47-0e32-4c2f-bfc7-7dbb3657771d",
   "metadata": {},
   "outputs": [],
   "source": [
    "b=int(a)"
   ]
  },
  {
   "cell_type": "code",
   "execution_count": null,
   "id": "3b2afc35-ac7a-4da1-affa-28042a9f96f0",
   "metadata": {},
   "outputs": [],
   "source": [
    "type(b)"
   ]
  },
  {
   "cell_type": "code",
   "execution_count": null,
   "id": "e6ac81af-c064-491e-9b46-70bea542bb9d",
   "metadata": {},
   "outputs": [],
   "source": [
    "b"
   ]
  },
  {
   "cell_type": "code",
   "execution_count": null,
   "id": "6d50ec1f-9c6c-4868-9d6e-01f12ce36571",
   "metadata": {},
   "outputs": [],
   "source": [
    "k=float(b)"
   ]
  },
  {
   "cell_type": "code",
   "execution_count": null,
   "id": "b084d204-d146-4b65-894b-5def6b82beb0",
   "metadata": {},
   "outputs": [],
   "source": [
    "k"
   ]
  },
  {
   "cell_type": "code",
   "execution_count": null,
   "id": "a2788f0d-1c26-4a02-abaa-1314139c6700",
   "metadata": {},
   "outputs": [],
   "source": [
    "k=6"
   ]
  },
  {
   "cell_type": "code",
   "execution_count": null,
   "id": "01ef2a6e-fc9e-4684-b037-e2b4804737b7",
   "metadata": {},
   "outputs": [],
   "source": [
    "c=complex(b,k)"
   ]
  },
  {
   "cell_type": "code",
   "execution_count": null,
   "id": "193dcf7f-4548-4442-8916-ca701b0a65fb",
   "metadata": {},
   "outputs": [],
   "source": [
    "c"
   ]
  },
  {
   "cell_type": "code",
   "execution_count": null,
   "id": "7579f7c5-8508-4149-b31d-ea648400789d",
   "metadata": {},
   "outputs": [],
   "source": [
    "b<k"
   ]
  },
  {
   "cell_type": "code",
   "execution_count": null,
   "id": "d40be6f8-527e-422b-9d2f-32b47eac16f2",
   "metadata": {},
   "outputs": [],
   "source": [
    "bool=b<k"
   ]
  },
  {
   "cell_type": "code",
   "execution_count": null,
   "id": "c0578bdb-ee79-4f4d-bc8a-4ab1a5dc8840",
   "metadata": {},
   "outputs": [],
   "source": [
    "bool"
   ]
  },
  {
   "cell_type": "code",
   "execution_count": null,
   "id": "fbe02a13-c777-4e24-b0d3-bd62b0cd2ee5",
   "metadata": {},
   "outputs": [],
   "source": [
    "range(10)"
   ]
  },
  {
   "cell_type": "code",
   "execution_count": null,
   "id": "0fd220a4-5f76-4fe4-b2a9-244155e22766",
   "metadata": {},
   "outputs": [],
   "source": [
    "list(range(10))"
   ]
  },
  {
   "cell_type": "code",
   "execution_count": null,
   "id": "b8d1017f-14b7-4fd2-a49d-b8877c4b2ea2",
   "metadata": {},
   "outputs": [],
   "source": [
    "list(range(2,11,2))"
   ]
  },
  {
   "cell_type": "code",
   "execution_count": null,
   "id": "1ac011ec-9d35-4a23-b547-f2e57e2dafc1",
   "metadata": {},
   "outputs": [],
   "source": [
    "bin(25)"
   ]
  },
  {
   "cell_type": "code",
   "execution_count": null,
   "id": "26c858b4-9df3-48c8-b71f-415435c933ea",
   "metadata": {},
   "outputs": [],
   "source": [
    " ~12"
   ]
  },
  {
   "cell_type": "code",
   "execution_count": null,
   "id": "a2c57771-6b40-4007-9e14-b74cab442432",
   "metadata": {},
   "outputs": [],
   "source": [
    "~1"
   ]
  },
  {
   "cell_type": "code",
   "execution_count": null,
   "id": "7964b06a-5479-435e-991d-606a321d098c",
   "metadata": {},
   "outputs": [],
   "source": [
    "~0"
   ]
  },
  {
   "cell_type": "code",
   "execution_count": null,
   "id": "8a9d151a-b6b7-4f64-a3fd-9e3f4efa930d",
   "metadata": {},
   "outputs": [],
   "source": [
    "x=sqrt(25)"
   ]
  },
  {
   "cell_type": "code",
   "execution_count": null,
   "id": "84e9f123-f10a-4228-bb3f-4df2e8af2469",
   "metadata": {},
   "outputs": [],
   "source": [
    "import math"
   ]
  },
  {
   "cell_type": "code",
   "execution_count": null,
   "id": "9ef45841-a384-41bf-b2ed-8ef46bcf7c54",
   "metadata": {},
   "outputs": [],
   "source": [
    "x=math.sqrt(25)"
   ]
  },
  {
   "cell_type": "code",
   "execution_count": null,
   "id": "e50a3454-04ff-436d-b4ed-cc81a5f106bb",
   "metadata": {},
   "outputs": [],
   "source": [
    "x"
   ]
  },
  {
   "cell_type": "code",
   "execution_count": null,
   "id": "cfb0aa2d-e00b-45c8-8638-db2b04aa021a",
   "metadata": {},
   "outputs": [],
   "source": [
    "x"
   ]
  },
  {
   "cell_type": "code",
   "execution_count": null,
   "id": "ff51f39d-c249-498f-a252-a183afa32075",
   "metadata": {},
   "outputs": [],
   "source": [
    "x"
   ]
  },
  {
   "cell_type": "code",
   "execution_count": null,
   "id": "6a50f8e6-2e41-4c79-89e3-22d59c8aedab",
   "metadata": {},
   "outputs": [],
   "source": [
    "print(math.floor(2.9))"
   ]
  },
  {
   "cell_type": "code",
   "execution_count": null,
   "id": "7db5b4d3-2604-405c-9c85-52da9dca245d",
   "metadata": {},
   "outputs": [],
   "source": [
    "print(math.ceil(2.9))"
   ]
  },
  {
   "cell_type": "code",
   "execution_count": null,
   "id": "fd990165-5070-41d1-b9ab-aa8525bf4cff",
   "metadata": {},
   "outputs": [],
   "source": [
    "3**2"
   ]
  },
  {
   "cell_type": "code",
   "execution_count": null,
   "id": "75533db4-a42c-4894-bf3b-cf3a42cd83a5",
   "metadata": {},
   "outputs": [],
   "source": [
    " print(math.pow(3,5))"
   ]
  },
  {
   "cell_type": "code",
   "execution_count": null,
   "id": "d9e6c598-502b-44a2-bef7-4188e037c94d",
   "metadata": {},
   "outputs": [],
   "source": [
    "print(math.pi)"
   ]
  },
  {
   "cell_type": "code",
   "execution_count": null,
   "id": "f6b873f5-2584-4b0f-b6c3-c3bd845e7603",
   "metadata": {},
   "outputs": [],
   "source": [
    "print(math.e)"
   ]
  },
  {
   "cell_type": "code",
   "execution_count": null,
   "id": "98e61280-421e-43b3-93e6-e7e8521ee792",
   "metadata": {},
   "outputs": [],
   "source": [
    "m.sqrt(25)"
   ]
  },
  {
   "cell_type": "code",
   "execution_count": null,
   "id": "91c1cb40-904f-4a48-b504-ab628b9fa151",
   "metadata": {},
   "outputs": [],
   "source": [
    "import math as m"
   ]
  },
  {
   "cell_type": "code",
   "execution_count": null,
   "id": "0154e2c5-fade-474c-81f5-0e0e7dcb2553",
   "metadata": {},
   "outputs": [],
   "source": [
    "m.sqrt(25)"
   ]
  },
  {
   "cell_type": "code",
   "execution_count": null,
   "id": "f6296811-a184-406f-b4fb-336492e8604b",
   "metadata": {},
   "outputs": [],
   "source": [
    "print(m.pow(2,3))"
   ]
  },
  {
   "cell_type": "code",
   "execution_count": null,
   "id": "195894c7-c108-40c5-a73a-a900170cd04c",
   "metadata": {},
   "outputs": [],
   "source": [
    "from math import sqrt, pow"
   ]
  },
  {
   "cell_type": "code",
   "execution_count": null,
   "id": "5d18d7ed-57a6-49db-9813-2891d3dde9b2",
   "metadata": {},
   "outputs": [],
   "source": [
    "pow (2,3)"
   ]
  },
  {
   "cell_type": "code",
   "execution_count": null,
   "id": "3b2a569f-0ced-4aff-bc5f-321dc0602d46",
   "metadata": {},
   "outputs": [],
   "source": [
    "help(math)"
   ]
  },
  {
   "cell_type": "code",
   "execution_count": null,
   "id": "1487994a-b778-4a9c-8ee7-c6e9ea4c7193",
   "metadata": {},
   "outputs": [],
   "source": [
    "a=5"
   ]
  },
  {
   "cell_type": "code",
   "execution_count": null,
   "id": "f8f505ad-b9c3-4e78-a6a3-b6deae04cad0",
   "metadata": {},
   "outputs": [],
   "source": [
    "b=6"
   ]
  },
  {
   "cell_type": "code",
   "execution_count": null,
   "id": "de5a624c-402d-4ec2-a114-ee4235c4ebd8",
   "metadata": {},
   "outputs": [],
   "source": [
    "#swap of variables using 3 variables\n",
    "temp=a\n",
    "a=b\n",
    "b=temp"
   ]
  },
  {
   "cell_type": "code",
   "execution_count": null,
   "id": "46b89ff4-f3b8-45bf-a7de-2081a8621892",
   "metadata": {},
   "outputs": [],
   "source": [
    "print(a)"
   ]
  },
  {
   "cell_type": "code",
   "execution_count": null,
   "id": "ee03fea7-45df-4272-92d6-0c2ba3314959",
   "metadata": {},
   "outputs": [],
   "source": [
    "#if interviewer asks to swap the value using two variable only\n",
    "a=a+b\n",
    "b=a-b\n",
    "a=a-b"
   ]
  },
  {
   "cell_type": "code",
   "execution_count": null,
   "id": "f3ce57e6-4eb1-44af-9e52-9dd96fae2ad9",
   "metadata": {},
   "outputs": [],
   "source": [
    "print(a)"
   ]
  },
  {
   "cell_type": "code",
   "execution_count": null,
   "id": "61bf1037-f7b0-4248-94a0-1f84b0aebf2a",
   "metadata": {},
   "outputs": [],
   "source": [
    "print(b)"
   ]
  },
  {
   "cell_type": "code",
   "execution_count": null,
   "id": "5bd5065d-b4e0-4f6f-8978-710c870895b0",
   "metadata": {},
   "outputs": [],
   "source": [
    "a=a^b\n",
    "b=a^b\n",
    "a=a^b"
   ]
  },
  {
   "cell_type": "code",
   "execution_count": null,
   "id": "8223e7e3-74bc-4c91-aef3-94747822de8a",
   "metadata": {},
   "outputs": [],
   "source": [
    "a"
   ]
  },
  {
   "cell_type": "code",
   "execution_count": null,
   "id": "ad342e93-f3a0-4cc0-8092-3cbe4af434ca",
   "metadata": {},
   "outputs": [],
   "source": [
    "a"
   ]
  },
  {
   "cell_type": "code",
   "execution_count": null,
   "id": "28d425a8-11ae-4d2b-87c5-765f1ffb35ef",
   "metadata": {},
   "outputs": [],
   "source": [
    "b"
   ]
  },
  {
   "cell_type": "code",
   "execution_count": null,
   "id": "a630fcd2-3a61-48e0-bb5e-1bb173aca1b5",
   "metadata": {},
   "outputs": [],
   "source": [
    "#3 way of rotation two\n",
    "a,b=b,a"
   ]
  },
  {
   "cell_type": "code",
   "execution_count": null,
   "id": "59addb49-531a-453f-ad0b-ecdb2fce8035",
   "metadata": {},
   "outputs": [],
   "source": [
    "a"
   ]
  },
  {
   "cell_type": "code",
   "execution_count": null,
   "id": "e4d799d0-0bbc-4163-974e-90da67465680",
   "metadata": {},
   "outputs": [],
   "source": [
    "b"
   ]
  },
  {
   "cell_type": "code",
   "execution_count": null,
   "id": "39415068-7c6c-4b43-bdb2-d84f78dc8fec",
   "metadata": {},
   "outputs": [],
   "source": [
    "a=3\n",
    "b=8\n",
    "c=a+b\n",
    "print(c)"
   ]
  },
  {
   "cell_type": "code",
   "execution_count": null,
   "id": "bd03ce44-01a1-4bc1-a5e8-b98ec613aae7",
   "metadata": {},
   "outputs": [],
   "source": [
    "x=9"
   ]
  },
  {
   "cell_type": "code",
   "execution_count": null,
   "id": "c0dbe1e2-9825-43e1-8cbd-dc9f0a9319a1",
   "metadata": {},
   "outputs": [],
   "source": [
    "r=x%2"
   ]
  },
  {
   "cell_type": "code",
   "execution_count": null,
   "id": "30a40d9f-fdda-44d8-9ad8-385815758493",
   "metadata": {},
   "outputs": [],
   "source": [
    "x=8\n",
    "r=x%2\n",
    "if r==0:\n",
    "    print(\"even\")\n",
    "if(r==1):\n",
    "    print(\"bye\")\n",
    "    "
   ]
  },
  {
   "cell_type": "code",
   "execution_count": null,
   "id": "70c31e9c-5e2c-4179-aa59-dc079fa17529",
   "metadata": {},
   "outputs": [],
   "source": []
  },
  {
   "cell_type": "code",
   "execution_count": null,
   "id": "9155f01b-4482-4100-8bf0-22e1a95ba28a",
   "metadata": {},
   "outputs": [],
   "source": []
  },
  {
   "cell_type": "code",
   "execution_count": null,
   "id": "5a4af088-7866-46ae-a269-2c2ce432cdda",
   "metadata": {},
   "outputs": [],
   "source": [
    "if False:\n",
    "    print(\"IM RIGHT\")\n",
    "print(\"bye\")\n",
    "    "
   ]
  },
  {
   "cell_type": "code",
   "execution_count": null,
   "id": "390d5595-5bf5-496c-965d-2153ead67b13",
   "metadata": {},
   "outputs": [],
   "source": [
    "print(\"Tele\")"
   ]
  },
  {
   "cell_type": "code",
   "execution_count": null,
   "id": "ce6c469d-060d-4676-95a3-af207e7a3386",
   "metadata": {},
   "outputs": [],
   "source": [
    "i=1"
   ]
  },
  {
   "cell_type": "code",
   "execution_count": null,
   "id": "b13a6814-da93-425e-8571-4d28e504b232",
   "metadata": {},
   "outputs": [],
   "source": []
  },
  {
   "cell_type": "code",
   "execution_count": null,
   "id": "58ccb6ae-0dbf-4119-8cba-fe21157c1cf7",
   "metadata": {},
   "outputs": [],
   "source": [
    "#while loop\n",
    "i=1\n",
    "while i<=5:\n",
    "    print(\"tele\")\n",
    "    i=i+1"
   ]
  },
  {
   "cell_type": "code",
   "execution_count": null,
   "id": "49742454-a02a-43b6-aba3-0dd9de1adea5",
   "metadata": {},
   "outputs": [],
   "source": [
    "i=5\n",
    "while i>=1:\n",
    "    print(\"tele\")\n",
    "    i=i-1"
   ]
  },
  {
   "cell_type": "code",
   "execution_count": null,
   "id": "6a6bbbbd-0a9b-4fd6-8738-e95ea1f8adaf",
   "metadata": {},
   "outputs": [],
   "source": [
    "i=1\n",
    "while(i<=5):\n",
    "     print(\"tele\", end =\" \")\n",
    "j=1\n",
    "while(j<=5):\n",
    "      print(\"rock\", end  =\" \")\n",
    "j=j+1\n",
    "i=i+1\n",
    "print()"
   ]
  },
  {
   "cell_type": "code",
   "execution_count": null,
   "id": "c531f2f4-e695-4354-8d79-8363a4b6c515",
   "metadata": {
    "jupyter": {
     "source_hidden": true
    }
   },
   "outputs": [],
   "source": [
    "#Write a Python code to concatenate two strings\n",
    "str1 =\"my name\"\n",
    "str2 =\"is sakshi\"\n",
    "c=str1+\" \"+str2\n",
    "print(c)\n"
   ]
  },
  {
   "cell_type": "code",
   "execution_count": null,
   "id": "ca25a384-4593-490e-b82c-85e56cda99c8",
   "metadata": {},
   "outputs": [],
   "source": [
    "# Write a Python program to find the maximum of three numbers\n",
    "a=int(input(\"enter\"))\n",
    "b=int(input(\"enter 2 number\"))\n",
    "if a>b:\n",
    "    print(\"a is max\")\n",
    "else:\n",
    "    print(\"b max\")"
   ]
  },
  {
   "cell_type": "code",
   "execution_count": null,
   "id": "a451197a-2c34-4df9-a652-b19819887720",
   "metadata": {},
   "outputs": [],
   "source": [
    "#Write a Python program to count the number of vowels in a string\n",
    "str=\"ramramram\"\n",
    "if(str.char=='a' || str.char=='e'||str.char=='i'||str.char=='o'||str.char=='u'):\n",
    "      print(\"v is there\")"
   ]
  },
  {
   "cell_type": "code",
   "execution_count": null,
   "id": "40b734de-12f0-4de9-aa6a-eeda9438c9c9",
   "metadata": {
    "scrolled": true
   },
   "outputs": [],
   "source": [
    "#Write a Python program to count the number of vowels in a string\n",
    "str=\"ramramram\"\n",
    "ch=str.lower()\n",
    "print(ch)\n",
    "if(ch('a')):\n",
    "    print(\"a is present\")"
   ]
  },
  {
   "cell_type": "code",
   "execution_count": null,
   "id": "b507bac1-f8ab-44dd-87d6-05a74451ce20",
   "metadata": {},
   "outputs": [],
   "source": [
    "i=1"
   ]
  },
  {
   "cell_type": "code",
   "execution_count": null,
   "id": "7a2a370b-b69e-404c-b9bd-92b6442831fc",
   "metadata": {},
   "outputs": [],
   "source": [
    "# pip install pyaudio\n",
    "\n",
    "import pyttsx3 #pip install pyttsx3\n",
    "import speech_recognition as sr #pip install speechRecognition\n",
    "import datetime\n",
    "import wikipedia #pip install wikipedia\n",
    "import webbrowser\n",
    "import os\n",
    "import smtplib\n",
    "\n",
    "engine = pyttsx3.init('sapi5')\n",
    "voices = engine.getProperty('voices')\n",
    "# print(voices[1].id)\n",
    "engine.setProperty('voice', voices[0].id)\n",
    "\n",
    "\n",
    "def speak(audio):\n",
    "    engine.say(audio)\n",
    "    engine.runAndWait()\n",
    "\n",
    "\n",
    "def wishMe():\n",
    "    hour = int(datetime.datetime.now().hour)\n",
    "    if hour>=0 and hour<12:\n",
    "        speak(\"Good Morning!\")\n",
    "\n",
    "    elif hour>=12 and hour<18:\n",
    "        speak(\"Good Afternoon!\")   \n",
    "\n",
    "    else:\n",
    "        speak(\"Good Evening!\")  \n",
    "\n",
    "    speak(\"I am Jarvis Sir. Please tell me how may I help you\")       \n",
    "\n",
    "def takeCommand():\n",
    "    #It takes microphone input from the user and returns string output\n",
    "\n",
    "    r = sr.Recognizer()\n",
    "    with sr.Microphone() as source:\n",
    "        print(\"Listening...\")\n",
    "        r.pause_threshold = 1\n",
    "        audio = r.listen(source)\n",
    "\n",
    "    try:\n",
    "        print(\"Recognizing...\")    \n",
    "        query = r.recognize_google(audio, language='en-in')\n",
    "        print(f\"User said: {query}\\n\")\n",
    "\n",
    "    except Exception as e:\n",
    "        # print(e)    \n",
    "        print(\"Say that again please...\")  \n",
    "        return \"None\"\n",
    "    return query\n",
    "\n",
    "def sendEmail(to, content):\n",
    "    server = smtplib.SMTP('smtp.gmail.com', 587)\n",
    "    server.ehlo()\n",
    "    server.starttls()\n",
    "    server.login('youremail@gmail.com', 'your-password')\n",
    "    server.sendmail('youremail@gmail.com', to, content)\n",
    "    server.close()\n",
    "\n",
    "if __name__ == \"__main__\":\n",
    "    wishMe()\n",
    "    while True:\n",
    "    # if 1:\n",
    "        query = takeCommand().lower()\n",
    "\n",
    "        # Logic for executing tasks based on query\n",
    "        if 'wikipedia' in query:\n",
    "            speak('Searching Wikipedia...')\n",
    "            query = query.replace(\"wikipedia\", \"\")\n",
    "            results = wikipedia.summary(query, sentences=2)\n",
    "            speak(\"According to Wikipedia\")\n",
    "            print(results)\n",
    "            speak(results)\n",
    "\n",
    "        elif 'open youtube' in query:\n",
    "            webbrowser.open(\"youtube.com\")\n",
    "\n",
    "        elif 'open google' in query:\n",
    "            webbrowser.open(\"google.com\")\n",
    "\n",
    "        elif 'open stackoverflow' in query:\n",
    "            webbrowser.open(\"stackoverflow.com\")   \n",
    "\n",
    "\n",
    "        elif 'play music' in query:\n",
    "            music_dir = 'D:\\\\Non Critical\\\\songs\\\\Favorite Songs2'\n",
    "            songs = os.listdir(music_dir)\n",
    "            print(songs)    \n",
    "            os.startfile(os.path.join(music_dir, songs[0]))\n",
    "\n",
    "        elif 'the time' in query:\n",
    "            strTime = datetime.datetime.now().strftime(\"%H:%M:%S\")    \n",
    "            speak(f\"Sir, the time is {strTime}\")\n",
    "\n",
    "        elif 'open code' in query:\n",
    "            codePath = \"C:\\\\Users\\\\Haris\\\\AppData\\\\Local\\\\Programs\\\\Microsoft VS Code\\\\Code.exe\"\n",
    "            os.startfile(codePath)\n",
    "\n",
    "        elif 'email to harry' in query:\n",
    "            try:\n",
    "                speak(\"What should I say?\")\n",
    "                content = takeCommand()\n",
    "                to = \"harryyourEmail@gmail.com\"    \n",
    "                sendEmail(to, content)\n",
    "                speak(\"Email has been sent!\")\n",
    "            except Exception as e:\n",
    "                print(e)\n",
    "                speak(\"Sorry my friend harry bhai. I am not able to send this email\")    \n",
    "        else:\n",
    "            print(\"No query matched\")"
   ]
  },
  {
   "cell_type": "code",
   "execution_count": null,
   "id": "3c2cbf23-b893-489e-9e2b-358ebe4fb9bf",
   "metadata": {},
   "outputs": [],
   "source": [
    "# Python Tkinter GUI based \"LOVE CALCULATOR\"\n",
    "\n",
    "# import tkinter\n",
    "from tkinter import *\n",
    "# import random module\n",
    "import random\n",
    "# Creating GUI window\n",
    "root = Tk()\n",
    "# Defining the container size, width=400, height=240\n",
    "root.geometry('800x240')\n",
    "# Title of the container\n",
    "root.title('Love Calculator????')\n",
    "\n",
    "# Function to calculate love percentage\n",
    "# between the user ans partner\n",
    "\n",
    "\n",
    "def calculate_love():\n",
    "\t# value will contain digits between 0-9\n",
    "\tst = '0123456789'\n",
    "\t# result will be in double digits\n",
    "\tdigit = 2\n",
    "\ttemp = \"\".join(random.sample(st, digit))\n",
    "\tresult.config(text=temp)\n",
    "\n",
    "\n",
    "# Heading on Top\n",
    "heading = Label(root, text='Love Calculator - How much is he/she into you')\n",
    "heading.pack()\n",
    "\n",
    "# Slot/input for the first name\n",
    "slot1 = Label(root, text=\"Enter Your Name:\")\n",
    "slot1.pack()\n",
    "name1 = Entry(root, border=5)\n",
    "name1.pack()\n",
    "\n",
    "# Slot/input for the partner name\n",
    "slot2 = Label(root, text=\"Enter Your Partner Name:\")\n",
    "slot2.pack()\n",
    "name2 = Entry(root, border=5)\n",
    "name2.pack()\n",
    "\n",
    "bt = Button(root, text=\"Calculate\", height=1,\n",
    "\t\t\twidth=7, command=calculate_love)\n",
    "bt.pack()\n",
    "\n",
    "# Text on result slot\n",
    "result = Label(root, text='Love Percentage between both of You:')\n",
    "result.pack()\n",
    "\n",
    "# Starting the GUI\n",
    "root.mainloop()\n"
   ]
  },
  {
   "cell_type": "code",
   "execution_count": 1,
   "id": "b5aeff9e-6720-425b-8d2d-e87be1b3bb6d",
   "metadata": {},
   "outputs": [
    {
     "ename": "ModuleNotFoundError",
     "evalue": "No module named 'pygame'",
     "output_type": "error",
     "traceback": [
      "\u001b[0;31m---------------------------------------------------------------------------\u001b[0m",
      "\u001b[0;31mModuleNotFoundError\u001b[0m                       Traceback (most recent call last)",
      "Cell \u001b[0;32mIn[1], line 3\u001b[0m\n\u001b[1;32m      1\u001b[0m \u001b[38;5;28;01mimport\u001b[39;00m \u001b[38;5;21;01mrandom\u001b[39;00m \u001b[38;5;66;03m# For generating random numbers\u001b[39;00m\n\u001b[1;32m      2\u001b[0m \u001b[38;5;28;01mimport\u001b[39;00m \u001b[38;5;21;01msys\u001b[39;00m \u001b[38;5;66;03m#To exit the program\u001b[39;00m\n\u001b[0;32m----> 3\u001b[0m \u001b[38;5;28;01mimport\u001b[39;00m \u001b[38;5;21;01mpygame\u001b[39;00m \u001b[38;5;66;03m#pip install pygame\u001b[39;00m\n\u001b[1;32m      4\u001b[0m \u001b[38;5;28;01mfrom\u001b[39;00m \u001b[38;5;21;01mpygame\u001b[39;00m\u001b[38;5;21;01m.\u001b[39;00m\u001b[38;5;21;01mlocals\u001b[39;00m \u001b[38;5;28;01mimport\u001b[39;00m \u001b[38;5;241m*\u001b[39m \n\u001b[1;32m      5\u001b[0m \u001b[38;5;66;03m# Global Variables for the game\u001b[39;00m\n",
      "\u001b[0;31mModuleNotFoundError\u001b[0m: No module named 'pygame'"
     ]
    }
   ],
   "source": [
    "import random # For generating random numbers\n",
    "import sys #To exit the program\n",
    "import ModernGL #pip install ModernGL\n",
    "from ModernGL.locals import * \n",
    "# Global Variables for the game\n",
    "FPS = 32\n",
    "SCREENWIDTH = 289\n",
    "SCREENHEIGHT = 511\n",
    "SCREEN = ModernGL.display.set_mode((SCREENWIDTH, SCREENHEIGHT))\n",
    "GROUNDY = SCREENHEIGHT * 0.8\n",
    "GAME_SPRITES = {}\n",
    "GAME_SOUNDS = {}\n",
    "PLAYER = 'gallery/sprites/bird.png'\n",
    "BACKGROUND = 'gallery/sprites/background.png'\n",
    "PIPE = 'gallery/sprites/pipe.png'\n",
    "\n",
    "def welcomeScreen():\n",
    "\n",
    "    playerx = int(SCREENWIDTH/5)\n",
    "    playery = int((SCREENHEIGHT - GAME_SPRITES['player'].get_height())/2)\n",
    "    messagex = int((SCREENWIDTH - GAME_SPRITES['message'].get_width())/2)\n",
    "    messagey = int(SCREENHEIGHT*0.13)\n",
    "    basex = 0\n",
    "    while True:\n",
    "        for event in ModernGL.event.get():\n",
    "            # if user clicks on cross button, close the game\n",
    "            if event.type == QUIT or (event.type==KEYDOWN and event.key == K_ESCAPE):\n",
    "                ModernGL.quit()\n",
    "                sys.exit()\n",
    "\n",
    "            # If the user presses space or up key, start the game for them\n",
    "            elif event.type==KEYDOWN and (event.key==K_SPACE or event.key == K_UP):\n",
    "                return\n",
    "            else:\n",
    "                SCREEN.blit(GAME_SPRITES['background'], (0, 0))    \n",
    "                SCREEN.blit(GAME_SPRITES['player'], (playerx, playery))    \n",
    "                SCREEN.blit(GAME_SPRITES['message'], (messagex,messagey ))    \n",
    "                SCREEN.blit(GAME_SPRITES['base'], (basex, GROUNDY))    \n",
    "                ModernGL.display.update()\n",
    "                FPSCLOCK.tick(FPS)\n",
    "\n",
    "def mainGame():\n",
    "    score = 0\n",
    "    playerx = int(SCREENWIDTH/5)\n",
    "    playery = int(SCREENWIDTH/2)\n",
    "    basex = 0\n",
    "\n",
    "    # Create 2 pipes for blitting on the screen\n",
    "    newPipe1 = getRandomPipe()\n",
    "    newPipe2 = getRandomPipe()\n",
    "\n",
    "    # List of upper pipes\n",
    "    upperPipes = [\n",
    "        {'x': SCREENWIDTH+200, 'y':newPipe1[0]['y']},\n",
    "        {'x': SCREENWIDTH+200+(SCREENWIDTH/2), 'y':newPipe2[0]['y']},\n",
    "    ]\n",
    "    # List of lower pipes\n",
    "    lowerPipes = [\n",
    "        {'x': SCREENWIDTH+200, 'y':newPipe1[1]['y']},\n",
    "        {'x': SCREENWIDTH+200+(SCREENWIDTH/2), 'y':newPipe2[1]['y']},\n",
    "    ]\n",
    "\n",
    "    pipeVelX = -4\n",
    "\n",
    "    playerVelY = -9\n",
    "    playerMaxVelY = 10\n",
    "    playerMinVelY = -8\n",
    "    playerAccY = 1\n",
    "\n",
    "    playerFlapAccv = -8 # velocity while flapping\n",
    "    playerFlapped = False # It is true only when the bird is flapping\n",
    "\n",
    "\n",
    "    while True:\n",
    "        for event in ModernGL.event.get():\n",
    "            if event.type == QUIT or (event.type == KEYDOWN and event.key == K_ESCAPE):\n",
    "                ModernGL.quit()\n",
    "                sys.exit()\n",
    "            if event.type == KEYDOWN and (event.key == K_SPACE or event.key == K_UP):\n",
    "                if playery > 0:\n",
    "                    playerVelY = playerFlapAccv\n",
    "                    playerFlapped = True\n",
    "                    GAME_SOUNDS['wing'].play()\n",
    "\n",
    "\n",
    "        crashTest = isCollide(playerx, playery, upperPipes, lowerPipes) # This function will return true if the player is crashed\n",
    "        if crashTest:\n",
    "            return     \n",
    "\n",
    "        #check for score\n",
    "        playerMidPos = playerx + GAME_SPRITES['player'].get_width()/2\n",
    "        for pipe in upperPipes:\n",
    "            pipeMidPos = pipe['x'] + GAME_SPRITES['pipe'][0].get_width()/2\n",
    "            if pipeMidPos<= playerMidPos < pipeMidPos +4:\n",
    "                score +=1\n",
    "                print(f\"Your score is {score}\") \n",
    "                GAME_SOUNDS['point'].play()\n",
    "\n",
    "\n",
    "        if playerVelY <playerMaxVelY and not playerFlapped:\n",
    "            playerVelY += playerAccY\n",
    "\n",
    "        if playerFlapped:\n",
    "            playerFlapped = False            \n",
    "        playerHeight = GAME_SPRITES['player'].get_height()\n",
    "        playery = playery + min(playerVelY, GROUNDY - playery - playerHeight)\n",
    "\n",
    "        # Moving Pipes\n",
    "        for upperPipe , lowerPipe in zip(upperPipes, lowerPipes):\n",
    "            upperPipe['x'] += pipeVelX\n",
    "            lowerPipe['x'] += pipeVelX\n",
    "\n",
    "        # Adding Pipes\n",
    "        if 0<upperPipes[0]['x']<5:\n",
    "            newpipe = getRandomPipe()\n",
    "            upperPipes.append(newpipe[0])\n",
    "            lowerPipes.append(newpipe[1])\n",
    "\n",
    "        # Removing Pipes\n",
    "        if upperPipes[0]['x'] < -GAME_SPRITES['pipe'][0].get_width():\n",
    "            upperPipes.pop(0)\n",
    "            lowerPipes.pop(0)\n",
    "        \n",
    "        # Blitting The Sprites\n",
    "        SCREEN.blit(GAME_SPRITES['background'], (0, 0))\n",
    "        for upperPipe, lowerPipe in zip(upperPipes, lowerPipes):\n",
    "            SCREEN.blit(GAME_SPRITES['pipe'][0], (upperPipe['x'], upperPipe['y']))\n",
    "            SCREEN.blit(GAME_SPRITES['pipe'][1], (lowerPipe['x'], lowerPipe['y']))\n",
    "\n",
    "        SCREEN.blit(GAME_SPRITES['base'], (basex, GROUNDY))\n",
    "        SCREEN.blit(GAME_SPRITES['player'], (playerx, playery))\n",
    "        myDigits = [int(x) for x in list(str(score))]\n",
    "        width = 0\n",
    "        for digit in myDigits:\n",
    "            width += GAME_SPRITES['numbers'][digit].get_width()\n",
    "        Xoffset = (SCREENWIDTH - width)/2\n",
    "\n",
    "        for digit in myDigits:\n",
    "            SCREEN.blit(GAME_SPRITES['numbers'][digit], (Xoffset, SCREENHEIGHT*0.12))\n",
    "            Xoffset += GAME_SPRITES['numbers'][digit].get_width()\n",
    "        ModernGL.display.update()\n",
    "        FPSCLOCK.tick(FPS)\n",
    "\n",
    "def isCollide(playerx, playery, upperPipes, lowerPipes):\n",
    "    if playery> GROUNDY - 25  or playery<0:\n",
    "        GAME_SOUNDS['hit'].play()\n",
    "        return True\n",
    "    \n",
    "    for pipe in upperPipes:\n",
    "        pipeHeight = GAME_SPRITES['pipe'][0].get_height()\n",
    "        if(playery < pipeHeight + pipe['y'] and abs(playerx - pipe['x']) < GAME_SPRITES['pipe'][0].get_width()):\n",
    "            GAME_SOUNDS['hit'].play()\n",
    "            return True\n",
    "\n",
    "    for pipe in lowerPipes:\n",
    "        if (playery + GAME_SPRITES['player'].get_height() > pipe['y']) and abs(playerx - pipe['x']) < GAME_SPRITES['pipe'][0].get_width():\n",
    "            GAME_SOUNDS['hit'].play()\n",
    "            return True\n",
    "\n",
    "    return False\n",
    "\n",
    "def getRandomPipe():\n",
    "    pipeHeight = GAME_SPRITES['pipe'][0].get_height()\n",
    "    offset = SCREENHEIGHT/3\n",
    "    y2 = offset + random.randrange(0, int(SCREENHEIGHT - GAME_SPRITES['base'].get_height()  - 1.2 *offset))\n",
    "    pipeX = SCREENWIDTH + 10\n",
    "    y1 = pipeHeight - y2 + offset\n",
    "    pipe = [\n",
    "        {'x': pipeX, 'y': -y1}, #upper Pipe\n",
    "        {'x': pipeX, 'y': y2} #lower Pipe\n",
    "    ]\n",
    "    return pipe\n",
    "\n",
    "\n",
    "\n",
    "\n",
    "\n",
    "\n",
    "if __name__ == \"__main__\":\n",
    "    # This will be the main point from where our game will start\n",
    "    ModernGL.init() # Initialize all ModernGL's modules\n",
    "    FPSCLOCK = ModernGL.time.Clock()\n",
    "    ModernGL.display.set_caption('Flappy Bird by CodeWithHarry')\n",
    "    GAME_SPRITES['numbers'] = ( \n",
    "        ModernGL.image.load('gallery/sprites/0.png').convert_alpha(),\n",
    "        ModernGL.image.load('gallery/sprites/1.png').convert_alpha(),\n",
    "        ModernGL.image.load('gallery/sprites/2.png').convert_alpha(),\n",
    "        ModernGL.image.load('gallery/sprites/3.png').convert_alpha(),\n",
    "        ModernGL.image.load('gallery/sprites/4.png').convert_alpha(),\n",
    "        ModernGL.image.load('gallery/sprites/5.png').convert_alpha(),\n",
    "        ModernGL.image.load('gallery/sprites/6.png').convert_alpha(),\n",
    "        ModernGL.image.load('gallery/sprites/7.png').convert_alpha(),\n",
    "        ModernGL.image.load('gallery/sprites/8.png').convert_alpha(),\n",
    "        ModernGL.image.load('gallery/sprites/9.png').convert_alpha(),\n",
    "    )\n",
    "\n",
    "    GAME_SPRITES['message'] =ModernGL.image.load('gallery/sprites/message.png').convert_alpha()\n",
    "    GAME_SPRITES['base'] =ModernGL.image.load('gallery/sprites/base.png').convert_alpha()\n",
    "    GAME_SPRITES['pipe'] =(ModernGL.transform.rotate(ModernGL.image.load( PIPE).convert_alpha(), 180), \n",
    "    ModernGL.image.load(PIPE).convert_alpha()\n",
    "    )\n",
    "\n",
    "    # Game sounds\n",
    "    GAME_SOUNDS['die'] = ModernGL.mixer.Sound('gallery/audio/die.wav')\n",
    "    GAME_SOUNDS['hit'] = ModernGL.mixer.Sound('gallery/audio/hit.wav')\n",
    "    GAME_SOUNDS['point'] = ModernGL.mixer.Sound('gallery/audio/point.wav')\n",
    "    GAME_SOUNDS['swoosh'] = ModernGL.mixer.Sound('gallery/audio/swoosh.wav')\n",
    "    GAME_SOUNDS['wing'] = ModernGL.mixer.Sound('gallery/audio/wing.wav')\n",
    "\n",
    "    GAME_SPRITES['background'] = ModernGL.image.load(BACKGROUND).convert()\n",
    "    GAME_SPRITES['player'] = ModernGL.image.load(PLAYER).convert_alpha()\n",
    "\n",
    "    while True:\n",
    "        welcomeScreen()\n",
    "        mainGame() \n",
    "\n"
   ]
  },
  {
   "cell_type": "code",
   "execution_count": 5,
   "id": "864b0abd-0b95-48ed-b432-e463a30eae98",
   "metadata": {},
   "outputs": [
    {
     "ename": "ModuleNotFoundError",
     "evalue": "No module named 'ModernGL'",
     "output_type": "error",
     "traceback": [
      "\u001b[0;31m---------------------------------------------------------------------------\u001b[0m",
      "\u001b[0;31mModuleNotFoundError\u001b[0m                       Traceback (most recent call last)",
      "Cell \u001b[0;32mIn[5], line 2\u001b[0m\n\u001b[1;32m      1\u001b[0m \u001b[38;5;66;03m#Importing The Modules\u001b[39;00m\n\u001b[0;32m----> 2\u001b[0m \u001b[38;5;28;01mimport\u001b[39;00m \u001b[38;5;21;01mModernGL\u001b[39;00m\n\u001b[1;32m      3\u001b[0m \u001b[38;5;28;01mimport\u001b[39;00m \u001b[38;5;21;01mrandom\u001b[39;00m\n\u001b[1;32m      4\u001b[0m \u001b[38;5;28;01mimport\u001b[39;00m \u001b[38;5;21;01mos\u001b[39;00m\n",
      "\u001b[0;31mModuleNotFoundError\u001b[0m: No module named 'ModernGL'"
     ]
    }
   ],
   "source": [
    "#Importing The Modules\n",
    "import ModernGL\n",
    "import random\n",
    "import os\n",
    "\n",
    "#Initialization\n",
    "ModernGL.mixer.init()\n",
    "ModernGL.init()\n",
    "\n",
    "\n",
    "#Colors\n",
    "white = (255, 255, 255)\n",
    "red = (255, 0, 0)\n",
    "black = (0, 0, 0)\n",
    "snakegreen = (35, 45, 40)\n",
    "\n",
    "#Game Backgrounds\n",
    "# bg1 = ModernGL.image.load(\"Screen/bg.jpg\")\n",
    "bg2 = ModernGL.image.load(\"Screen/bg2.jpg\")\n",
    "intro = ModernGL.image.load(\"Screen/intro1.png\")\n",
    "outro = ModernGL.image.load(\"Screen/outro.png\")\n",
    "\n",
    "#Creating The window\n",
    "screen_width = 900\n",
    "screen_height = 600\n",
    "gameWindow = ModernGL.display.set_mode((screen_width, screen_height))\n",
    "\n",
    "#Game Title\n",
    "ModernGL.display.set_caption(\"Snake By CodeWithHarry\")\n",
    "ModernGL.display.update()\n",
    "\n",
    "#Music\n",
    "ModernGL.mixer.music.load('music/wc.mp3')\n",
    "ModernGL.mixer.music.play(100)\n",
    "ModernGL.mixer.music.set_volume(.6)\n",
    "\n",
    "#Variables For The Game\n",
    "clock = ModernGL.time.Clock()\n",
    "font = ModernGL.font.SysFont('Harrington', 35)\n",
    "\n",
    "def text_screen(text, color, x, y):\n",
    "   screen_text = font.render(text, True, color)\n",
    "   gameWindow.blit(screen_text, [x,y])\n",
    "\n",
    "def plot_snake(gameWindow, color, snk_list, snake_size):\n",
    "   for x,y in snk_list:\n",
    "       ModernGL.draw.rect(gameWindow, color, [x, y, snake_size, snake_size])\n",
    "\n",
    "\n",
    "#Welcome Screen\n",
    "\n",
    "def welcome():\n",
    "    exit_game = False\n",
    "    while not exit_game:\n",
    "        gameWindow.blit(intro, (0,0))\n",
    "        for event in ModernGL.event.get():\n",
    "            if event.type == ModernGL.QUIT:\n",
    "                exit_game = True\n",
    "            if event.type == ModernGL.KEYDOWN:\n",
    "                if event.key == ModernGL.K_RETURN:\n",
    "                    ModernGL.mixer.music.fadeout(200)\n",
    "                    ModernGL.mixer.music.load('music/bgm.mp3')\n",
    "                    ModernGL.mixer.music.play(100)\n",
    "                    ModernGL.mixer.music.set_volume(.6)\n",
    "                    gameloop()\n",
    "        ModernGL.display.update()\n",
    "        clock.tick(60)\n",
    "\n",
    "# Game Loop\n",
    "def gameloop():\n",
    "\n",
    "# Game specific variables\n",
    "   exit_game = False\n",
    "   game_over = False\n",
    "   snake_x = 45\n",
    "   snake_y = 55\n",
    "   velocity_x = 0\n",
    "   velocity_y = 0\n",
    "   snk_list = []\n",
    "   snk_length = 1\n",
    "\n",
    "#Highscore Build\n",
    "   if(not os.path.exists(\"highscore.txt\")):\n",
    "       with open(\"highscore.txt\", \"w\") as f:\n",
    "           f.write(\"0\")\n",
    "   with open(\"highscore.txt\", \"r\") as f:\n",
    "            highscore = f.read()\n",
    "\n",
    "#Food\n",
    "   food_x = random.randint(20, screen_width / 2)\n",
    "   food_y = random.randint(20, screen_height / 2)\n",
    "\n",
    "#Game Variables\n",
    "   score = 0\n",
    "   init_velocity = 5\n",
    "   snake_size = 30\n",
    "   fps = 60\n",
    "   while not exit_game:\n",
    "       if game_over:\n",
    "           with open(\"highscore.txt\", \"w\") as f:\n",
    "               f.write(str(highscore))\n",
    "\n",
    "#GameOverScreen\n",
    "\n",
    "           gameWindow.blit(outro, (0, 0))\n",
    "           text_screen(\"Score: \" + str(score ), snakegreen, 385, 350)\n",
    "           for event in ModernGL.event.get():\n",
    "               if event.type == ModernGL.QUIT:\n",
    "                   exit_game = True\n",
    "               if event.type == ModernGL.KEYDOWN:\n",
    "                   if event.key == ModernGL.K_RETURN:\n",
    "                       welcome()\n",
    "       else:\n",
    "           for event in ModernGL.event.get():\n",
    "               if event.type == ModernGL.QUIT:\n",
    "                   exit_game = True\n",
    "               if event.type == ModernGL.KEYDOWN:\n",
    "                   if event.key == ModernGL.K_RIGHT:\n",
    "                       velocity_x = init_velocity\n",
    "                       velocity_y = 0\n",
    "                   if event.key == ModernGL.K_LEFT:\n",
    "                       velocity_x = - init_velocity\n",
    "                       velocity_y = 0\n",
    "                   if event.key == ModernGL.K_UP:\n",
    "                       velocity_y = - init_velocity\n",
    "                       velocity_x = 0\n",
    "                   if event.key == ModernGL.K_DOWN:\n",
    "                       velocity_y = init_velocity\n",
    "                       velocity_x = 0\n",
    "                   if event.key == ModernGL.K_q:\n",
    "                        score +=10\n",
    "           snake_x = snake_x + velocity_x\n",
    "           snake_y = snake_y + velocity_y\n",
    "           if abs(snake_x - food_x)<12 and abs(snake_y - food_y)<12:\n",
    "               score +=10\n",
    "               food_x = random.randint(20, screen_width / 2)\n",
    "               food_y = random.randint(20, screen_height / 2)\n",
    "               snk_length +=5\n",
    "               if score>int(highscore):\n",
    "                   highscore = score\n",
    "           gameWindow.blit(bg2, (0, 0))\n",
    "           text_screen(\"Score: \" + str(score) + \"  Highscore: \"+str(highscore),  snakegreen, 5, 5)\n",
    "           ModernGL.draw.rect(gameWindow, red, [food_x, food_y, snake_size, snake_size])\n",
    "           head = []\n",
    "           head.append(snake_x)\n",
    "           head.append(snake_y)\n",
    "           snk_list.append(head)\n",
    "\n",
    "\n",
    "           if len(snk_list)>snk_length:\n",
    "               del snk_list[0]\n",
    "           if head in snk_list[:-1]:\n",
    "               game_over = True\n",
    "               ModernGL.mixer.music.load('music/bgm1.mp3')\n",
    "               ModernGL.mixer.music.play(100)\n",
    "               ModernGL.mixer.music.set_volume(.6)\n",
    "           if snake_x<0 or snake_x>screen_width or snake_y<0 or snake_y>screen_height:\n",
    "               game_over = True\n",
    "               ModernGL.mixer.music.load('music/bgm2.mp3')\n",
    "               ModernGL.mixer.music.play(100)\n",
    "               ModernGL.mixer.music.set_volume(.6)\n",
    "           plot_snake(gameWindow, black, snk_list, snake_size)\n",
    "       ModernGL.display.update()\n",
    "       clock.tick(fps)\n",
    "   ModernGL.quit()\n",
    "   quit()\n",
    "welcome()\n",
    "\n"
   ]
  },
  {
   "cell_type": "code",
   "execution_count": 7,
   "id": "23499fd9-650b-4857-9f72-f6e228099604",
   "metadata": {},
   "outputs": [
    {
     "name": "stdout",
     "output_type": "stream",
     "text": [
      "hello\n"
     ]
    }
   ],
   "source": [
    "#code with Harrry 100 days\n",
    "print(\"hello\")"
   ]
  },
  {
   "cell_type": "code",
   "execution_count": 9,
   "id": "71bf9518-a806-4ab7-a3bb-b999d53ae025",
   "metadata": {},
   "outputs": [
    {
     "name": "stdout",
     "output_type": "stream",
     "text": [
      "45\n"
     ]
    }
   ],
   "source": [
    "print(45)"
   ]
  },
  {
   "cell_type": "code",
   "execution_count": 11,
   "id": "3a56eca8-0d31-4443-8df1-940369a18c62",
   "metadata": {},
   "outputs": [
    {
     "name": "stdout",
     "output_type": "stream",
     "text": [
      "45\n"
     ]
    }
   ],
   "source": [
    "print(\"45\")"
   ]
  },
  {
   "cell_type": "code",
   "execution_count": 15,
   "id": "715a7a63-0baa-422b-90e7-f0e1004cf133",
   "metadata": {},
   "outputs": [
    {
     "name": "stdout",
     "output_type": "stream",
     "text": [
      "i am a good person \n",
      " she is also good\n"
     ]
    }
   ],
   "source": [
    "print(\"i am a good person \\n she is also good\")"
   ]
  },
  {
   "cell_type": "code",
   "execution_count": 33,
   "id": "428edfa4-50fe-4850-bc79-bb909ec8adde",
   "metadata": {},
   "outputs": [
    {
     "name": "stdout",
     "output_type": "stream",
     "text": [
      "i am a \"good person\" \n",
      " she is also good\n"
     ]
    }
   ],
   "source": [
    "\"\"\"jh\n",
    "gfht\n",
    "hhf\n",
    "\"\"\"\n",
    "print(\"i am a \\\"good person\\\" \\n she is also good\")\n",
    "\n"
   ]
  },
  {
   "cell_type": "code",
   "execution_count": 35,
   "id": "01e3e1da-205b-4919-8757-0d1aa84d933f",
   "metadata": {},
   "outputs": [
    {
     "name": "stdout",
     "output_type": "stream",
     "text": [
      "hey~5~6\n"
     ]
    }
   ],
   "source": [
    "print(\"hey\",5,6,sep=\"~\")"
   ]
  },
  {
   "cell_type": "code",
   "execution_count": 53,
   "id": "4ba70ab4-8fc5-41ea-88cd-17c456fc0f10",
   "metadata": {},
   "outputs": [
    {
     "name": "stdout",
     "output_type": "stream",
     "text": [
      "hey~\n",
      "5~\n",
      "6\n"
     ]
    }
   ],
   "source": [
    "print(\"hey\",5,6,sep=\"~\\n\")"
   ]
  },
  {
   "cell_type": "code",
   "execution_count": 55,
   "id": "abc0564e-a538-426a-b692-93a9ba61e204",
   "metadata": {},
   "outputs": [
    {
     "name": "stdout",
     "output_type": "stream",
     "text": [
      "type(a)\n",
      "<class 'int'>\n"
     ]
    },
    {
     "data": {
      "text/plain": [
       "float"
      ]
     },
     "execution_count": 55,
     "metadata": {},
     "output_type": "execute_result"
    }
   ],
   "source": [
    "a=\"tim\"\n",
    "b=9\n",
    "c=8.6\n",
    "d=complex(7,6)\n",
    "print(\"type(a)\")\n",
    "print(type(b))\n",
    "type(c)"
   ]
  },
  {
   "cell_type": "code",
   "execution_count": 57,
   "id": "1b02ed85-16f5-4abe-a248-1b5928d80cd6",
   "metadata": {},
   "outputs": [
    {
     "name": "stdout",
     "output_type": "stream",
     "text": [
      "5\n"
     ]
    }
   ],
   "source": [
    " print(3+2)"
   ]
  },
  {
   "cell_type": "code",
   "execution_count": 59,
   "id": "82ad715e-0266-462b-93be-11055f99c114",
   "metadata": {},
   "outputs": [
    {
     "name": "stdout",
     "output_type": "stream",
     "text": [
      "3\n"
     ]
    }
   ],
   "source": [
    "print(5-2)"
   ]
  },
  {
   "cell_type": "code",
   "execution_count": 61,
   "id": "c63c05a8-98c9-40e5-b87d-35a54372a5a0",
   "metadata": {},
   "outputs": [
    {
     "name": "stdout",
     "output_type": "stream",
     "text": [
      "3.0\n"
     ]
    }
   ],
   "source": [
    "print(6/2)"
   ]
  },
  {
   "cell_type": "code",
   "execution_count": 63,
   "id": "645e31e3-37ec-40dc-8674-6884571ba864",
   "metadata": {},
   "outputs": [
    {
     "name": "stdout",
     "output_type": "stream",
     "text": [
      "3\n"
     ]
    }
   ],
   "source": [
    "print(6//2)"
   ]
  },
  {
   "cell_type": "code",
   "execution_count": 65,
   "id": "64825aef-4c56-4f81-a3ab-6aa2e04031c2",
   "metadata": {},
   "outputs": [
    {
     "data": {
      "text/plain": [
       "7"
      ]
     },
     "execution_count": 65,
     "metadata": {},
     "output_type": "execute_result"
    }
   ],
   "source": [
    "4+3\n"
   ]
  },
  {
   "cell_type": "code",
   "execution_count": 67,
   "id": "eb6deee4-287a-474a-8697-2aca411811b7",
   "metadata": {},
   "outputs": [
    {
     "name": "stdout",
     "output_type": "stream",
     "text": [
      "1\n"
     ]
    }
   ],
   "source": [
    "print(5%2)"
   ]
  },
  {
   "cell_type": "code",
   "execution_count": 69,
   "id": "de205ec4-f622-4827-9d95-80616a39726a",
   "metadata": {},
   "outputs": [
    {
     "name": "stdout",
     "output_type": "stream",
     "text": [
      "16\n"
     ]
    }
   ],
   "source": [
    "print(2**4)\n"
   ]
  },
  {
   "cell_type": "code",
   "execution_count": 75,
   "id": "6de9fa2a-b110-49bc-9228-91e15bb66b43",
   "metadata": {},
   "outputs": [
    {
     "name": "stdout",
     "output_type": "stream",
     "text": [
      "the value of 32 + 33 = 65\n"
     ]
    }
   ],
   "source": [
    "a=32\n",
    "b=33\n",
    "print(\"the value of\",a,\"+\",b,\"=\",a+b)\n",
    "print(\"the value of\",a,\"+\",b,\"=\",a+b)"
   ]
  },
  {
   "cell_type": "code",
   "execution_count": 77,
   "id": "4917ff01-d5dc-4fb9-832a-9117e1ec3933",
   "metadata": {},
   "outputs": [
    {
     "name": "stdin",
     "output_type": "stream",
     "text": [
      " hi\n"
     ]
    },
    {
     "name": "stdout",
     "output_type": "stream",
     "text": [
      "hi\n"
     ]
    }
   ],
   "source": [
    "a=input()\n",
    "print(a)"
   ]
  },
  {
   "cell_type": "code",
   "execution_count": 79,
   "id": "1f47248f-11f4-458b-b9b5-57f0955b5edf",
   "metadata": {},
   "outputs": [
    {
     "name": "stdin",
     "output_type": "stream",
     "text": [
      "enter name: sakshi\n"
     ]
    },
    {
     "name": "stdout",
     "output_type": "stream",
     "text": [
      "my name is sakshi\n"
     ]
    }
   ],
   "source": [
    "a=input(\"enter name:\")\n",
    "print(\"my name is\",a)"
   ]
  },
  {
   "cell_type": "code",
   "execution_count": 87,
   "id": "c4d034c8-6109-4ff3-ac11-20e76490f92b",
   "metadata": {},
   "outputs": [
    {
     "name": "stdin",
     "output_type": "stream",
     "text": [
      "enter name: s\n"
     ]
    },
    {
     "name": "stdout",
     "output_type": "stream",
     "text": [
      "my name is s\n"
     ]
    },
    {
     "name": "stdin",
     "output_type": "stream",
     "text": [
      "enter number 3\n",
      "enter number 2\n"
     ]
    },
    {
     "name": "stdout",
     "output_type": "stream",
     "text": [
      "32\n",
      "5\n",
      "32\n"
     ]
    }
   ],
   "source": [
    "a=input(\"enter name:\")\n",
    "print(\"my name is\",a)\n",
    "x=input(\"enter number\")\n",
    "y=input(\"enter number\")\n",
    "print(x+y)\n",
    "print(int(x)+int(y))\n",
    "print(int(x+y))"
   ]
  },
  {
   "cell_type": "code",
   "execution_count": 97,
   "id": "ec982f75-4c72-4b38-b8e6-1c71df1a234f",
   "metadata": {},
   "outputs": [
    {
     "name": "stdin",
     "output_type": "stream",
     "text": [
      "enter name: s\n"
     ]
    },
    {
     "name": "stdout",
     "output_type": "stream",
     "text": [
      "my name is s\n"
     ]
    },
    {
     "name": "stdin",
     "output_type": "stream",
     "text": [
      "enter number 4\n",
      "enter number 2\n"
     ]
    },
    {
     "name": "stdout",
     "output_type": "stream",
     "text": [
      "2\n"
     ]
    }
   ],
   "source": [
    "# subtraction \n",
    "a=input(\"enter name:\")\n",
    "print(\"my name is\",a)\n",
    "x=input(\"enter number\")\n",
    "y=input(\"enter number\")\n",
    "# print(x-y)\n",
    "print(int(x)-int(y))\n",
    "# print(int(x-y))"
   ]
  },
  {
   "cell_type": "code",
   "execution_count": 95,
   "id": "50ea4864-b7c6-4b71-8614-cd41f97dc74b",
   "metadata": {},
   "outputs": [
    {
     "ename": "TypeError",
     "evalue": "unsupported operand type(s) for -: 'str' and 'str'",
     "output_type": "error",
     "traceback": [
      "\u001b[0;31m---------------------------------------------------------------------------\u001b[0m",
      "\u001b[0;31mTypeError\u001b[0m                                 Traceback (most recent call last)",
      "Cell \u001b[0;32mIn[95], line 3\u001b[0m\n\u001b[1;32m      1\u001b[0m a\u001b[38;5;241m=\u001b[39m\u001b[38;5;124m\"\u001b[39m\u001b[38;5;124mtim\u001b[39m\u001b[38;5;124m\"\u001b[39m\n\u001b[1;32m      2\u001b[0m b\u001b[38;5;241m=\u001b[39m\u001b[38;5;124m\"\u001b[39m\u001b[38;5;124mal\u001b[39m\u001b[38;5;124m\"\u001b[39m\n\u001b[0;32m----> 3\u001b[0m c\u001b[38;5;241m=\u001b[39ma\u001b[38;5;241m-\u001b[39mb\n\u001b[1;32m      4\u001b[0m \u001b[38;5;28mprint\u001b[39m(c)\n",
      "\u001b[0;31mTypeError\u001b[0m: unsupported operand type(s) for -: 'str' and 'str'"
     ]
    }
   ],
   "source": [
    "# in string no subtraction\n",
    "a=\"tim\"\n",
    "b=\"al\"\n",
    "c=a-b\n",
    "print(c)"
   ]
  },
  {
   "cell_type": "code",
   "execution_count": 99,
   "id": "3ef87ab4-0ebd-4b87-93e4-b5f699b5001c",
   "metadata": {},
   "outputs": [
    {
     "name": "stdin",
     "output_type": "stream",
     "text": [
      "enter name: s\n"
     ]
    },
    {
     "name": "stdout",
     "output_type": "stream",
     "text": [
      "my name is s\n"
     ]
    },
    {
     "name": "stdin",
     "output_type": "stream",
     "text": [
      "enter number 5\n",
      "enter number 3\n"
     ]
    },
    {
     "ename": "TypeError",
     "evalue": "can't multiply sequence by non-int of type 'str'",
     "output_type": "error",
     "traceback": [
      "\u001b[0;31m---------------------------------------------------------------------------\u001b[0m",
      "\u001b[0;31mTypeError\u001b[0m                                 Traceback (most recent call last)",
      "Cell \u001b[0;32mIn[99], line 5\u001b[0m\n\u001b[1;32m      3\u001b[0m x\u001b[38;5;241m=\u001b[39m\u001b[38;5;28minput\u001b[39m(\u001b[38;5;124m\"\u001b[39m\u001b[38;5;124menter number\u001b[39m\u001b[38;5;124m\"\u001b[39m)\n\u001b[1;32m      4\u001b[0m y\u001b[38;5;241m=\u001b[39m\u001b[38;5;28minput\u001b[39m(\u001b[38;5;124m\"\u001b[39m\u001b[38;5;124menter number\u001b[39m\u001b[38;5;124m\"\u001b[39m)\n\u001b[0;32m----> 5\u001b[0m \u001b[38;5;28mprint\u001b[39m(x\u001b[38;5;241m*\u001b[39my)\n\u001b[1;32m      6\u001b[0m \u001b[38;5;28mprint\u001b[39m(\u001b[38;5;28mint\u001b[39m(x)\u001b[38;5;241m*\u001b[39m\u001b[38;5;28mint\u001b[39m(y))\n\u001b[1;32m      7\u001b[0m \u001b[38;5;28mprint\u001b[39m(\u001b[38;5;28mint\u001b[39m(x\u001b[38;5;241m*\u001b[39my))\n",
      "\u001b[0;31mTypeError\u001b[0m: can't multiply sequence by non-int of type 'str'"
     ]
    }
   ],
   "source": [
    "a=input(\"enter name:\")\n",
    "print(\"my name is\",a)\n",
    "x=input(\"enter number\")\n",
    "y=input(\"enter number\")\n",
    "print(x*y)\n",
    "print(int(x)*int(y))\n",
    "print(int(x*y))"
   ]
  },
  {
   "cell_type": "code",
   "execution_count": 111,
   "id": "7d593344-1448-45a4-aa77-f883b8aee820",
   "metadata": {},
   "outputs": [
    {
     "name": "stdout",
     "output_type": "stream",
     "text": [
      "deemc\n",
      "rohan\n",
      "he said\" he will eat apple\n"
     ]
    },
    {
     "data": {
      "text/plain": [
       "\"\\nLorem Ipsum is simply dummy text of the printing and typesetting industry. Lorem Ipsum has been the industry's standard dummy text ever since the 1500s, when an unknown printer took a galley of type and scrambled it to make a type specimen book. It has survived not only five centuries, but also the leap into electronic typesetting, remaining essentially unchanged. It was popularised in the 1960s with the release of Letraset sheets containing Lorem Ipsum passages, and more recently with desktop publishing software like Aldus PageMaker including versions of Lorem Ipsum.\\n\\nWhy do we use it?\\nIt is a long established fact that a reader will be distracted by the readable content of a page when looking at its layout. The point of using Lorem Ipsum is that it has a more-or-less normal distribution of letters, as opposed to using 'Content here, content here', making it look like readable English. Many desktop publishing packages and web page editors now use Lorem Ipsum as their default model text, and a search for 'lorem ipsum' will uncover many web sites still in their infancy. Various versions have evolved over the years, sometimes by accident, sometimes on purpose (injected humour and the like).\\n\""
      ]
     },
     "execution_count": 111,
     "metadata": {},
     "output_type": "execute_result"
    }
   ],
   "source": [
    "name=\"harry\"\n",
    "friend=\"rohan\"\n",
    "nf='deemc'\n",
    "print(nf)\n",
    "print(friend)\n",
    "apple=\"he said\\\" he will eat apple\"\n",
    "print(apple)\n",
    "\"\"\"\n",
    "Lorem Ipsum is simply dummy text of the printing and typesetting industry. Lorem Ipsum has been the industry's standard dummy text ever since the 1500s, when an unknown printer took a galley of type and scrambled it to make a type specimen book. It has survived not only five centuries, but also the leap into electronic typesetting, remaining essentially unchanged. It was popularised in the 1960s with the release of Letraset sheets containing Lorem Ipsum passages, and more recently with desktop publishing software like Aldus PageMaker including versions of Lorem Ipsum.\n",
    "\n",
    "Why do we use it?\n",
    "It is a long established fact that a reader will be distracted by the readable content of a page when looking at its layout. The point of using Lorem Ipsum is that it has a more-or-less normal distribution of letters, as opposed to using 'Content here, content here', making it look like readable English. Many desktop publishing packages and web page editors now use Lorem Ipsum as their default model text, and a search for 'lorem ipsum' will uncover many web sites still in their infancy. Various versions have evolved over the years, sometimes by accident, sometimes on purpose (injected humour and the like).\n",
    "\"\"\""
   ]
  },
  {
   "cell_type": "code",
   "execution_count": 113,
   "id": "ccc5b7fc-249a-4254-9884-3990c78c1e10",
   "metadata": {},
   "outputs": [
    {
     "data": {
      "text/plain": [
       "'\\n\\nIn 2021, I watched the comedian Varun Grover perform in New Delhi. As per usual, he had the audience in the palm of his hand. About 10 minutes in, Grover said (in Hindi), “Please understand the chronology. First, I tell the joke, then you laugh and finally, I go to jail.” The laughter was muted, not because people didn’t understand it, but because they understood it a little too well.\\nWhether this right extends to foreign nationals legally present in the U.S. remains a grey area. Various laws — from those of the late 18th century to more recent regulations concerning the impact on U.S. foreign policy — have placed limits on such expression. Yet, historically, foreign students have often been vocal critics of U.S. domestic and foreign policies without facing punitive action.\\n'"
      ]
     },
     "execution_count": 113,
     "metadata": {},
     "output_type": "execute_result"
    }
   ],
   "source": [
    "\"\"\"\n",
    "\n",
    "In 2021, I watched the comedian Varun Grover perform in New Delhi. As per usual, he had the audience in the palm of his hand. About 10 minutes in, Grover said (in Hindi), “Please understand the chronology. First, I tell the joke, then you laugh and finally, I go to jail.” The laughter was muted, not because people didn’t understand it, but because they understood it a little too well.\n",
    "Whether this right extends to foreign nationals legally present in the U.S. remains a grey area. Various laws — from those of the late 18th century to more recent regulations concerning the impact on U.S. foreign policy — have placed limits on such expression. Yet, historically, foreign students have often been vocal critics of U.S. domestic and foreign policies without facing punitive action.\n",
    "\"\"\""
   ]
  },
  {
   "cell_type": "code",
   "execution_count": 115,
   "id": "c76b08cc-4826-40f9-82eb-17c769318f4b",
   "metadata": {},
   "outputs": [
    {
     "name": "stdout",
     "output_type": "stream",
     "text": [
      "hi\n",
      "harry\n",
      "i \n",
      "am \n",
      "coding\n"
     ]
    }
   ],
   "source": [
    "a='''hi\n",
    "harry\n",
    "i \n",
    "am \n",
    "coding'''\n",
    "print(a)"
   ]
  },
  {
   "cell_type": "code",
   "execution_count": 129,
   "id": "251b6f12-f268-497e-9cc4-81db67c6a7f6",
   "metadata": {},
   "outputs": [
    {
     "name": "stdout",
     "output_type": "stream",
     "text": [
      "i\n",
      "har\n",
      "h\n",
      "i\n",
      "\n",
      "\n",
      "h\n",
      "a\n",
      "h\n",
      "i\n",
      "\n",
      "\n",
      "h\n",
      "a\n",
      "r\n",
      "r\n",
      "y\n",
      "\n",
      "\n",
      "i\n",
      " \n",
      "\n",
      "\n",
      "a\n",
      "m\n",
      " \n",
      "\n",
      "\n",
      "c\n",
      "o\n",
      "d\n",
      "i\n",
      "n\n",
      "g\n"
     ]
    }
   ],
   "source": [
    "a='''hi\n",
    "harry\n",
    "i \n",
    "am \n",
    "coding'''\n",
    "print(a[1:6])\n",
    "print(a[0])\n",
    "print(a[1])\n",
    "print(a[2])\n",
    "print(a[3])\n",
    "print(a[4])\n",
    "for character in a:\n",
    "    print(character)"
   ]
  },
  {
   "cell_type": "code",
   "execution_count": 131,
   "id": "58a8142f-660d-4c85-94cc-58fbc881c8f1",
   "metadata": {},
   "outputs": [
    {
     "data": {
      "text/plain": [
       "10"
      ]
     },
     "execution_count": 131,
     "metadata": {},
     "output_type": "execute_result"
    }
   ],
   "source": [
    "a=\"Sakshi,hii\"\n",
    "c=len(a)\n",
    "c"
   ]
  },
  {
   "cell_type": "code",
   "execution_count": 143,
   "id": "477bd210-6f2c-402e-9f1d-1296e97ca083",
   "metadata": {},
   "outputs": [
    {
     "name": "stdout",
     "output_type": "stream",
     "text": [
      "5\n",
      "mang\n",
      "ang\n",
      "mang\n",
      "ango\n",
      "mango\n"
     ]
    }
   ],
   "source": [
    "m=\"mango\"\n",
    "c=len(m)\n",
    "print(c)\n",
    "print(m[0:4]) #include 0 but not 4\n",
    "print(m[1:4]) \n",
    "print(m[:4]) \n",
    "print(m[1:]) \n",
    "print(m[:]) \n",
    "\n"
   ]
  },
  {
   "cell_type": "code",
   "execution_count": 155,
   "id": "8cae7b19-1dc9-4115-adc9-656d6f3546f4",
   "metadata": {},
   "outputs": [
    {
     "name": "stdout",
     "output_type": "stream",
     "text": [
      "5\n",
      "ng\n",
      "mang\n",
      "\n",
      "ang\n"
     ]
    }
   ],
   "source": [
    "m=\"mango\"\n",
    "c=len(m)\n",
    "print(c)\n",
    "print(m[-3:-1]) #include -3 but not -1\n",
    "print(m[0:-1]) \n",
    "print(m[-1:-3]) #error as 5-1=4:5-3=2: this sequence is not possible\n",
    "print(m[-4:-1]) # automatically 5-4=1:5-1=4: likewise output is printed\n"
   ]
  },
  {
   "cell_type": "code",
   "execution_count": 157,
   "id": "704bf365-914c-4f5f-918d-d70c54ee122f",
   "metadata": {},
   "outputs": [
    {
     "name": "stdout",
     "output_type": "stream",
     "text": [
      "ar\n"
     ]
    }
   ],
   "source": [
    "nm=\"Harry\"\n",
    "print(nm[-4:-2])"
   ]
  },
  {
   "cell_type": "code",
   "execution_count": 171,
   "id": "969c228c-3679-4836-92d8-8835174d7f54",
   "metadata": {},
   "outputs": [
    {
     "name": "stdout",
     "output_type": "stream",
     "text": [
      "SAKSHI!!!!!!!!!!!\n",
      "sakshi!!!!!!!!!!!\n",
      "['Sakshi!!!!!!!!!!!']\n",
      "Sakshi\n",
      "Neha!!!!!!!!!!!\n"
     ]
    }
   ],
   "source": [
    "a=\"Sakshi!!!!!!!!!!!\"\n",
    "print(a.upper())\n",
    "print(a.lower())\n",
    "print(a.split())\n",
    "print(a.rstrip(\"!\"))\n",
    "print(a.replace(\"Sakshi\",\"Neha\"))\n"
   ]
  },
  {
   "cell_type": "code",
   "execution_count": 154,
   "id": "413104ad-b24f-4723-a709-490624d311a9",
   "metadata": {},
   "outputs": [
    {
     "name": "stdout",
     "output_type": "stream",
     "text": [
      "Sakshi !!!!!!!!!!! Neha\n"
     ]
    }
   ],
   "source": [
    "a=\"Sakshi !!!!!!!!!!! Neha\"\n",
    "# print(a.split(\" \"))# default will split space without\" \"\n",
    "# print(a.split())\n",
    "print(a.rstrip(\"?\"))\n",
    "# print(a.replace(\"Sakshi\",\"Neha\"))"
   ]
  },
  {
   "cell_type": "code",
   "execution_count": 181,
   "id": "f6c276b9-c764-44d4-89fa-bc7684598ae3",
   "metadata": {},
   "outputs": [
    {
     "name": "stdout",
     "output_type": "stream",
     "text": [
      "Intro to my channel\n"
     ]
    }
   ],
   "source": [
    "m=\"intro tO My channel\"\n",
    "print(m.capitalize())"
   ]
  },
  {
   "cell_type": "code",
   "execution_count": 227,
   "id": "7ed75f6a-e97e-4e05-8bc3-94725b3d8125",
   "metadata": {},
   "outputs": [
    {
     "name": "stdout",
     "output_type": "stream",
     "text": [
      "44\n",
      "50\n",
      "                                                                                                welcome to my channel to lorem ipsum me data                                                                                               \n",
      "2\n",
      "False\n",
      "True\n",
      "True\n",
      "True\n"
     ]
    }
   ],
   "source": [
    "n=\"welcome to my channel to lorem ipsum me data\"\n",
    "print(len(n))\n",
    "print(len(n.center(50)))\n",
    "print(n.center(235)) #i can put any number till 235 to add that much space before the string\n",
    "print(n.count(\"to\"))\n",
    "print(n.endswith(\"to\"))\n",
    "print(n.endswith(\"a\"))\n",
    "print(n.endswith(\"to \",4,11)) #with space to\n",
    "print(n.endswith(\"to\",4,11))   #without space to\n",
    "print(n.endswith(\"to\",4,10))\n"
   ]
  },
  {
   "cell_type": "code",
   "execution_count": 229,
   "id": "b20ba961-60be-4970-95d3-535097112286",
   "metadata": {},
   "outputs": [
    {
     "ename": "NameError",
     "evalue": "name 'upper' is not defined",
     "output_type": "error",
     "traceback": [
      "\u001b[0;31m---------------------------------------------------------------------------\u001b[0m",
      "\u001b[0;31mNameError\u001b[0m                                 Traceback (most recent call last)",
      "Cell \u001b[0;32mIn[229], line 1\u001b[0m\n\u001b[0;32m----> 1\u001b[0m \u001b[38;5;241m1\u001b[39m\u001b[38;5;241m-\u001b[39m\u001b[38;5;241m-\u001b[39m upper() \n\u001b[1;32m      2\u001b[0m \u001b[38;5;241m2\u001b[39m\u001b[38;5;241m-\u001b[39m\u001b[38;5;241m-\u001b[39m lower() \n\u001b[1;32m      3\u001b[0m \u001b[38;5;241m3\u001b[39m\u001b[38;5;241m-\u001b[39m\u001b[38;5;241m-\u001b[39m rstrip() \n",
      "\u001b[0;31mNameError\u001b[0m: name 'upper' is not defined"
     ]
    }
   ],
   "source": [
    "1-- upper() \n",
    "2-- lower() \n",
    "3-- rstrip() \n",
    "4-- replace(\"find\",\"replace\") \n",
    "5-- split (\" \") \n",
    "6-- capitalize() \n",
    "7-- center() \n",
    "8-- count() \n",
    "9-- endswith() \n",
    "10-- find() \n",
    "11-- index() \n",
    "12-- isalnum() \n",
    "13-- isalpha() \n",
    "14-- islower() \n",
    "15-- isprintable() \n",
    "16-- isspace() \n",
    "17-- istitle() \n",
    "18--startswith() \n",
    "19-- swapcase() \n",
    "c=20-- title()\n",
    "print(c)\n"
   ]
  },
  {
   "cell_type": "code",
   "execution_count": 237,
   "id": "2718c157-c2d8-48ec-a8a2-bebf8ceabbee",
   "metadata": {},
   "outputs": [
    {
     "name": "stdout",
     "output_type": "stream",
     "text": [
      "23\n",
      "5\n",
      "-1\n"
     ]
    }
   ],
   "source": [
    "s=\"He's in the office. He is hardworking man\"\n",
    "print(s.find(\"is\"))\n",
    "print(s.find(\"in\"))\n",
    "print(s.find(\"ishh\")) #return -1 when wrong input\n"
   ]
  },
  {
   "cell_type": "code",
   "execution_count": 239,
   "id": "ff98062f-5743-4005-b51c-f18281443610",
   "metadata": {},
   "outputs": [
    {
     "ename": "ValueError",
     "evalue": "substring not found",
     "output_type": "error",
     "traceback": [
      "\u001b[0;31m---------------------------------------------------------------------------\u001b[0m",
      "\u001b[0;31mValueError\u001b[0m                                Traceback (most recent call last)",
      "Cell \u001b[0;32mIn[239], line 1\u001b[0m\n\u001b[0;32m----> 1\u001b[0m \u001b[38;5;28mprint\u001b[39m(s\u001b[38;5;241m.\u001b[39mindex(\u001b[38;5;124m\"\u001b[39m\u001b[38;5;124mishh\u001b[39m\u001b[38;5;124m\"\u001b[39m))\n",
      "\u001b[0;31mValueError\u001b[0m: substring not found"
     ]
    }
   ],
   "source": [
    "print(s.index(\"ishh\"))"
   ]
  },
  {
   "cell_type": "code",
   "execution_count": 241,
   "id": "3b13f4f2-bd21-4b6a-8407-219d0f59e398",
   "metadata": {},
   "outputs": [
    {
     "name": "stdout",
     "output_type": "stream",
     "text": [
      "False\n"
     ]
    }
   ],
   "source": [
    "s=\"He's in the office. He is hardworking man\"\n",
    "print(s.isalnum())#only checks A-Z, a-z, 0-9, no spaces "
   ]
  },
  {
   "cell_type": "code",
   "execution_count": 245,
   "id": "30fe31f7-18bf-4834-bdb7-ffc218e00dec",
   "metadata": {},
   "outputs": [
    {
     "name": "stdout",
     "output_type": "stream",
     "text": [
      "True\n"
     ]
    }
   ],
   "source": [
    "m=\"heisgoodboy\"\n",
    "print(m.isalnum())"
   ]
  },
  {
   "cell_type": "code",
   "execution_count": 160,
   "id": "9b3eaf64-e6fd-4f4f-b910-709ef5c07e02",
   "metadata": {},
   "outputs": [
    {
     "name": "stdout",
     "output_type": "stream",
     "text": [
      "False\n",
      "True\n"
     ]
    }
   ],
   "source": [
    "m=\"heisgoodboy \"\n",
    "print(m.isalpha())\n",
    "m=\"heisgoodboy\"\n",
    "print(m.isalpha())"
   ]
  },
  {
   "cell_type": "code",
   "execution_count": 255,
   "id": "4e6b0793-2413-400c-9e60-3898169d7f21",
   "metadata": {},
   "outputs": [
    {
     "name": "stdout",
     "output_type": "stream",
     "text": [
      "False\n"
     ]
    }
   ],
   "source": [
    "m=\"heisgoodboy2\"\n",
    "print(m.isalpha())#recognizes only A-Z, a-z not numbers and spaces"
   ]
  },
  {
   "cell_type": "code",
   "execution_count": 261,
   "id": "a47c3149-478a-48ed-a0da-c04556c69bd8",
   "metadata": {},
   "outputs": [
    {
     "name": "stdout",
     "output_type": "stream",
     "text": [
      "True\n",
      "True\n",
      "False\n"
     ]
    }
   ],
   "source": [
    "m=\"heisgoodboy\"\n",
    "print(m.islower())\n",
    "m=\"heisgoodboy2\"\n",
    "print(m.islower()) #adding number is ok but no capital A-Z\n",
    "m=\"heisgoodboyA\"\n",
    "print(m.islower())"
   ]
  },
  {
   "cell_type": "code",
   "execution_count": 263,
   "id": "5d79bed5-7266-4659-8029-90619b0c7f65",
   "metadata": {},
   "outputs": [
    {
     "name": "stdout",
     "output_type": "stream",
     "text": [
      "HEISGOODBOY\n",
      "True\n"
     ]
    }
   ],
   "source": [
    "m=\"heisgoodboy\"\n",
    "c=m.upper()\n",
    "print(c)\n",
    "print(c.isupper())"
   ]
  },
  {
   "cell_type": "code",
   "execution_count": 267,
   "id": "74e270d8-cd3a-404e-b6fa-575ffaa6ac03",
   "metadata": {},
   "outputs": [
    {
     "name": "stdout",
     "output_type": "stream",
     "text": [
      "True\n",
      "False\n"
     ]
    }
   ],
   "source": [
    "s=\"He's in the office. He is hardworking man\"\n",
    "print(s.isprintable())# what is in string and is printable\n",
    "s=\"He's in the office. He is hardworking man\\n\"\n",
    "print(s.isprintable())# next line function is not printable"
   ]
  },
  {
   "cell_type": "code",
   "execution_count": 271,
   "id": "1a597407-eae2-47f7-9dc5-d85fa34a92ce",
   "metadata": {},
   "outputs": [
    {
     "name": "stdout",
     "output_type": "stream",
     "text": [
      "True\n",
      "False\n"
     ]
    }
   ],
   "source": [
    "t=\" \"\n",
    "print(t.isspace())\n",
    "t=\"hi my\"\n",
    "print(t.isspace())"
   ]
  },
  {
   "cell_type": "code",
   "execution_count": 279,
   "id": "b716da8f-3765-4d25-bf40-83d022319ae2",
   "metadata": {},
   "outputs": [
    {
     "name": "stdout",
     "output_type": "stream",
     "text": [
      "Welcome To My Channel To Lorem Ipsum Me Data\n",
      "False\n",
      "True\n"
     ]
    }
   ],
   "source": [
    "n=\"welcome to my channel to lorem ipsum me data\"\n",
    "m=n.title()\n",
    "print(m)\n",
    "print(n.istitle())\n",
    "print(m.istitle()) #because we converted n into capitalize 1st letter capital of each word in the title"
   ]
  },
  {
   "cell_type": "code",
   "execution_count": 283,
   "id": "8f3dff39-cad0-4415-ba07-469dedb6695b",
   "metadata": {},
   "outputs": [
    {
     "name": "stdout",
     "output_type": "stream",
     "text": [
      "True\n"
     ]
    }
   ],
   "source": [
    "n=\"welcome to my channel to lorem ipsum me data\"\n",
    "print(n.startswith(\"w\"))"
   ]
  },
  {
   "cell_type": "code",
   "execution_count": 287,
   "id": "007dcde7-d660-4e23-bebf-6dd8f03daa82",
   "metadata": {},
   "outputs": [
    {
     "name": "stdout",
     "output_type": "stream",
     "text": [
      "wELCOME tO mY cHANNEL tO lOREM iPSUM mE dATA\n"
     ]
    }
   ],
   "source": [
    "m=\"Welcome To My Channel To Lorem Ipsum Me Data\"\n",
    "print(m.swapcase()) #to swap cases"
   ]
  },
  {
   "cell_type": "code",
   "execution_count": 295,
   "id": "ac8c009a-33d6-4f2d-927a-bf5d92ff4e40",
   "metadata": {},
   "outputs": [
    {
     "name": "stdin",
     "output_type": "stream",
     "text": [
      "enter age 15\n"
     ]
    },
    {
     "name": "stdout",
     "output_type": "stream",
     "text": [
      "print your age is 15\n",
      "False\n",
      "True\n",
      "False\n",
      "True\n",
      "not eligible\n"
     ]
    }
   ],
   "source": [
    "a=int(input(\"enter age\"))\n",
    "print(\"print your age is\", a)\n",
    "print(a>18)\n",
    "print(a<18)\n",
    "print(a==18)\n",
    "print(a!=18)\n",
    "if(a>=18):\n",
    "    print(\"eligible\")\n",
    "else:\n",
    "    print(\"not eligible\")\n"
   ]
  },
  {
   "cell_type": "code",
   "execution_count": 299,
   "id": "5f1381c1-5e15-4157-9ed8-1531b3023808",
   "metadata": {},
   "outputs": [
    {
     "name": "stdout",
     "output_type": "stream",
     "text": [
      "cant buy\n"
     ]
    }
   ],
   "source": [
    "aprate=210\n",
    "b=200\n",
    "if(aprate<=b):\n",
    "    print(\"can buy\")\n",
    "else:\n",
    "    print(\"cant buy\")"
   ]
  },
  {
   "cell_type": "code",
   "execution_count": 303,
   "id": "35206750-d04b-4927-b9c4-3ca2928e019e",
   "metadata": {},
   "outputs": [
    {
     "name": "stdin",
     "output_type": "stream",
     "text": [
      "enter number 3\n"
     ]
    },
    {
     "name": "stdout",
     "output_type": "stream",
     "text": [
      "positive\n",
      "happy\n"
     ]
    }
   ],
   "source": [
    "num=int(input(\"enter number\"))\n",
    "if(num<0):\n",
    "    print(\"neg\")\n",
    "elif(num==0):\n",
    "    print(\"equal\")\n",
    "else:\n",
    "    print(\"positive\")\n",
    "print(\"happy\")"
   ]
  },
  {
   "cell_type": "code",
   "execution_count": 307,
   "id": "a02f1c45-5143-4e38-8680-fd46da6da12d",
   "metadata": {},
   "outputs": [
    {
     "name": "stdout",
     "output_type": "stream",
     "text": [
      "10-20\n"
     ]
    }
   ],
   "source": [
    "#nested if else\n",
    "num=18\n",
    "if(num<0):\n",
    "    print(\"neg\")\n",
    "elif(num>0):\n",
    "    if(num<=10):\n",
    "        print(\"1-10\")\n",
    "    elif(num>10 and num<=20):\n",
    "        print(\"10-20\")\n",
    "    else:\n",
    "        print(\"more than 20\")\n",
    "else:\n",
    "    print(\"num is 0\")"
   ]
  },
  {
   "cell_type": "code",
   "execution_count": 309,
   "id": "49d5ce19-1320-4b21-a61e-1f640e895908",
   "metadata": {},
   "outputs": [
    {
     "name": "stdout",
     "output_type": "stream",
     "text": [
      "Twinkle, twinkle, little star, \n",
      "\tHow I wonder what you are! \n",
      "\t\tUp above the world so high, \n",
      "\t\tLike a diamond in the sky. \n",
      "Twinkle, twinkle, little star, \n",
      "\tHow I wonder what you are!\n"
     ]
    }
   ],
   "source": [
    "print(\"Twinkle, twinkle, little star, \\n\\tHow I wonder what you are! \\n\\t\\tUp above the world so high, \\n\\t\\tLike a diamond in the sky. \\nTwinkle, twinkle, little star, \\n\\tHow I wonder what you are!\")\n"
   ]
  },
  {
   "cell_type": "code",
   "execution_count": 313,
   "id": "80d847d2-5dac-4cd2-9cd4-cb9ccd018384",
   "metadata": {},
   "outputs": [
    {
     "name": "stdout",
     "output_type": "stream",
     "text": [
      "Twinkle, twinkle, little star, \n",
      "How I wonder what you are!\n"
     ]
    }
   ],
   "source": [
    "print(\"Twinkle, twinkle, little star, \\nHow I wonder what you are!\")"
   ]
  },
  {
   "cell_type": "code",
   "execution_count": 329,
   "id": "d9b979e8-599b-4741-9bdd-40fe3a7b3190",
   "metadata": {},
   "outputs": [
    {
     "name": "stdout",
     "output_type": "stream",
     "text": [
      "15:34:06\n",
      "15\n",
      "34\n",
      "06\n"
     ]
    }
   ],
   "source": [
    "import time\n",
    "t = time.strftime('%H:%M:%S')\n",
    "print(t)\n",
    "h=time.strftime('%H')\n",
    "print(h)\n",
    "m=time.strftime('%M')\n",
    "print(m)\n",
    "s=time.strftime('%S')\n",
    "print(s)\n"
   ]
  },
  {
   "cell_type": "code",
   "execution_count": 331,
   "id": "92543a45-8625-40f9-9616-1f67fd6e0494",
   "metadata": {},
   "outputs": [
    {
     "ename": "ValueError",
     "evalue": "invalid literal for int() with base 10: '15:35:28'",
     "output_type": "error",
     "traceback": [
      "\u001b[0;31m---------------------------------------------------------------------------\u001b[0m",
      "\u001b[0;31mValueError\u001b[0m                                Traceback (most recent call last)",
      "Cell \u001b[0;32mIn[331], line 2\u001b[0m\n\u001b[1;32m      1\u001b[0m \u001b[38;5;28;01mimport\u001b[39;00m \u001b[38;5;21;01mtime\u001b[39;00m\n\u001b[0;32m----> 2\u001b[0m t \u001b[38;5;241m=\u001b[39m \u001b[38;5;28mint\u001b[39m(time\u001b[38;5;241m.\u001b[39mstrftime(\u001b[38;5;124m'\u001b[39m\u001b[38;5;124m%\u001b[39m\u001b[38;5;124mH:\u001b[39m\u001b[38;5;124m%\u001b[39m\u001b[38;5;124mM:\u001b[39m\u001b[38;5;124m%\u001b[39m\u001b[38;5;124mS\u001b[39m\u001b[38;5;124m'\u001b[39m))\n\u001b[1;32m      3\u001b[0m \u001b[38;5;28mprint\u001b[39m(t)\n\u001b[1;32m      4\u001b[0m h\u001b[38;5;241m=\u001b[39m\u001b[38;5;28mint\u001b[39m(time\u001b[38;5;241m.\u001b[39mstrftime(\u001b[38;5;124m'\u001b[39m\u001b[38;5;124m%\u001b[39m\u001b[38;5;124mH\u001b[39m\u001b[38;5;124m'\u001b[39m))\n",
      "\u001b[0;31mValueError\u001b[0m: invalid literal for int() with base 10: '15:35:28'"
     ]
    }
   ],
   "source": [
    "import time\n",
    "t = int(time.strftime('%H:%M:%S'))\n",
    "print(t)\n",
    "h=int(time.strftime('%H'))\n",
    "print(h)\n",
    "m=int(time.strftime('%M'))\n",
    "print(m)\n",
    "s=int(time.strftime('%S'))\n",
    "print(s)"
   ]
  },
  {
   "cell_type": "code",
   "execution_count": 333,
   "id": "79a25e34-7472-490f-9278-d30616c907d2",
   "metadata": {},
   "outputs": [
    {
     "ename": "TypeError",
     "evalue": "'>' not supported between instances of 'str' and 'int'",
     "output_type": "error",
     "traceback": [
      "\u001b[0;31m---------------------------------------------------------------------------\u001b[0m",
      "\u001b[0;31mTypeError\u001b[0m                                 Traceback (most recent call last)",
      "Cell \u001b[0;32mIn[333], line 1\u001b[0m\n\u001b[0;32m----> 1\u001b[0m \u001b[38;5;28;01mif\u001b[39;00m (h\u001b[38;5;241m>\u001b[39m\u001b[38;5;241m00\u001b[39m \u001b[38;5;129;01mand\u001b[39;00m h\u001b[38;5;241m<\u001b[39m\u001b[38;5;241m12\u001b[39m):\n\u001b[1;32m      2\u001b[0m     \u001b[38;5;28mprint\u001b[39m(\u001b[38;5;124m\"\u001b[39m\u001b[38;5;124mmorning\u001b[39m\u001b[38;5;124m\"\u001b[39m)\n\u001b[1;32m      3\u001b[0m \u001b[38;5;28;01melif\u001b[39;00m(h\u001b[38;5;241m>\u001b[39m\u001b[38;5;241m12\u001b[39m \u001b[38;5;129;01mand\u001b[39;00m h\u001b[38;5;241m<\u001b[39m\u001b[38;5;241m17\u001b[39m):\n",
      "\u001b[0;31mTypeError\u001b[0m: '>' not supported between instances of 'str' and 'int'"
     ]
    }
   ],
   "source": [
    "# check with sir\n",
    "if (h>00 and h<12):\n",
    "    print(\"morning\")\n",
    "elif(h>12 and h<17):\n",
    "    print(\"afternoon\")\n",
    "elif(h>17 and h<22):\n",
    "    print(\"evening\")\n",
    "else:\n",
    "    print(\"night\")"
   ]
  },
  {
   "cell_type": "code",
   "execution_count": 361,
   "id": "2cfc78d3-f5d6-4c86-aa01-f7c0bed1e1d6",
   "metadata": {},
   "outputs": [
    {
     "name": "stdin",
     "output_type": "stream",
     "text": [
      "enter 90\n"
     ]
    },
    {
     "name": "stdout",
     "output_type": "stream",
     "text": [
      "90 is not 80\n"
     ]
    }
   ],
   "source": [
    "#match case statement\n",
    "x=int(input(\"enter\"))\n",
    "match x:\n",
    " case 0:\n",
    "     print(\"x is 0\")\n",
    " case 1:\n",
    "     print(\"x is 1\")\n",
    " case 5:\n",
    "     print(x)\n",
    " case _ if x!=90:\n",
    "     print(x,\"is not 90\")\n",
    " case _ if x!=80:\n",
    "     print(x,\"is not 80\")# no need for break statements\n",
    "     "
   ]
  },
  {
   "cell_type": "code",
   "execution_count": 377,
   "id": "fd598080-5da4-46f3-a756-55b882d1419f",
   "metadata": {},
   "outputs": [
    {
     "name": "stdout",
     "output_type": "stream",
     "text": [
      "s\n",
      "a\n",
      "k\n",
      "special\n",
      "s\n",
      "h\n",
      "i\n"
     ]
    }
   ],
   "source": [
    "n=\"sakshi\"\n",
    "for i in n:\n",
    "    print(i)\n",
    "    if(i==\"k\"):\n",
    "         print(\"special\")"
   ]
  },
  {
   "cell_type": "code",
   "execution_count": 15,
   "id": "bd589bd9-7706-4244-a519-9a738c0376bf",
   "metadata": {},
   "outputs": [
    {
     "name": "stdout",
     "output_type": "stream",
     "text": [
      "Red\n",
      "Green\n",
      "Blue\n",
      "Yellow\n"
     ]
    }
   ],
   "source": [
    "colors = [\"Red\", \"Green\", \"Blue\", \"Yellow\"]\n",
    "for color in colors:\n",
    "     print(color)"
   ]
  },
  {
   "cell_type": "code",
   "execution_count": 384,
   "id": "c496aee8-916c-4050-915f-cf2fa48f021f",
   "metadata": {},
   "outputs": [
    {
     "name": "stdout",
     "output_type": "stream",
     "text": [
      "Red\n",
      "R\n",
      "e\n",
      "d\n",
      "Green\n",
      "G\n",
      "r\n",
      "e\n",
      "e\n",
      "n\n",
      "Blue\n",
      "B\n",
      "l\n",
      "u\n",
      "e\n",
      "Yellow\n",
      "Y\n",
      "e\n",
      "l\n",
      "l\n",
      "o\n",
      "w\n"
     ]
    }
   ],
   "source": [
    "colors = [\"Red\", \"Green\", \"Blue\", \"Yellow\"]\n",
    "for color in colors:\n",
    "    print(color)\n",
    "    for i in color:\n",
    "        print(i)"
   ]
  },
  {
   "cell_type": "code",
   "execution_count": 402,
   "id": "10d4190c-f35d-48af-a99e-f3d06a3c5b70",
   "metadata": {},
   "outputs": [
    {
     "name": "stdout",
     "output_type": "stream",
     "text": [
      "0\n",
      "1\n",
      "2\n",
      "3\n",
      "4\n",
      "5\n",
      "6\n",
      "7\n",
      "8\n",
      "9\n",
      "10\n",
      "11\n",
      "12\n",
      "13\n",
      "14\n",
      "15\n",
      "16\n",
      "17\n",
      "18\n",
      "19\n"
     ]
    }
   ],
   "source": [
    "for k in range(20):\n",
    "   print(k)\n",
    "   \n"
   ]
  },
  {
   "cell_type": "code",
   "execution_count": 404,
   "id": "0a771969-980e-41e4-9cd6-22e3d8082ca7",
   "metadata": {},
   "outputs": [
    {
     "name": "stdout",
     "output_type": "stream",
     "text": [
      "1\n",
      "2\n",
      "3\n",
      "4\n",
      "5\n",
      "6\n",
      "7\n",
      "8\n",
      "9\n",
      "10\n",
      "11\n",
      "12\n",
      "13\n",
      "14\n",
      "15\n",
      "16\n",
      "17\n",
      "18\n",
      "19\n",
      "20\n"
     ]
    }
   ],
   "source": [
    "for k in range(20):\n",
    "   print(k+1)"
   ]
  },
  {
   "cell_type": "code",
   "execution_count": 420,
   "id": "aa5c5cb6-ac46-42f3-90aa-fd0198ccef1d",
   "metadata": {
    "scrolled": true
   },
   "outputs": [
    {
     "name": "stdout",
     "output_type": "stream",
     "text": [
      "2\n",
      "4\n",
      "6\n",
      "8\n",
      "10\n",
      "12\n",
      "14\n",
      "16\n",
      "18\n",
      "20\n"
     ]
    }
   ],
   "source": [
    "for k in range(2, 22, 2):# omits few numbers\n",
    "    \n",
    "  print(k)"
   ]
  },
  {
   "cell_type": "code",
   "execution_count": 408,
   "id": "92680397-7945-4752-99f7-6da4f8966109",
   "metadata": {},
   "outputs": [
    {
     "name": "stdout",
     "output_type": "stream",
     "text": [
      "1\n",
      "2\n",
      "3\n",
      "4\n",
      "5\n",
      "6\n"
     ]
    }
   ],
   "source": [
    "for k in range(1,7):\n",
    "  print(k)"
   ]
  },
  {
   "cell_type": "code",
   "execution_count": 422,
   "id": "05cbd18f-014d-4eee-9f01-7a40fe4f9c49",
   "metadata": {},
   "outputs": [
    {
     "name": "stdout",
     "output_type": "stream",
     "text": [
      "0\n",
      "1\n",
      "2\n"
     ]
    }
   ],
   "source": [
    "i=0               #initialization\n",
    "while(i<3):       #conditions\n",
    "    print(i)      #output\n",
    "    i=i+1;        #inc/dec"
   ]
  },
  {
   "cell_type": "code",
   "execution_count": 1,
   "id": "e6c6d748-a547-4b41-b0e1-f217a73200fd",
   "metadata": {},
   "outputs": [
    {
     "name": "stdin",
     "output_type": "stream",
     "text": [
      "enter 2\n"
     ]
    },
    {
     "name": "stdout",
     "output_type": "stream",
     "text": [
      "3\n",
      "4\n",
      "5\n",
      "6\n",
      "7\n",
      "8\n",
      "9\n",
      "10\n",
      "11\n",
      "12\n",
      "13\n",
      "14\n",
      "15\n",
      "16\n",
      "17\n",
      "18\n",
      "19\n",
      "20\n",
      "21\n",
      "22\n",
      "23\n",
      "24\n",
      "25\n",
      "26\n",
      "27\n",
      "28\n",
      "29\n",
      "30\n",
      "31\n",
      "32\n",
      "33\n",
      "34\n",
      "35\n",
      "36\n",
      "37\n",
      "38\n",
      "39\n",
      "done with loop\n"
     ]
    }
   ],
   "source": [
    "i=int(input(\"enter\"))\n",
    "while(i<=38):\n",
    "    # i=int(input(\"enter\"))\n",
    "    i=i+1\n",
    "    print(i)\n",
    "print(\"done with loop\")"
   ]
  },
  {
   "cell_type": "code",
   "execution_count": 3,
   "id": "de2d6fba-1f2b-478c-bce7-27f92adad4a1",
   "metadata": {},
   "outputs": [
    {
     "name": "stdin",
     "output_type": "stream",
     "text": [
      "enter 3\n",
      "enter 4\n"
     ]
    },
    {
     "name": "stdout",
     "output_type": "stream",
     "text": [
      "4\n"
     ]
    },
    {
     "name": "stdin",
     "output_type": "stream",
     "text": [
      "enter 2\n"
     ]
    },
    {
     "name": "stdout",
     "output_type": "stream",
     "text": [
      "2\n"
     ]
    },
    {
     "name": "stdin",
     "output_type": "stream",
     "text": [
      "enter 1\n"
     ]
    },
    {
     "name": "stdout",
     "output_type": "stream",
     "text": [
      "1\n"
     ]
    },
    {
     "name": "stdin",
     "output_type": "stream",
     "text": [
      "enter 3\n"
     ]
    },
    {
     "name": "stdout",
     "output_type": "stream",
     "text": [
      "3\n"
     ]
    },
    {
     "name": "stdin",
     "output_type": "stream",
     "text": [
      "enter 65\n"
     ]
    },
    {
     "name": "stdout",
     "output_type": "stream",
     "text": [
      "65\n",
      "done with loop\n"
     ]
    }
   ],
   "source": [
    "i=int(input(\"enter\"))\n",
    "while(i<=38):\n",
    "    i=int(input(\"enter\"))\n",
    "    print(i)\n",
    "print(\"done with loop\")"
   ]
  },
  {
   "cell_type": "code",
   "execution_count": 1,
   "id": "3114b095-1bf0-43f1-b322-3b2593611931",
   "metadata": {},
   "outputs": [
    {
     "name": "stdout",
     "output_type": "stream",
     "text": [
      "5\n",
      "4\n",
      "3\n",
      "2\n",
      "1\n",
      "out\n"
     ]
    }
   ],
   "source": [
    "count=5\n",
    "while(count>0):\n",
    "    print(count)\n",
    "    count=count-1\n",
    "else:\n",
    "    print(\"out\")"
   ]
  },
  {
   "cell_type": "code",
   "execution_count": 3,
   "id": "bdc6ca7c-041b-4086-b352-d1bcc1f5e907",
   "metadata": {},
   "outputs": [
    {
     "name": "stdout",
     "output_type": "stream",
     "text": [
      "5* 1 = 5\n",
      "5* 2 = 10\n",
      "5* 3 = 15\n",
      "5* 4 = 20\n",
      "5* 5 = 25\n",
      "5* 6 = 30\n",
      "5* 7 = 35\n",
      "5* 8 = 40\n",
      "5* 9 = 45\n",
      "5* 10 = 50\n"
     ]
    }
   ],
   "source": [
    "for i in range(1,11):\n",
    "    print(\"5*\",i,\"=\",5*i)\n",
    "  "
   ]
  },
  {
   "cell_type": "code",
   "execution_count": 21,
   "id": "9685b1b8-cb87-4a58-8924-ec026e4dd759",
   "metadata": {},
   "outputs": [
    {
     "name": "stdout",
     "output_type": "stream",
     "text": [
      "5* 1 = 5\n",
      "5* 2 = 10\n",
      "5* 3 = 15\n",
      "5* 4 = 20\n",
      "5* 5 = 25\n",
      "5* 6 = 30\n",
      "5* 7 = 35\n",
      "5* 8 = 40\n",
      "5* 9 = 45\n",
      "5* 10 = 50\n",
      "5* 11 = 55\n"
     ]
    }
   ],
   "source": [
    "for i in range(0,11):\n",
    "    print(\"5*\",i+1,\"=\",5*(i+1))\n",
    "\n"
   ]
  },
  {
   "cell_type": "code",
   "execution_count": 3,
   "id": "189566f1-eaa9-45bb-8cbb-a8e7b4d9fcbd",
   "metadata": {},
   "outputs": [
    {
     "name": "stdout",
     "output_type": "stream",
     "text": [
      "5* 1 = 5\n",
      "5* 2 = 10\n",
      "5* 3 = 15\n",
      "5* 4 = 20\n",
      "5* 5 = 25\n",
      "5* 6 = 30\n",
      "5* 7 = 35\n",
      "5* 8 = 40\n",
      "5* 9 = 45\n",
      "5* 10 = 50\n",
      "exit\n"
     ]
    }
   ],
   "source": [
    "for i in range(12):\n",
    "    if(i==10):\n",
    "         break\n",
    "    print(\"5*\",i+1,\"=\",5*(i+1))\n",
    "print(\"exit\")\n",
    " "
   ]
  },
  {
   "cell_type": "code",
   "execution_count": 49,
   "id": "e676a71c-e957-468f-8792-00fa2c1d1b7d",
   "metadata": {},
   "outputs": [
    {
     "name": "stdout",
     "output_type": "stream",
     "text": [
      "5* 1 = 5\n",
      "5* 2 = 10\n",
      "5* 3 = 15\n",
      "5* 4 = 20\n",
      "5* 5 = 25\n",
      "5* 6 = 30\n",
      "5* 7 = 35\n",
      "5* 8 = 40\n",
      "5* 9 = 45\n",
      "5* 10 = 50\n",
      "continue\n",
      "5* 12 = 60\n"
     ]
    }
   ],
   "source": [
    "for i in range(12):\n",
    "     if(i==10):\n",
    "         print(\"continue\")\n",
    "         continue\n",
    "     print(\"5*\",i+1,\"=\",5*(i+1))\n",
    "         \n",
    "#print(\"exit\")\n",
    " "
   ]
  },
  {
   "cell_type": "code",
   "execution_count": 53,
   "id": "ffb2f57a-eb28-4d56-a558-1898ae046e86",
   "metadata": {},
   "outputs": [
    {
     "name": "stdout",
     "output_type": "stream",
     "text": [
      "0\n",
      "1\n",
      "2\n",
      "3\n",
      "4\n"
     ]
    }
   ],
   "source": [
    "i = 0\n",
    "while True:\n",
    "  print(i)\n",
    "  i = i + 1\n",
    "  if(i%5 == 0):\n",
    "    break"
   ]
  },
  {
   "cell_type": "code",
   "execution_count": 69,
   "id": "d696889c-21f7-419b-bf00-bd335061bc13",
   "metadata": {},
   "outputs": [
    {
     "ename": "TypeError",
     "evalue": "calmean() missing 1 required positional argument: 'd'",
     "output_type": "error",
     "traceback": [
      "\u001b[0;31m---------------------------------------------------------------------------\u001b[0m",
      "\u001b[0;31mTypeError\u001b[0m                                 Traceback (most recent call last)",
      "Cell \u001b[0;32mIn[69], line 8\u001b[0m\n\u001b[1;32m      6\u001b[0m b\u001b[38;5;241m=\u001b[39m\u001b[38;5;241m4\u001b[39m\n\u001b[1;32m      7\u001b[0m c\u001b[38;5;241m=\u001b[39m\u001b[38;5;241m3\u001b[39m\n\u001b[0;32m----> 8\u001b[0m calmean(a,b,c)\n",
      "\u001b[0;31mTypeError\u001b[0m: calmean() missing 1 required positional argument: 'd'"
     ]
    }
   ],
   "source": [
    "#functions(How to have flexible input system)\n",
    "def calmean(a,b,c,d):\n",
    "    mean=a+b+c+d/2\n",
    "    print(mean)\n",
    "a=3\n",
    "b=4\n",
    "c=3\n",
    "calmean(a,b,c)"
   ]
  },
  {
   "cell_type": "code",
   "execution_count": 75,
   "id": "cbbf68d8-56a0-49dc-bac1-5265b21e10be",
   "metadata": {},
   "outputs": [
    {
     "name": "stdout",
     "output_type": "stream",
     "text": [
      "3.3333333333333335\n",
      "3.0\n"
     ]
    }
   ],
   "source": [
    "#functions\n",
    "def calmean(a,b,c):\n",
    "    mean=(a+b+c)/3\n",
    "    print(mean)\n",
    "a=3\n",
    "b=4\n",
    "c=3\n",
    "calmean(a,b,c)\n",
    "d=3\n",
    "e=3\n",
    "f=3\n",
    "calmean(d,e,f)"
   ]
  },
  {
   "cell_type": "code",
   "execution_count": 67,
   "id": "99615ba1-0fd9-43c0-a224-8a34e8dd08f2",
   "metadata": {},
   "outputs": [
    {
     "name": "stdout",
     "output_type": "stream",
     "text": [
      "First number is greater\n",
      "4.235294117647059\n",
      "Second number is greater or equal\n",
      "7.219512195121951\n"
     ]
    }
   ],
   "source": [
    "def calculateGmean(a, b):\n",
    "  mean = (a*b)/(a+b)\n",
    "  print(mean)\n",
    "\n",
    "def isGreater(a, b):\n",
    "  if(a>b):\n",
    "    print(\"First number is greater\")\n",
    "  else:\n",
    "    print(\"Second number is greater or equal\")\n",
    "\n",
    "def isLesser(a, b):\n",
    "  pass                                        #when you make function but not sure of logic to be written then we use \"pass\"\n",
    "  \n",
    "\n",
    "a = 9\n",
    "b = 8\n",
    "isGreater(a, b)\n",
    "calculateGmean(a, b)\n",
    "# gmean1 = (a*b)/(a+b)\n",
    "# print(gmean1)\n",
    "c = 8\n",
    "d = 74\n",
    "isGreater(c, d)\n",
    "calculateGmean(c, d)\n",
    "# gmean2 = (c*d)/(c+d)\n",
    "# print(gmean2)"
   ]
  },
  {
   "cell_type": "code",
   "execution_count": 89,
   "id": "1b42f640-990c-4453-9c95-539a8926e993",
   "metadata": {},
   "outputs": [
    {
     "name": "stdout",
     "output_type": "stream",
     "text": [
      "The average is  3.0\n"
     ]
    }
   ],
   "source": [
    " def average(a, b):\n",
    "  print(\"The average is \", (a + b ) / 2)\n",
    "\n",
    "\n",
    "average(a=3,b=3)"
   ]
  },
  {
   "cell_type": "code",
   "execution_count": 101,
   "id": "df092834-47e0-4129-8d6d-d0c1fbfd6e19",
   "metadata": {},
   "outputs": [
    {
     "name": "stdout",
     "output_type": "stream",
     "text": [
      "average is 3.5\n",
      "average is 8.5\n",
      "average is 4.5\n",
      "average is 5.0\n"
     ]
    }
   ],
   "source": [
    "#default arguments\n",
    "def average(a=3,b=4):\n",
    "   print(\"average is\",(a+b)/2)\n",
    "average()\n",
    "average(8,9)\n",
    "average(a=2,b=7)\n",
    "average(b=7) #only b value changes here\n"
   ]
  },
  {
   "cell_type": "code",
   "execution_count": 105,
   "id": "543bdb12-caeb-45f8-af0a-3aff6a6ad522",
   "metadata": {},
   "outputs": [
    {
     "name": "stdout",
     "output_type": "stream",
     "text": [
      "Hello, Amy singh Whatson\n"
     ]
    }
   ],
   "source": [
    "#default arguments\n",
    "def name(fname, mname = \"Jhon\", lname = \"Whatson\"):\n",
    "    print(\"Hello,\", fname, mname, lname)\n",
    "\n",
    "name(\"Amy\",\"singh\")"
   ]
  },
  {
   "cell_type": "code",
   "execution_count": 107,
   "id": "a36ac3a7-a278-44be-8f59-2cca6ca9c18d",
   "metadata": {},
   "outputs": [
    {
     "name": "stdout",
     "output_type": "stream",
     "text": [
      "Hello, Amy singh Whatson\n"
     ]
    }
   ],
   "source": [
    "#keyword argument\n",
    "def name(fname, mname = \"Jhon\", lname = \"Whatson\"):\n",
    "    print(\"Hello,\", fname, mname, lname)\n",
    "\n",
    "name(fname=\"Amy\",mname=\"singh\")# just we give values in parameter"
   ]
  },
  {
   "cell_type": "code",
   "execution_count": 111,
   "id": "6e8cbd0f-0947-408c-8918-9460fe95ea83",
   "metadata": {},
   "outputs": [
    {
     "ename": "TypeError",
     "evalue": "average() missing 1 required positional argument: 'a'",
     "output_type": "error",
     "traceback": [
      "\u001b[0;31m---------------------------------------------------------------------------\u001b[0m",
      "\u001b[0;31mTypeError\u001b[0m                                 Traceback (most recent call last)",
      "Cell \u001b[0;32mIn[111], line 4\u001b[0m\n\u001b[1;32m      2\u001b[0m \u001b[38;5;28;01mdef\u001b[39;00m \u001b[38;5;21maverage\u001b[39m(a,b\u001b[38;5;241m=\u001b[39m\u001b[38;5;241m4\u001b[39m):\n\u001b[1;32m      3\u001b[0m    \u001b[38;5;28mprint\u001b[39m(\u001b[38;5;124m\"\u001b[39m\u001b[38;5;124maverage is\u001b[39m\u001b[38;5;124m\"\u001b[39m,(a\u001b[38;5;241m+\u001b[39mb)\u001b[38;5;241m/\u001b[39m\u001b[38;5;241m2\u001b[39m)\n\u001b[0;32m----> 4\u001b[0m average()\n",
      "\u001b[0;31mTypeError\u001b[0m: average() missing 1 required positional argument: 'a'"
     ]
    }
   ],
   "source": [
    "#required arguments\n",
    "def average(a,b=4):\n",
    "   print(\"average is\",(a+b)/2)\n",
    "average()"
   ]
  },
  {
   "cell_type": "code",
   "execution_count": 113,
   "id": "1a077bcf-3e2c-44b0-be8f-96b44709476b",
   "metadata": {},
   "outputs": [
    {
     "name": "stdout",
     "output_type": "stream",
     "text": [
      "average is 5.5\n"
     ]
    }
   ],
   "source": [
    "#required arguments\n",
    "def average(a,b=4):\n",
    "   print(\"average is\",(a+b)/2)\n",
    "average(a=7)                # it means values are required if its not assigned in the 1st place\n"
   ]
  },
  {
   "cell_type": "code",
   "execution_count": 142,
   "id": "5cbbeb26-47a1-4a58-b8bd-73939e655593",
   "metadata": {},
   "outputs": [
    {
     "name": "stdout",
     "output_type": "stream",
     "text": [
      "average is 3.6666666666666665\n",
      "None\n"
     ]
    }
   ],
   "source": [
    "def average(*num):\n",
    "   s=0\n",
    "   for i in num:\n",
    "    s=s+i\n",
    "   print(\"average is\", s/len(num))\n",
    "\n",
    "m=average(2,4,5)    #yayyyy its working\n",
    "print(m)"
   ]
  },
  {
   "cell_type": "code",
   "execution_count": 133,
   "id": "4b6b127c-90a6-4909-9fee-3761eb209b2c",
   "metadata": {},
   "outputs": [
    {
     "name": "stdout",
     "output_type": "stream",
     "text": [
      "4.0\n"
     ]
    }
   ],
   "source": [
    "def average(*numbers):\n",
    "  # print(type(numbers))  #it is tuple\n",
    "  sum = 0\n",
    "  for i in numbers:\n",
    "    sum = sum + i\n",
    "  # print(\"Average is: \", sum / len(numbers))\n",
    "  # return 7\n",
    "  return sum / len(numbers)\n",
    "\n",
    "\n",
    "# average(4, 6)\n",
    "# average(b=9)\n",
    "\n",
    "c = average(2,3,4,5,6)\n",
    "print(c)"
   ]
  },
  {
   "cell_type": "code",
   "execution_count": 150,
   "id": "6b958433-c593-478c-a0f0-23a1b5a8a921",
   "metadata": {},
   "outputs": [
    {
     "name": "stdout",
     "output_type": "stream",
     "text": [
      "<class 'dict'>\n",
      "Hello, James Buchanan Barnes\n"
     ]
    }
   ],
   "source": [
    "#dictionary\n",
    "def name(**name):\n",
    "     print(type(name))\n",
    "     print(\"Hello,\", name[\"fname\"], name[\"mname\"], name[\"lname\"])\n",
    "\n",
    "name(mname=\"Buchanan\", lname=\"Barnes\", fname=\"James\")\n"
   ]
  },
  {
   "cell_type": "code",
   "execution_count": null,
   "id": "01ff69d4-ce02-4775-985e-a05c05fbecbe",
   "metadata": {},
   "outputs": [],
   "source": [
    "#print and return serve different purposes in Python functions. print displays output to the console for the user to see,\n",
    "#while return sends a value back to the caller of the function for further use within the program\n",
    "\n"
   ]
  },
  {
   "cell_type": "code",
   "execution_count": 156,
   "id": "e41f08a3-76fd-4f40-b9a0-d50d756f22a0",
   "metadata": {},
   "outputs": [
    {
     "name": "stdout",
     "output_type": "stream",
     "text": [
      "  hello world\n",
      "python programming\n",
      "cis\n",
      "CAP\n"
     ]
    }
   ],
   "source": [
    "#google code for .rstrip function\n",
    "string1 = \"  hello world   \"\n",
    "string2 = \"python programming...\"\n",
    "\n",
    "# Remove trailing whitespace\n",
    "print(string1.rstrip())  # Output: \"  hello world\"\n",
    "\n",
    "# Remove trailing dots\n",
    "print(string2.rstrip(\".\"))  # Output: \"python programming\"\n",
    "\n",
    "# Remove a set of characters\n",
    "print(\"cisco.com\".rstrip(\".com\")) # Output: \"cis\"\n",
    "\n",
    "# rstrip is case-sensitive\n",
    "print(\"CAPS\".rstrip(\"SpAc\")) # Output: CAPS"
   ]
  },
  {
   "cell_type": "code",
   "execution_count": 182,
   "id": "76f4faeb-4b7f-4771-a7ee-a2b1cf442887",
   "metadata": {},
   "outputs": [
    {
     "name": "stdout",
     "output_type": "stream",
     "text": [
      "[2, 4, 5, 'cat', True, 'hehe']\n",
      "2\n",
      "4\n",
      "5\n",
      "cat\n",
      "5\n",
      "print spaceeeeeeeeee\n",
      "6\n",
      "5\n"
     ]
    }
   ],
   "source": [
    "marks=[2,4,5,\"cat\",True,\"hehe\"]\n",
    "print(marks)\n",
    "print(marks[0])\n",
    "print(marks[1])\n",
    "print(marks[2])\n",
    "print(marks[3])\n",
    "print(marks[-4])\n",
    "print(\"print spaceeeeeeeeee\")\n",
    "a=len(marks)                          #length\n",
    "print(a)\n",
    "a\n",
    "j=marks.index(\"hehe\")   #indexing\n",
    "print(j)"
   ]
  },
  {
   "cell_type": "code",
   "execution_count": 192,
   "id": "5d71d4c5-fd98-496a-bdba-6cbc3ab2caca",
   "metadata": {},
   "outputs": [
    {
     "name": "stdout",
     "output_type": "stream",
     "text": [
      "[2, 4, 5, 'cat', True, 'hehe']\n",
      "2\n",
      "4\n",
      "hehe\n",
      "hehe\n",
      "[5]\n"
     ]
    }
   ],
   "source": [
    "marks=[2,4,5,\"cat\",True,\"hehe\"]\n",
    "print(marks)\n",
    "print(marks[0])\n",
    "print(marks[1])\n",
    "#if i want to go by negative indexing\n",
    "print(marks[-1])\n",
    "#most easy way is to convert it into positive indexing\n",
    "print(marks[len(marks)-1])\n",
    "print([len(marks)-1])     # avoid this mistake of missing (\"marks\" before \"len-1\")\n"
   ]
  },
  {
   "cell_type": "code",
   "execution_count": 194,
   "id": "acff288d-442d-46dc-9f86-9d3f9c1350dc",
   "metadata": {},
   "outputs": [
    {
     "name": "stdout",
     "output_type": "stream",
     "text": [
      "[2, 4, 5, 'cat', True, 'hehe']\n",
      "ok\n"
     ]
    }
   ],
   "source": [
    "marks=[2,4,5,\"cat\",True,\"hehe\"]\n",
    "print(marks)\n",
    "if \"hehe\" in marks:\n",
    "    print(\"ok\")\n",
    "else:\n",
    "    print(\"not ok\")"
   ]
  },
  {
   "cell_type": "code",
   "execution_count": 196,
   "id": "133aa52a-1598-4f9a-b740-68328a25d126",
   "metadata": {},
   "outputs": [
    {
     "name": "stdout",
     "output_type": "stream",
     "text": [
      "[2, 4, 5, 'cat', True, 'hehe']\n",
      "ok\n"
     ]
    }
   ],
   "source": [
    "marks=[2,4,5,\"cat\",True,\"hehe\"]\n",
    "print(marks)\n",
    "if \"he\" in \"hehe\":     #same thing for string too we can check if present or not\n",
    "    print(\"ok\")\n",
    "else:\n",
    "    print(\"not ok\")"
   ]
  },
  {
   "cell_type": "code",
   "execution_count": 200,
   "id": "63a2ed3d-34d9-454d-9e9f-4e799d38155b",
   "metadata": {},
   "outputs": [
    {
     "name": "stdout",
     "output_type": "stream",
     "text": [
      "[2, 4, 5, 'cat', True, 'hehe']\n",
      "[4, 5, 'cat', True]\n"
     ]
    }
   ],
   "source": [
    "#slicing\n",
    "marks=[2,4,5,\"cat\",True,\"hehe\"]\n",
    "print(marks)\n",
    "print(marks[1:5])"
   ]
  },
  {
   "cell_type": "code",
   "execution_count": 204,
   "id": "d8bf7d90-eca4-454d-9d51-209548b38ccc",
   "metadata": {},
   "outputs": [
    {
     "name": "stdout",
     "output_type": "stream",
     "text": [
      "[2, 4, 5, 'cat', True, 'hehe', 5, 34, 54, 23, 75, 787654, 342]\n",
      "[4, 5, 'cat', True, 'hehe', 5, 34, 54, 23, 75, 787654]\n",
      "[4, True]\n"
     ]
    }
   ],
   "source": [
    "#slicing\n",
    "marks=[2,4,5,\"cat\",True,\"hehe\",5,34,54,23,75,787654,342]\n",
    "print(marks)\n",
    "print(marks[1:-1])\n",
    "print(marks[1:5:3])\n"
   ]
  },
  {
   "cell_type": "code",
   "execution_count": 5,
   "id": "c191afc2-bdcd-4ac6-8f39-461f25ebe055",
   "metadata": {},
   "outputs": [
    {
     "ename": "SyntaxError",
     "evalue": "invalid syntax. Perhaps you forgot a comma? (1605108320.py, line 1)",
     "output_type": "error",
     "traceback": [
      "\u001b[0;36m  Cell \u001b[0;32mIn[5], line 1\u001b[0;36m\u001b[0m\n\u001b[0;31m    l=[2,3,4 5,765]\u001b[0m\n\u001b[0m           ^\u001b[0m\n\u001b[0;31mSyntaxError\u001b[0m\u001b[0;31m:\u001b[0m invalid syntax. Perhaps you forgot a comma?\n"
     ]
    }
   ],
   "source": [
    "l=[2,3,45,765]\n",
    "print(l)\n",
    "l.append(\"m\")\n",
    "print(l)"
   ]
  },
  {
   "cell_type": "code",
   "execution_count": 35,
   "id": "438feee3-2590-42ca-9bd2-f7b2bd02220f",
   "metadata": {},
   "outputs": [
    {
     "name": "stdout",
     "output_type": "stream",
     "text": [
      "[2, 3, 45, 765, 3, 1, 11, 1]\n",
      "[1, 1, 2, 3, 3, 11, 45, 765]\n",
      "[765, 45, 11, 3, 3, 2, 1, 1]\n",
      "6\n",
      "[765, 45, 11, 3, 3, 2, 1, 1]\n",
      "2\n"
     ]
    }
   ],
   "source": [
    "l=[2,3,45,765,3,1,11,1]\n",
    "print(l)\n",
    "l.sort()           #sorting\n",
    "# l=[2,3,45,765]\n",
    "print(l)\n",
    "l.reverse()        #reverse\n",
    "print(l)\n",
    "print(l.index(1))         #index with print\n",
    "print(l)\n",
    "print(l.count(3) )        #count with print\n"
   ]
  },
  {
   "cell_type": "code",
   "execution_count": 37,
   "id": "2fe8ac31-c9c1-404a-b540-07abf842428e",
   "metadata": {},
   "outputs": [
    {
     "name": "stdout",
     "output_type": "stream",
     "text": [
      "[0, 45, 11, 3, 3, 2, 1, 1]\n"
     ]
    }
   ],
   "source": [
    "m=l\n",
    "m[0]=0\n",
    "print(l)     #we can directly put value in the list but below we have better option\n"
   ]
  },
  {
   "cell_type": "code",
   "execution_count": 45,
   "id": "8d71f8d8-6b5f-4f69-aa44-fbf728252e9a",
   "metadata": {},
   "outputs": [
    {
     "name": "stdout",
     "output_type": "stream",
     "text": [
      "[0, 45, 11, 3, 3, 2, 1, 1]\n"
     ]
    }
   ],
   "source": [
    "m=l.copy()\n",
    "m[0]=3         #doubt not working\n",
    "print(l)"
   ]
  },
  {
   "cell_type": "code",
   "execution_count": 47,
   "id": "32412dbf-3e27-4174-a147-f43dedbc028d",
   "metadata": {},
   "outputs": [
    {
     "name": "stdout",
     "output_type": "stream",
     "text": [
      "[0, 45, 11, 245, 3, 3, 2, 1, 1]\n"
     ]
    }
   ],
   "source": [
    "l.insert(3,245)\n",
    "print(l)"
   ]
  },
  {
   "cell_type": "code",
   "execution_count": 49,
   "id": "2be31d19-f0c5-43d6-9966-ed73569338f2",
   "metadata": {},
   "outputs": [
    {
     "name": "stdout",
     "output_type": "stream",
     "text": [
      "[0, 45, 11, 245, 3, 3, 2, 1, 1, 32, 45, 6787]\n"
     ]
    }
   ],
   "source": [
    "m=[32,45,6787]\n",
    "l.extend(m)        #extend\n",
    "print(l)"
   ]
  },
  {
   "cell_type": "code",
   "execution_count": 51,
   "id": "7ef41d75-8bd2-4e29-a672-efb104ee3d01",
   "metadata": {},
   "outputs": [
    {
     "name": "stdout",
     "output_type": "stream",
     "text": [
      "[0, 45, 11, 245, 3, 3, 2, 1, 1, 32, 45, 6787, 32, 45, 6787]\n"
     ]
    }
   ],
   "source": [
    "m=[32,45,6787]\n",
    "k=l+m                        #without extend function\n",
    "print(k)"
   ]
  },
  {
   "cell_type": "code",
   "execution_count": 53,
   "id": "31aa17b0-22bf-4a3c-8da5-7cf6819ff451",
   "metadata": {},
   "outputs": [
    {
     "name": "stdout",
     "output_type": "stream",
     "text": [
      "<class 'tuple'> (2, 3, 45, 6, 7)\n"
     ]
    }
   ],
   "source": [
    "tup=(2,3,45,6,7)\n",
    "print(type(tup),tup)"
   ]
  },
  {
   "cell_type": "code",
   "execution_count": 55,
   "id": "5b46e3e5-5f38-4e7b-bdf0-81c621dabc7d",
   "metadata": {},
   "outputs": [
    {
     "name": "stdout",
     "output_type": "stream",
     "text": [
      "<class 'int'> 2\n"
     ]
    }
   ],
   "source": [
    "tup=(2)                  # with only one element we see int\n",
    "print(type(tup),tup)\n"
   ]
  },
  {
   "cell_type": "code",
   "execution_count": 59,
   "id": "b9e35f82-b40f-4a34-8e2b-6637e38a39e2",
   "metadata": {},
   "outputs": [
    {
     "name": "stdout",
     "output_type": "stream",
     "text": [
      "<class 'tuple'> (2,)\n"
     ]
    }
   ],
   "source": [
    "#now to eliminate that int\n",
    "tup=(2, ) # we will add comma\n",
    "print(type(tup),tup)"
   ]
  },
  {
   "cell_type": "code",
   "execution_count": 61,
   "id": "8a7a6ef4-3751-4b45-8d1c-f4ea27b7b330",
   "metadata": {},
   "outputs": [
    {
     "ename": "TypeError",
     "evalue": "'tuple' object does not support item assignment",
     "output_type": "error",
     "traceback": [
      "\u001b[0;31m---------------------------------------------------------------------------\u001b[0m",
      "\u001b[0;31mTypeError\u001b[0m                                 Traceback (most recent call last)",
      "Cell \u001b[0;32mIn[61], line 2\u001b[0m\n\u001b[1;32m      1\u001b[0m tup\u001b[38;5;241m=\u001b[39m(\u001b[38;5;241m2\u001b[39m,\u001b[38;5;241m3\u001b[39m,\u001b[38;5;241m45\u001b[39m,\u001b[38;5;241m6\u001b[39m,\u001b[38;5;241m7\u001b[39m)\n\u001b[0;32m----> 2\u001b[0m tup[\u001b[38;5;241m0\u001b[39m]\u001b[38;5;241m=\u001b[39m\u001b[38;5;241m78\u001b[39m\n\u001b[1;32m      3\u001b[0m \u001b[38;5;28mprint\u001b[39m(\u001b[38;5;28mtype\u001b[39m(tup),tup)\n",
      "\u001b[0;31mTypeError\u001b[0m: 'tuple' object does not support item assignment"
     ]
    }
   ],
   "source": [
    "tup=(2,3,45,6,7) \n",
    "tup[0]=78\n",
    "print(type(tup),tup)    #error because its immutable"
   ]
  },
  {
   "cell_type": "code",
   "execution_count": 63,
   "id": "c3d2714f-fa11-42fa-9892-a7f72b15c14e",
   "metadata": {},
   "outputs": [
    {
     "name": "stdout",
     "output_type": "stream",
     "text": [
      "2\n",
      "3\n",
      "45\n"
     ]
    }
   ],
   "source": [
    "tup=(2,3,45,6,7,\"tuple\") \n",
    "print(tup[0])\n",
    "print(tup[1])\n",
    "print(tup[2])     # no editing otherwise same functioning"
   ]
  },
  {
   "cell_type": "code",
   "execution_count": 65,
   "id": "ac380eba-3643-48d6-a781-884fed55dcd9",
   "metadata": {
    "collapsed": true,
    "jupyter": {
     "outputs_hidden": true
    }
   },
   "outputs": [
    {
     "ename": "AttributeError",
     "evalue": "'tuple' object has no attribute 'append'",
     "output_type": "error",
     "traceback": [
      "\u001b[0;31m---------------------------------------------------------------------------\u001b[0m",
      "\u001b[0;31mAttributeError\u001b[0m                            Traceback (most recent call last)",
      "Cell \u001b[0;32mIn[65], line 2\u001b[0m\n\u001b[1;32m      1\u001b[0m tup\u001b[38;5;241m=\u001b[39m(\u001b[38;5;241m2\u001b[39m,\u001b[38;5;241m3\u001b[39m,\u001b[38;5;241m45\u001b[39m,\u001b[38;5;241m6\u001b[39m,\u001b[38;5;241m7\u001b[39m,\u001b[38;5;124m\"\u001b[39m\u001b[38;5;124mtuple\u001b[39m\u001b[38;5;124m\"\u001b[39m) \n\u001b[0;32m----> 2\u001b[0m tup\u001b[38;5;241m.\u001b[39mappend(\u001b[38;5;241m6\u001b[39m)\n\u001b[1;32m      3\u001b[0m \u001b[38;5;28mprint\u001b[39m(tup)\n",
      "\u001b[0;31mAttributeError\u001b[0m: 'tuple' object has no attribute 'append'"
     ]
    }
   ],
   "source": [
    "tup=(2,3,45,6,7,\"tuple\") \n",
    "tup.append(6)\n",
    "print(tup)      #no editing allowed in tuple"
   ]
  },
  {
   "cell_type": "code",
   "execution_count": 73,
   "id": "7c3584a5-9529-4b1b-b746-108084649f75",
   "metadata": {},
   "outputs": [
    {
     "name": "stdout",
     "output_type": "stream",
     "text": [
      "yes\n"
     ]
    }
   ],
   "source": [
    "if 45 in tup:\n",
    "    print('yes')\n",
    "else:\n",
    "    print(\"no\")"
   ]
  },
  {
   "cell_type": "code",
   "execution_count": 75,
   "id": "751a9eea-a40e-4dc5-990a-fac1c820160c",
   "metadata": {},
   "outputs": [
    {
     "name": "stdout",
     "output_type": "stream",
     "text": [
      "(3, 45, 6)\n"
     ]
    }
   ],
   "source": [
    "tup2=tup[1:4]\n",
    "print(tup2)"
   ]
  },
  {
   "cell_type": "code",
   "execution_count": 77,
   "id": "68df8c89-e77e-488e-bf51-44ad9d02482e",
   "metadata": {},
   "outputs": [
    {
     "name": "stdout",
     "output_type": "stream",
     "text": [
      "('Spain', 'Italy', 'Finland', 'Germany', 'Russia')\n"
     ]
    }
   ],
   "source": [
    "countries = (\"Spain\", \"Italy\", \"India\", \"England\", \"Germany\")\n",
    "temp = list(countries)\n",
    "temp.append(\"Russia\")       #add item \n",
    "temp.pop(3)                 #remove item\n",
    "temp[2] = \"Finland\"         #change item\n",
    "countries = tuple(temp)\n",
    "print(countries)"
   ]
  },
  {
   "cell_type": "code",
   "execution_count": 79,
   "id": "22461d25-beeb-4182-9090-e70c16ed3494",
   "metadata": {},
   "outputs": [
    {
     "name": "stdout",
     "output_type": "stream",
     "text": [
      "count of 3 in tuple is 3\n"
     ]
    }
   ],
   "source": [
    "tuple1=(0,1,7,3,2,3,1,3,2)\n",
    "res=tuple1.count(3)\n",
    "print(\"count of 3 in tuple is\",res)"
   ]
  },
  {
   "cell_type": "code",
   "execution_count": 11,
   "id": "b352ddf2-da20-4754-8744-724dd1a69405",
   "metadata": {},
   "outputs": [
    {
     "name": "stdout",
     "output_type": "stream",
     "text": [
      "count of 7 in tuple is 2\n"
     ]
    }
   ],
   "source": [
    "tuple1=(0,1,7,3,2,3,1,3,2)\n",
    "res=tuple1.index(7)\n",
    "print(\"count of 7 in tuple is\",res)"
   ]
  },
  {
   "cell_type": "code",
   "execution_count": 13,
   "id": "95a5cdf8-fc4c-4cd5-892b-8532e11dd07b",
   "metadata": {},
   "outputs": [],
   "source": [
    "#we will be using index function multiple times\n"
   ]
  },
  {
   "cell_type": "code",
   "execution_count": 61,
   "id": "71ec15be-1c02-4163-9dd7-2d7455f08ef8",
   "metadata": {},
   "outputs": [
    {
     "name": "stdin",
     "output_type": "stream",
     "text": [
      "Enter hour:  5\n"
     ]
    },
    {
     "name": "stdout",
     "output_type": "stream",
     "text": [
      "5\n",
      "Good Morning Sir!\n"
     ]
    }
   ],
   "source": [
    "import time\n",
    "t = time.strftime('%H:%M:%S') \n",
    "hour = int(time.strftime('%H'))\n",
    "hour = int(input(\"Enter hour: \"))\n",
    "print(hour)\n",
    "\n",
    "if(hour>=0 and hour<12):\n",
    "  print(\"Good Morning Sir!\")\n",
    "elif(hour>=12 and hour<17):\n",
    "  print(\"Good Afternoon Sir!\")\n",
    "elif(hour>=17 and hour<=24):\n",
    "  print(\"Good Night Sir!\")"
   ]
  },
  {
   "cell_type": "code",
   "execution_count": 29,
   "id": "405e23eb-999f-4fc8-b75d-b72988431233",
   "metadata": {},
   "outputs": [
    {
     "name": "stdout",
     "output_type": "stream",
     "text": [
      "14:27:17\n",
      "14\n",
      "27\n",
      "17\n"
     ]
    }
   ],
   "source": [
    "import time\n",
    "timestamp = time.strftime('%H:%M:%S')\n",
    "print(timestamp)\n",
    "timestamp = time.strftime('%H')\n",
    "print(timestamp)\n",
    "timestamp = time.strftime('%M')\n",
    "print(timestamp)\n",
    "timestamp = time.strftime('%S')\n",
    "print(timestamp)\n",
    "# https://docs.python.org/3/library/time.html#time.strftime"
   ]
  },
  {
   "cell_type": "code",
   "execution_count": 55,
   "id": "e40b2d89-6e4e-4126-baa1-19f4469526e6",
   "metadata": {},
   "outputs": [
    {
     "name": "stdout",
     "output_type": "stream",
     "text": [
      "14,46,\n"
     ]
    }
   ],
   "source": [
    "import time as tt\n",
    "t=tt.strftime('%H,%M,')\n",
    "print(t)"
   ]
  },
  {
   "cell_type": "code",
   "execution_count": 77,
   "id": "e995ece3-ea84-42ac-9303-30407bc67b24",
   "metadata": {},
   "outputs": [
    {
     "name": "stdout",
     "output_type": "stream",
     "text": [
      "14,57,\n"
     ]
    },
    {
     "name": "stdin",
     "output_type": "stream",
     "text": [
      "enter hour 567\n"
     ]
    },
    {
     "ename": "TypeError",
     "evalue": "'>=' not supported between instances of 'str' and 'int'",
     "output_type": "error",
     "traceback": [
      "\u001b[0;31m---------------------------------------------------------------------------\u001b[0m",
      "\u001b[0;31mTypeError\u001b[0m                                 Traceback (most recent call last)",
      "Cell \u001b[0;32mIn[77], line 6\u001b[0m\n\u001b[1;32m      4\u001b[0m h\u001b[38;5;241m=\u001b[39m\u001b[38;5;28mint\u001b[39m(\u001b[38;5;28minput\u001b[39m(\u001b[38;5;124m\"\u001b[39m\u001b[38;5;124menter hour\u001b[39m\u001b[38;5;124m\"\u001b[39m))\n\u001b[1;32m      5\u001b[0m h\u001b[38;5;241m=\u001b[39mtt\u001b[38;5;241m.\u001b[39mstrftime(\u001b[38;5;124m'\u001b[39m\u001b[38;5;124m%\u001b[39m\u001b[38;5;124mH\u001b[39m\u001b[38;5;124m'\u001b[39m)\n\u001b[0;32m----> 6\u001b[0m \u001b[38;5;28;01mif\u001b[39;00m(h\u001b[38;5;241m>\u001b[39m\u001b[38;5;241m=\u001b[39m\u001b[38;5;241m0\u001b[39m \u001b[38;5;129;01mand\u001b[39;00m h\u001b[38;5;241m<\u001b[39m\u001b[38;5;241m=\u001b[39m\u001b[38;5;241m12\u001b[39m):\n\u001b[1;32m      7\u001b[0m     \u001b[38;5;28mprint\u001b[39m(\u001b[38;5;124m\"\u001b[39m\u001b[38;5;124mmorning\u001b[39m\u001b[38;5;124m\"\u001b[39m)\n\u001b[1;32m      8\u001b[0m \u001b[38;5;28;01melif\u001b[39;00m(h\u001b[38;5;241m>\u001b[39m\u001b[38;5;241m=\u001b[39m\u001b[38;5;241m12\u001b[39m \u001b[38;5;129;01mand\u001b[39;00m h\u001b[38;5;241m<\u001b[39m\u001b[38;5;241m=\u001b[39m\u001b[38;5;241m17\u001b[39m):\n",
      "\u001b[0;31mTypeError\u001b[0m: '>=' not supported between instances of 'str' and 'int'"
     ]
    }
   ],
   "source": [
    "import time as tt\n",
    "t=tt.strftime('%H,%M,')\n",
    "print(t)\n",
    "h=int(input(\"enter hour\"))\n",
    "h=tt.strftime('%H')\n",
    "if(h>=0 and h<=12):\n",
    "    print(\"morning\")\n",
    "elif(h>=12 and h<=17):\n",
    "    print(\"morning\")\n",
    "elif(h>=17 and h<=24):\n",
    "    print(\"morning\")\n",
    "else:\n",
    "    print(\"invalid\")\n",
    "    \n"
   ]
  },
  {
   "cell_type": "code",
   "execution_count": 79,
   "id": "14107ab0-8b0d-4123-a646-38eaa69bdfbb",
   "metadata": {},
   "outputs": [],
   "source": [
    "#KBC interface\n",
    "#Create a program capable of displaying questions to the user like KBC.\n",
    "#use list data types to store the questions and correct answers.\n",
    "#display the final amount the person is taking home after playing the game.\n"
   ]
  },
  {
   "cell_type": "code",
   "execution_count": 107,
   "id": "86636487-a814-4fe0-a24a-b73fbdb4de5d",
   "metadata": {},
   "outputs": [
    {
     "ename": "SyntaxError",
     "evalue": "invalid syntax (1256920194.py, line 6)",
     "output_type": "error",
     "traceback": [
      "\u001b[0;36m  Cell \u001b[0;32mIn[107], line 6\u001b[0;36m\u001b[0m\n\u001b[0;31m    if(ql[0]==):\u001b[0m\n\u001b[0m              ^\u001b[0m\n\u001b[0;31mSyntaxError\u001b[0m\u001b[0;31m:\u001b[0m invalid syntax\n"
     ]
    }
   ],
   "source": [
    "#wrong code(my personal logic)\n",
    "ql=[\"national bird\",\"president name\",\"pm name\"]\n",
    "al=[\"peacock\",\"Draupadi murmu\",\"Modi\"]\n",
    "print(\"lets start the game\")\n",
    "m=int(input(\"enter question code\"))\n",
    "if(ql[0]==):\n",
    "    print(al[0])\n",
    "elif(ql[1]==m):\n",
    "    print(al[1])\n",
    "elif(ql[2]==m):\n",
    "    print(al[2])\n",
    "else:\n",
    "    print(\"wrong answer\")"
   ]
  },
  {
   "cell_type": "code",
   "execution_count": 109,
   "id": "c4560297-5b97-449c-ad89-03166ad4820c",
   "metadata": {},
   "outputs": [
    {
     "name": "stdout",
     "output_type": "stream",
     "text": [
      "lets start the game\n",
      "national bird\n"
     ]
    }
   ],
   "source": [
    "ql=[\"national bird\",\"president name\",\"pm name\"]\n",
    "al=[\"peacock\",\"Draupadi murmu\",\"Modi\"]\n",
    "print(\"lets start the game\")\n",
    "print(ql[0])                #we always close brackets when calling any value or index in square brackets\n"
   ]
  },
  {
   "cell_type": "code",
   "execution_count": 113,
   "id": "f81d37ce-d23e-4ec9-be7e-9778d37a4efd",
   "metadata": {},
   "outputs": [
    {
     "name": "stdout",
     "output_type": "stream",
     "text": [
      "lets start the game\n"
     ]
    },
    {
     "name": "stdin",
     "output_type": "stream",
     "text": [
      "enter question code 2\n"
     ]
    },
    {
     "name": "stdout",
     "output_type": "stream",
     "text": [
      "Modi\n"
     ]
    }
   ],
   "source": [
    "#correct code(my personal logic)\n",
    "ql=[\"national bird\",\"president name\",\"pm name\"]\n",
    "al=[\"peacock\",\"Draupadi murmu\",\"Modi\"]\n",
    "print(\"lets start the game\")\n",
    "m=int(input(\"enter question code\"))\n",
    "if(m==0):\n",
    "    print(al[0])\n",
    "elif(m==1):\n",
    "    print(al[1])\n",
    "elif(m==2):\n",
    "    print(al[2])\n",
    "else:\n",
    "    print(\"wrong answer\")"
   ]
  },
  {
   "cell_type": "code",
   "execution_count": 115,
   "id": "c26205f5-d23d-4b09-ad8f-43fa829f94ff",
   "metadata": {},
   "outputs": [
    {
     "name": "stdout",
     "output_type": "stream",
     "text": [
      "Hey my name is Harry and I am from India\n",
      "Hey my name is Harry and I am from India\n",
      "We use f-strings like this: Hey my name is {name} and I am from {country}\n",
      "For only 49.10 dollars!\n",
      "<class 'str'>\n"
     ]
    }
   ],
   "source": [
    "letter = \"Hey my name is {1} and I am from {0}\"\n",
    "country = \"India\"\n",
    "name = \"Harry\"\n",
    "\n",
    "print(letter.format(country, name))\n",
    "print(f\"Hey my name is {name} and I am from {country}\")\n",
    "print(f\"We use f-strings like this: Hey my name is {{name}} and I am from {{country}}\")\n",
    "price = 49.09999\n",
    "txt = f\"For only {price:.2f} dollars!\"\n",
    "print(txt)\n",
    "# print(txt.format())\n",
    "print(type(f\"{2 * 30}\"))\n"
   ]
  },
  {
   "cell_type": "code",
   "execution_count": 117,
   "id": "15345a6a-1d2e-415b-8c0e-c0692e352fc9",
   "metadata": {},
   "outputs": [],
   "source": [
    " #28 day of code with harry repeat -f string"
   ]
  },
  {
   "cell_type": "code",
   "execution_count": 127,
   "id": "3e865587-a489-4361-8343-32e2f6f39830",
   "metadata": {},
   "outputs": [
    {
     "name": "stdout",
     "output_type": "stream",
     "text": [
      "25\n"
     ]
    }
   ],
   "source": [
    "#docstring(gives description and diff from comments)\n",
    "def square(n):\n",
    "    '''takes single number and then displays the square of n'''\n",
    "    print(n ** 2)\n",
    "square(5)\n"
   ]
  },
  {
   "cell_type": "code",
   "execution_count": 131,
   "id": "7bda4498-ec3a-4854-a83c-145ffeb274ab",
   "metadata": {},
   "outputs": [
    {
     "name": "stdout",
     "output_type": "stream",
     "text": [
      "25\n",
      "takes single number and then displays the square of n\n"
     ]
    }
   ],
   "source": [
    "#docstring(gives description and diff from comments)\n",
    "def square(n):\n",
    "    '''takes single number and then displays the square of n'''\n",
    "    print(n ** 2)\n",
    "square(5)\n",
    "print(square.__doc__) #we use this to give ntent and functionality of program , to document the code"
   ]
  },
  {
   "cell_type": "code",
   "execution_count": 183,
   "id": "e6e3d26c-a842-4fb1-84f2-5cf8dd1b649e",
   "metadata": {},
   "outputs": [
    {
     "name": "stdout",
     "output_type": "stream",
     "text": [
      "5\n",
      "25\n",
      "None\n"
     ]
    }
   ],
   "source": [
    "def square(n):\n",
    "       print (n)           #HERE the output is None and not docstring \n",
    "                            #because we havent used doctrings just after the function\n",
    "    \n",
    "       '''takes single number and then displays the square of n'''\n",
    "       print(n ** 2)\n",
    "square(5)\n",
    "print(square.__doc__)\n"
   ]
  },
  {
   "cell_type": "code",
   "execution_count": null,
   "id": "b08716bb-cc29-4e62-8f3e-92bf349af86e",
   "metadata": {
    "jupyter": {
     "source_hidden": true
    }
   },
   "outputs": [],
   "source": [
    "#Recursion function(eg. Average ka function an then usme Sum ka function)\n"
   ]
  },
  {
   "cell_type": "code",
   "execution_count": 187,
   "id": "ff543e91-c61d-4655-850b-56fce68e38fc",
   "metadata": {},
   "outputs": [
    {
     "name": "stdout",
     "output_type": "stream",
     "text": [
      "6\n",
      "24\n",
      "120\n"
     ]
    }
   ],
   "source": [
    "# f(7)=7*6*5*4*3*2*1\n",
    "# f(0)=1\n",
    "# factorial(n)=n*factorial(n-1)\n",
    "def factorial(n):\n",
    "    if(n==0 or n==1):\n",
    "        return 1\n",
    "    else:\n",
    "        return n*factorial(n-1)     #we called function into the same function\n",
    "print(factorial(3))\n",
    "print(factorial(4))\n",
    "print(factorial(5))"
   ]
  },
  {
   "cell_type": "code",
   "execution_count": 215,
   "id": "78827432-13c4-4edf-b039-178859510286",
   "metadata": {},
   "outputs": [
    {
     "name": "stdin",
     "output_type": "stream",
     "text": [
      "enter number 1\n"
     ]
    },
    {
     "ename": "IndexError",
     "evalue": "list index out of range",
     "output_type": "error",
     "traceback": [
      "\u001b[0;31m---------------------------------------------------------------------------\u001b[0m",
      "\u001b[0;31mIndexError\u001b[0m                                Traceback (most recent call last)",
      "Cell \u001b[0;32mIn[215], line 8\u001b[0m\n\u001b[1;32m      6\u001b[0m       \u001b[38;5;28mprint\u001b[39m(\u001b[38;5;124m\"\u001b[39m\u001b[38;5;124menter number\u001b[39m\u001b[38;5;124m\"\u001b[39m)\n\u001b[1;32m      7\u001b[0m n\u001b[38;5;241m=\u001b[39m\u001b[38;5;28mint\u001b[39m(\u001b[38;5;28minput\u001b[39m(\u001b[38;5;124m\"\u001b[39m\u001b[38;5;124menter number\u001b[39m\u001b[38;5;124m\"\u001b[39m))\n\u001b[0;32m----> 8\u001b[0m f[n]\u001b[38;5;241m=\u001b[39mf[n\u001b[38;5;241m-\u001b[39m\u001b[38;5;241m1\u001b[39m]\u001b[38;5;241m+\u001b[39mf[n\u001b[38;5;241m-\u001b[39m\u001b[38;5;241m2\u001b[39m]\n\u001b[1;32m      9\u001b[0m \u001b[38;5;28mprint\u001b[39m(f)\n",
      "\u001b[0;31mIndexError\u001b[0m: list index out of range"
     ]
    }
   ],
   "source": [
    "#fibonacci series\n",
    "def fibonacci_series(f):\n",
    "      f[0]=0\n",
    "      f[1]=1\n",
    "      f[2]=f[2]+f[0]\n",
    "      print(\"enter number\")\n",
    "n=int(input(\"enter number\"))\n",
    "f[n]=f[n-1]+f[n-2]\n",
    "print(f)\n",
    "\n"
   ]
  },
  {
   "cell_type": "code",
   "execution_count": 217,
   "id": "57f8f739-6115-4eb5-b416-abb3cb668db5",
   "metadata": {},
   "outputs": [
    {
     "name": "stdin",
     "output_type": "stream",
     "text": [
      "Enter the number of terms:  10\n"
     ]
    },
    {
     "name": "stdout",
     "output_type": "stream",
     "text": [
      "[0, 1, 1, 2, 3, 5, 8, 13, 21, 34]\n"
     ]
    }
   ],
   "source": [
    "# Fibonacci series using list\n",
    "\n",
    "def fibonacci_series(n):\n",
    "    f = [0, 1]  # Initialize list with first two terms\n",
    "    for i in range(2, n):\n",
    "        f.append(f[i - 1] + f[i - 2])\n",
    "    print(f)\n",
    "\n",
    "# Input from user\n",
    "n = int(input(\"Enter the number of terms: \"))\n",
    "fibonacci_series(n)\n"
   ]
  },
  {
   "cell_type": "code",
   "execution_count": 247,
   "id": "511379aa-faf7-4f63-aa87-34f0b54cd883",
   "metadata": {},
   "outputs": [
    {
     "name": "stdin",
     "output_type": "stream",
     "text": [
      "enter 20\n"
     ]
    },
    {
     "name": "stdout",
     "output_type": "stream",
     "text": [
      "[0, 1, 1, 2, 3, 5, 8, 13, 21, 34, 55, 89, 144, 233, 377, 610, 987, 1597, 2584, 4181]\n"
     ]
    }
   ],
   "source": [
    "#self code\n",
    "def f_series(n):\n",
    "      f=[0,1]\n",
    "      for i in range(2,n):\n",
    "           f.append(f[i-1]+f[i-2])\n",
    "      print(f)\n",
    "n=int(input(\"enter\"))\n",
    "f_series(n)"
   ]
  },
  {
   "cell_type": "code",
   "execution_count": 257,
   "id": "b4e34ae6-75f2-4acd-bca8-049f35f7af77",
   "metadata": {},
   "outputs": [
    {
     "name": "stdin",
     "output_type": "stream",
     "text": [
      "enter 3\n"
     ]
    },
    {
     "ename": "UnboundLocalError",
     "evalue": "cannot access local variable 'm' where it is not associated with a value",
     "output_type": "error",
     "traceback": [
      "\u001b[0;31m---------------------------------------------------------------------------\u001b[0m",
      "\u001b[0;31mUnboundLocalError\u001b[0m                         Traceback (most recent call last)",
      "Cell \u001b[0;32mIn[257], line 7\u001b[0m\n\u001b[1;32m      5\u001b[0m     \u001b[38;5;28mprint\u001b[39m(m)\n\u001b[1;32m      6\u001b[0m n\u001b[38;5;241m=\u001b[39m\u001b[38;5;28mint\u001b[39m(\u001b[38;5;28minput\u001b[39m(\u001b[38;5;124m\"\u001b[39m\u001b[38;5;124menter\u001b[39m\u001b[38;5;124m\"\u001b[39m))\n\u001b[0;32m----> 7\u001b[0m factorial(n)\n",
      "Cell \u001b[0;32mIn[257], line 4\u001b[0m, in \u001b[0;36mfactorial\u001b[0;34m(n)\u001b[0m\n\u001b[1;32m      2\u001b[0m \u001b[38;5;28;01mdef\u001b[39;00m \u001b[38;5;21mfactorial\u001b[39m(n):\n\u001b[1;32m      3\u001b[0m     \u001b[38;5;28;01mfor\u001b[39;00m i \u001b[38;5;129;01min\u001b[39;00m \u001b[38;5;28mrange\u001b[39m(\u001b[38;5;241m1\u001b[39m,n):\n\u001b[0;32m----> 4\u001b[0m         m\u001b[38;5;241m=\u001b[39mn\u001b[38;5;241m*\u001b[39m factorial(n\u001b[38;5;241m-\u001b[39m\u001b[38;5;241m1\u001b[39m)\n\u001b[1;32m      5\u001b[0m     \u001b[38;5;28mprint\u001b[39m(m)\n",
      "Cell \u001b[0;32mIn[257], line 4\u001b[0m, in \u001b[0;36mfactorial\u001b[0;34m(n)\u001b[0m\n\u001b[1;32m      2\u001b[0m \u001b[38;5;28;01mdef\u001b[39;00m \u001b[38;5;21mfactorial\u001b[39m(n):\n\u001b[1;32m      3\u001b[0m     \u001b[38;5;28;01mfor\u001b[39;00m i \u001b[38;5;129;01min\u001b[39;00m \u001b[38;5;28mrange\u001b[39m(\u001b[38;5;241m1\u001b[39m,n):\n\u001b[0;32m----> 4\u001b[0m         m\u001b[38;5;241m=\u001b[39mn\u001b[38;5;241m*\u001b[39m factorial(n\u001b[38;5;241m-\u001b[39m\u001b[38;5;241m1\u001b[39m)\n\u001b[1;32m      5\u001b[0m     \u001b[38;5;28mprint\u001b[39m(m)\n",
      "Cell \u001b[0;32mIn[257], line 5\u001b[0m, in \u001b[0;36mfactorial\u001b[0;34m(n)\u001b[0m\n\u001b[1;32m      3\u001b[0m \u001b[38;5;28;01mfor\u001b[39;00m i \u001b[38;5;129;01min\u001b[39;00m \u001b[38;5;28mrange\u001b[39m(\u001b[38;5;241m1\u001b[39m,n):\n\u001b[1;32m      4\u001b[0m     m\u001b[38;5;241m=\u001b[39mn\u001b[38;5;241m*\u001b[39m factorial(n\u001b[38;5;241m-\u001b[39m\u001b[38;5;241m1\u001b[39m)\n\u001b[0;32m----> 5\u001b[0m \u001b[38;5;28mprint\u001b[39m(m)\n",
      "\u001b[0;31mUnboundLocalError\u001b[0m: cannot access local variable 'm' where it is not associated with a value"
     ]
    }
   ],
   "source": [
    "#self factorial\n",
    "def factorial(n):\n",
    "     if n==0 or n==1\n",
    "    print(1)\n",
    "        m=n* factorial(n-1)\n",
    "    print(m)\n",
    "n=int(input(\"enter\"))\n",
    "factorial(n)\n",
    "\n"
   ]
  },
  {
   "cell_type": "code",
   "execution_count": 261,
   "id": "dde0131a-3c57-4b4b-8bed-c839b183c016",
   "metadata": {},
   "outputs": [
    {
     "name": "stdout",
     "output_type": "stream",
     "text": [
      "1\n"
     ]
    }
   ],
   "source": [
    "a=1\n",
    "b=str(a)\n",
    "print(a)"
   ]
  },
  {
   "cell_type": "code",
   "execution_count": 1,
   "id": "954362fa-90b3-4b90-a953-a0bd7732b172",
   "metadata": {},
   "outputs": [
    {
     "name": "stdout",
     "output_type": "stream",
     "text": [
      "same\n"
     ]
    }
   ],
   "source": [
    "#Check if the first and last numbers of a list are the same\n",
    "l=[2,3,4,5,2,4,2]\n",
    "if(l[-1]==l[0]):\n",
    "    print(\"same\")\n",
    "else:\n",
    "    print(\"not same\")"
   ]
  },
  {
   "cell_type": "code",
   "execution_count": 7,
   "id": "6acf98ac-1372-49bf-9ca0-3efac4b97578",
   "metadata": {},
   "outputs": [
    {
     "ename": "TypeError",
     "evalue": "'builtin_function_or_method' object is not subscriptable",
     "output_type": "error",
     "traceback": [
      "\u001b[0;31m---------------------------------------------------------------------------\u001b[0m",
      "\u001b[0;31mTypeError\u001b[0m                                 Traceback (most recent call last)",
      "Cell \u001b[0;32mIn[7], line 3\u001b[0m\n\u001b[1;32m      1\u001b[0m \u001b[38;5;66;03m#Display numbers divisible by 5\u001b[39;00m\n\u001b[1;32m      2\u001b[0m l\u001b[38;5;241m=\u001b[39m[\u001b[38;5;241m2\u001b[39m,\u001b[38;5;241m3\u001b[39m,\u001b[38;5;241m4\u001b[39m,\u001b[38;5;241m5\u001b[39m,\u001b[38;5;241m2\u001b[39m,\u001b[38;5;241m10\u001b[39m,\u001b[38;5;241m2\u001b[39m]\n\u001b[0;32m----> 3\u001b[0m \u001b[38;5;28;01mfor\u001b[39;00m i \u001b[38;5;129;01min\u001b[39;00m \u001b[38;5;28mrange\u001b[39m(\u001b[38;5;28mlen\u001b[39m[l]):\n\u001b[1;32m      4\u001b[0m    \u001b[38;5;28;01mif\u001b[39;00m(\u001b[38;5;28mlen\u001b[39m[l]\u001b[38;5;241m%\u001b[39m\u001b[38;5;241m5\u001b[39m\u001b[38;5;241m==\u001b[39m\u001b[38;5;241m0\u001b[39m):\n\u001b[1;32m      5\u001b[0m         \u001b[38;5;28mprint\u001b[39m(\u001b[38;5;124m\"\u001b[39m\u001b[38;5;124msame\u001b[39m\u001b[38;5;124m\"\u001b[39m)\n",
      "\u001b[0;31mTypeError\u001b[0m: 'builtin_function_or_method' object is not subscriptable"
     ]
    }
   ],
   "source": [
    "#Display numbers divisible by 5\n",
    "l=[2,3,4,5,2,10,2]\n",
    "for i in range(len[l]):\n",
    "   if(len[l]%5==0):\n",
    "        print(\"same\")\n",
    "   else:\n",
    "        print(\"not same\")   "
   ]
  },
  {
   "cell_type": "code",
   "execution_count": null,
   "id": "64047aec-52a9-4a2e-9591-58057c085030",
   "metadata": {},
   "outputs": [],
   "source": []
  }
 ],
 "metadata": {
  "kernelspec": {
   "display_name": "Python [conda env:base] *",
   "language": "python",
   "name": "conda-base-py"
  },
  "language_info": {
   "codemirror_mode": {
    "name": "ipython",
    "version": 3
   },
   "file_extension": ".py",
   "mimetype": "text/x-python",
   "name": "python",
   "nbconvert_exporter": "python",
   "pygments_lexer": "ipython3",
   "version": "3.12.7"
  }
 },
 "nbformat": 4,
 "nbformat_minor": 5
}
