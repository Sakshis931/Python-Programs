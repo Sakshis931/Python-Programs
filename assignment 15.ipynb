{
 "cells": [
  {
   "cell_type": "code",
   "execution_count": 1,
   "id": "71f56a8b-fd23-4644-8970-293b35c01098",
   "metadata": {},
   "outputs": [
    {
     "name": "stdout",
     "output_type": "stream",
     "text": [
      "🎲 I'm thinking of a number between 1 and 100.\n",
      "Try to guess it!\n"
     ]
    },
    {
     "name": "stdin",
     "output_type": "stream",
     "text": [
      "Enter your guess:  67\n"
     ]
    },
    {
     "name": "stdout",
     "output_type": "stream",
     "text": [
      "Too low! 📉 Try again.\n"
     ]
    },
    {
     "name": "stdin",
     "output_type": "stream",
     "text": [
      "Enter your guess:  70\n"
     ]
    },
    {
     "name": "stdout",
     "output_type": "stream",
     "text": [
      "Too low! 📉 Try again.\n"
     ]
    },
    {
     "name": "stdin",
     "output_type": "stream",
     "text": [
      "Enter your guess:  7\n"
     ]
    },
    {
     "name": "stdout",
     "output_type": "stream",
     "text": [
      "Too low! 📉 Try again.\n"
     ]
    },
    {
     "name": "stdin",
     "output_type": "stream",
     "text": [
      "Enter your guess:  80\n"
     ]
    },
    {
     "name": "stdout",
     "output_type": "stream",
     "text": [
      "Too high! 📈 Try again.\n"
     ]
    },
    {
     "name": "stdin",
     "output_type": "stream",
     "text": [
      "Enter your guess:  77\n"
     ]
    },
    {
     "name": "stdout",
     "output_type": "stream",
     "text": [
      "Too high! 📈 Try again.\n"
     ]
    },
    {
     "name": "stdin",
     "output_type": "stream",
     "text": [
      "Enter your guess:  75\n"
     ]
    },
    {
     "name": "stdout",
     "output_type": "stream",
     "text": [
      "🎉 Correct! The number was 75.\n",
      "You guessed it in 6 tries.\n"
     ]
    }
   ],
   "source": [
    "import random\n",
    "\n",
    "# Step 1: Generate a random number\n",
    "secret_number = random.randint(1, 100)\n",
    "\n",
    "# Step 2: Explain the game\n",
    "print(\"🎲 I'm thinking of a number between 1 and 100.\")\n",
    "print(\"Try to guess it!\")\n",
    "\n",
    "# Step 3: Start guessing loop\n",
    "attempts = 0\n",
    "\n",
    "while True:\n",
    "    guess = int(input(\"Enter your guess: \"))\n",
    "    attempts += 1\n",
    "\n",
    "    if guess < secret_number:\n",
    "        print(\"Too low! 📉 Try again.\")\n",
    "    elif guess > secret_number:\n",
    "        print(\"Too high! 📈 Try again.\")\n",
    "    else:\n",
    "        print(f\"🎉 Correct! The number was {secret_number}.\")\n",
    "        print(f\"You guessed it in {attempts} tries.\")\n",
    "        break\n"
   ]
  },
  {
   "cell_type": "code",
   "execution_count": null,
   "id": "034dcfdc-87c9-4c8f-b9f0-f91ecc9db742",
   "metadata": {},
   "outputs": [],
   "source": [
    "import random\n"
   ]
  },
  {
   "cell_type": "code",
   "execution_count": null,
   "id": "3803d404-ee0c-4c77-afd7-9142e379dee8",
   "metadata": {},
   "outputs": [],
   "source": [
    "secret_number = random.randint(1, 100)\n"
   ]
  },
  {
   "cell_type": "code",
   "execution_count": null,
   "id": "e68ba70b-3193-48c2-8fa0-547ced58df65",
   "metadata": {},
   "outputs": [],
   "source": [
    "print(\"🎲 I'm thinking of a number between 1 and 100.\")\n",
    "print(\"Try to guess it!\")\n"
   ]
  },
  {
   "cell_type": "code",
   "execution_count": null,
   "id": "5126442a-f67d-4749-8385-88abe949856e",
   "metadata": {},
   "outputs": [],
   "source": [
    "attempts = 0\n"
   ]
  },
  {
   "cell_type": "code",
   "execution_count": null,
   "id": "d58b8e5b-5afb-49b1-9714-b48fa5797cea",
   "metadata": {},
   "outputs": [],
   "source": [
    "while True:\n",
    "    guess = int(input(\"Enter your guess: \"))\n",
    "    attempts += 1\n",
    "    if guess < secret_number:\n",
    "        print(\"Too low! 📉 Try again.\")\n",
    "    elif guess > secret_number:\n",
    "        print(\"Too high! 📈 Try again.\")\n",
    "            else:\n",
    "        print(f\"🎉 Correct! The number was {secret_number}.\")\n",
    "        print(f\"You guessed it in {attempts} tries.\")\n",
    "        break\n",
    "\n"
   ]
  },
  {
   "cell_type": "code",
   "execution_count": 3,
   "id": "3a495881-24ef-4c36-9f37-0917fbf202dd",
   "metadata": {},
   "outputs": [],
   "source": [
    "#without loops"
   ]
  },
  {
   "cell_type": "code",
   "execution_count": 5,
   "id": "1f7be0f0-ff9d-410b-985a-e8a9fce2f220",
   "metadata": {},
   "outputs": [
    {
     "name": "stdout",
     "output_type": "stream",
     "text": [
      "🎲 I'm thinking of a number between 1 and 100.\n",
      "You have 3 chances to guess it!\n"
     ]
    },
    {
     "name": "stdin",
     "output_type": "stream",
     "text": [
      "Attempt 1 - Enter your guess:  56\n"
     ]
    },
    {
     "name": "stdout",
     "output_type": "stream",
     "text": [
      "Too low! 📉\n"
     ]
    },
    {
     "name": "stdin",
     "output_type": "stream",
     "text": [
      "Attempt 2 - Enter your guess:  78\n"
     ]
    },
    {
     "name": "stdout",
     "output_type": "stream",
     "text": [
      "Too low! 📉\n"
     ]
    },
    {
     "name": "stdin",
     "output_type": "stream",
     "text": [
      "Attempt 3 - Enter your guess:  80\n"
     ]
    },
    {
     "name": "stdout",
     "output_type": "stream",
     "text": [
      "❌ Sorry! The correct number was 90. Better luck next time.\n"
     ]
    }
   ],
   "source": [
    "import random\n",
    "\n",
    "# Step 1: Generate a random number\n",
    "secret_number = random.randint(1, 100)\n",
    "\n",
    "# Step 2: Explain the game\n",
    "print(\"🎲 I'm thinking of a number between 1 and 100.\")\n",
    "print(\"You have 3 chances to guess it!\")\n",
    "\n",
    "# Step 3: Manual guessing without a loop\n",
    "attempts = 1\n",
    "guess = int(input(\"Attempt 1 - Enter your guess: \"))\n",
    "if guess == secret_number:\n",
    "    print(f\"🎉 Correct! The number was {secret_number}. You guessed it in {attempts} try.\")\n",
    "else:\n",
    "    if guess < secret_number:\n",
    "        print(\"Too low! 📉\")\n",
    "    else:\n",
    "        print(\"Too high! 📈\")\n",
    "\n",
    "    attempts += 1\n",
    "    guess = int(input(\"Attempt 2 - Enter your guess: \"))\n",
    "    if guess == secret_number:\n",
    "        print(f\"🎉 Correct! The number was {secret_number}. You guessed it in {attempts} tries.\")\n",
    "    else:\n",
    "        if guess < secret_number:\n",
    "            print(\"Too low! 📉\")\n",
    "        else:\n",
    "            print(\"Too high! 📈\")\n",
    "\n",
    "        attempts += 1\n",
    "        guess = int(input(\"Attempt 3 - Enter your guess: \"))\n",
    "        if guess == secret_number:\n",
    "            print(f\"🎉 Correct! The number was {secret_number}. You guessed it in {attempts} tries.\")\n",
    "        else:\n",
    "            print(f\"❌ Sorry! The correct number was {secret_number}. Better luck next time.\")\n"
   ]
  },
  {
   "cell_type": "code",
   "execution_count": null,
   "id": "aea55cd9-20f5-4cc9-a55e-a3dea572b946",
   "metadata": {},
   "outputs": [],
   "source": []
  }
 ],
 "metadata": {
  "kernelspec": {
   "display_name": "Python [conda env:base] *",
   "language": "python",
   "name": "conda-base-py"
  },
  "language_info": {
   "codemirror_mode": {
    "name": "ipython",
    "version": 3
   },
   "file_extension": ".py",
   "mimetype": "text/x-python",
   "name": "python",
   "nbconvert_exporter": "python",
   "pygments_lexer": "ipython3",
   "version": "3.12.7"
  }
 },
 "nbformat": 4,
 "nbformat_minor": 5
}
