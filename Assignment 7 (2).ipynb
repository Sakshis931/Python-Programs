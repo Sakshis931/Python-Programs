{
 "cells": [
  {
   "cell_type": "code",
   "execution_count": 7,
   "id": "9f7041eb-b037-4b17-bee1-099eaa20788b",
   "metadata": {},
   "outputs": [],
   "source": [
    "# wap to calculate the area of circle, triangle, rectangle, square\n",
    "#triangle\n",
    "def areatriangle(h,b):\n",
    "    a=1/2*b*h\n",
    "    return a"
   ]
  },
  {
   "cell_type": "code",
   "execution_count": 9,
   "id": "7dbdd12b-2190-4bdf-ba3f-c7804217f2ac",
   "metadata": {},
   "outputs": [
    {
     "data": {
      "text/plain": [
       "4.0"
      ]
     },
     "execution_count": 9,
     "metadata": {},
     "output_type": "execute_result"
    }
   ],
   "source": [
    "m=areatriangle(2,4)\n",
    "m"
   ]
  },
  {
   "cell_type": "code",
   "execution_count": 11,
   "id": "75cc6fd1-ee48-4a6a-bca7-8b3169d916c3",
   "metadata": {},
   "outputs": [],
   "source": [
    "#circle\n",
    "def areacircle(r):\n",
    "    a=3.14*r*r\n",
    "    return a"
   ]
  },
  {
   "cell_type": "code",
   "execution_count": 13,
   "id": "ffbfced9-b081-4024-9d66-be5514b1a299",
   "metadata": {},
   "outputs": [
    {
     "data": {
      "text/plain": [
       "12.56"
      ]
     },
     "execution_count": 13,
     "metadata": {},
     "output_type": "execute_result"
    }
   ],
   "source": [
    "m=areacircle(2)\n",
    "m"
   ]
  },
  {
   "cell_type": "code",
   "execution_count": 15,
   "id": "f0f0e606-3dec-44ac-b3cc-847e6cb4b391",
   "metadata": {},
   "outputs": [],
   "source": [
    "#rectangle\n",
    "def arearec(l,b):\n",
    "    a=l*b\n",
    "    return a"
   ]
  },
  {
   "cell_type": "code",
   "execution_count": 17,
   "id": "d1e59239-4e46-498f-80a0-c76c2fe481f0",
   "metadata": {},
   "outputs": [
    {
     "data": {
      "text/plain": [
       "6"
      ]
     },
     "execution_count": 17,
     "metadata": {},
     "output_type": "execute_result"
    }
   ],
   "source": [
    "m=arearec(2,3)\n",
    "m"
   ]
  },
  {
   "cell_type": "code",
   "execution_count": 23,
   "id": "db9dc8d5-1392-426d-8599-6dfdd32d1743",
   "metadata": {},
   "outputs": [],
   "source": [
    "#wap using fnction to check the given number is even or odd\n",
    "def evodd(num):\n",
    "        if(num%2==0):\n",
    "            return \"even\"\n",
    "        else:\n",
    "            return \"odd\""
   ]
  },
  {
   "cell_type": "code",
   "execution_count": 27,
   "id": "913ea1f2-a0b4-4833-8d82-987c426d92a8",
   "metadata": {},
   "outputs": [
    {
     "data": {
      "text/plain": [
       "'even'"
      ]
     },
     "execution_count": 27,
     "metadata": {},
     "output_type": "execute_result"
    }
   ],
   "source": [
    "m=evodd(4)\n",
    "m"
   ]
  },
  {
   "cell_type": "code",
   "execution_count": 21,
   "id": "13319149-f22f-4564-9ebc-b11caecc2b89",
   "metadata": {},
   "outputs": [],
   "source": [
    "#----------Lambda function------------\n",
    "#no call no def, used only for ingle line statement"
   ]
  },
  {
   "cell_type": "code",
   "execution_count": null,
   "id": "27c7f05f-67aa-46ff-a7cf-decf52fecf0d",
   "metadata": {},
   "outputs": [],
   "source": [
    "#all areas through lambda homework"
   ]
  },
  {
   "cell_type": "code",
   "execution_count": 17,
   "id": "e23222a5-a605-49c7-89c4-f2831ee7e348",
   "metadata": {},
   "outputs": [
    {
     "data": {
      "text/plain": [
       "12.56"
      ]
     },
     "execution_count": 17,
     "metadata": {},
     "output_type": "execute_result"
    }
   ],
   "source": [
    "#circle\n",
    "area=lambda r:3.14*r*r\n",
    "area(2)"
   ]
  },
  {
   "cell_type": "code",
   "execution_count": 19,
   "id": "43ff9d4a-3816-403a-8e60-387607b8acbb",
   "metadata": {},
   "outputs": [
    {
     "data": {
      "text/plain": [
       "14"
      ]
     },
     "execution_count": 19,
     "metadata": {},
     "output_type": "execute_result"
    }
   ],
   "source": [
    "#rectangle\n",
    "area=lambda l,b :l*b\n",
    "area(2,7)"
   ]
  },
  {
   "cell_type": "code",
   "execution_count": 21,
   "id": "b58da4ab-12ae-425f-9e3a-3d69fe6e3a64",
   "metadata": {},
   "outputs": [
    {
     "data": {
      "text/plain": [
       "4"
      ]
     },
     "execution_count": 21,
     "metadata": {},
     "output_type": "execute_result"
    }
   ],
   "source": [
    "#square\n",
    "area=lambda side:side*side\n",
    "area(2)"
   ]
  },
  {
   "cell_type": "code",
   "execution_count": 23,
   "id": "93bbaef4-b898-4d06-96e9-4774e4f9e78b",
   "metadata": {},
   "outputs": [
    {
     "data": {
      "text/plain": [
       "4.0"
      ]
     },
     "execution_count": 23,
     "metadata": {},
     "output_type": "execute_result"
    }
   ],
   "source": [
    "#triangle\n",
    "area=lambda l,b:1/2*l*b\n",
    "area(2,4)"
   ]
  },
  {
   "cell_type": "code",
   "execution_count": 29,
   "id": "f94a3332-356b-4a6b-ba42-f740c4d62d82",
   "metadata": {},
   "outputs": [
    {
     "ename": "ModuleNotFoundError",
     "evalue": "No module named 'Camelcase'",
     "output_type": "error",
     "traceback": [
      "\u001b[0;31m---------------------------------------------------------------------------\u001b[0m",
      "\u001b[0;31mModuleNotFoundError\u001b[0m                       Traceback (most recent call last)",
      "Cell \u001b[0;32mIn[29], line 1\u001b[0m\n\u001b[0;32m----> 1\u001b[0m \u001b[38;5;28;01mimport\u001b[39;00m \u001b[38;5;21;01mCamelcase\u001b[39;00m\n",
      "\u001b[0;31mModuleNotFoundError\u001b[0m: No module named 'Camelcase'"
     ]
    }
   ],
   "source": [
    "import Camelcase"
   ]
  },
  {
   "cell_type": "code",
   "execution_count": 31,
   "id": "4e3ac46c-1562-4fd3-8f48-ab4e4c18fd01",
   "metadata": {},
   "outputs": [
    {
     "data": {
      "text/plain": [
       "list[1, 2, 3, 4, 5, 6]"
      ]
     },
     "execution_count": 31,
     "metadata": {},
     "output_type": "execute_result"
    }
   ],
   "source": [
    "list[1,2,3,4,5,6]"
   ]
  },
  {
   "cell_type": "code",
   "execution_count": 33,
   "id": "f6a07cd5-fa5e-4482-a307-ca091b6523b0",
   "metadata": {},
   "outputs": [
    {
     "ename": "SyntaxError",
     "evalue": "invalid syntax (743664489.py, line 2)",
     "output_type": "error",
     "traceback": [
      "\u001b[0;36m  Cell \u001b[0;32mIn[33], line 2\u001b[0;36m\u001b[0m\n\u001b[0;31m    functool reduce(lambda x,y:x if x>y else y,list)\u001b[0m\n\u001b[0m             ^\u001b[0m\n\u001b[0;31mSyntaxError\u001b[0m\u001b[0;31m:\u001b[0m invalid syntax\n"
     ]
    }
   ],
   "source": [
    "import functool\n",
    "functool reduce(lambda x,y:x if x>y else y,list)"
   ]
  },
  {
   "cell_type": "code",
   "execution_count": null,
   "id": "9fec70ae-cc09-4395-a1cb-ab4a93892d19",
   "metadata": {},
   "outputs": [],
   "source": [
    "#packages"
   ]
  },
  {
   "cell_type": "code",
   "execution_count": 35,
   "id": "65f87b04-4131-439d-8baa-a62f55ad9834",
   "metadata": {},
   "outputs": [
    {
     "name": "stdout",
     "output_type": "stream",
     "text": [
      "Collecting camelcase\n",
      "  Downloading camelcase-0.2.tar.gz (1.3 kB)\n",
      "  Preparing metadata (setup.py) ... \u001b[?25ldone\n",
      "\u001b[?25hBuilding wheels for collected packages: camelcase\n",
      "  Building wheel for camelcase (setup.py) ... \u001b[?25ldone\n",
      "\u001b[?25h  Created wheel for camelcase: filename=camelcase-0.2-py3-none-any.whl size=1773 sha256=0df1f5ce179a1b868de1585661d24a1bb1261c2d30c0211aa9b102bd36f3b86b\n",
      "  Stored in directory: /Users/sakshisingh/Library/Caches/pip/wheels/a7/40/a3/900133dd6de3e10c219659fec4118138db05d778e519c0b2bc\n",
      "Successfully built camelcase\n",
      "Installing collected packages: camelcase\n",
      "Successfully installed camelcase-0.2\n",
      "Note: you may need to restart the kernel to use updated packages.\n"
     ]
    }
   ],
   "source": [
    "apip install camelcase"
   ]
  },
  {
   "cell_type": "code",
   "execution_count": 39,
   "id": "2871423a-399a-473e-a1e6-c724c08ed9a6",
   "metadata": {},
   "outputs": [
    {
     "name": "stdout",
     "output_type": "stream",
     "text": [
      "This is a Sentence That Needs CamelCasing!\n"
     ]
    }
   ],
   "source": [
    "from camelcase import CamelCase\n",
    "c = CamelCase()\n",
    "s = 'this is a sentence that needs CamelCasing!'\n",
    "print (c.hump(s))"
   ]
  },
  {
   "cell_type": "code",
   "execution_count": 41,
   "id": "66ceb7fe-a839-4fad-ad23-d9b5a63522d2",
   "metadata": {},
   "outputs": [],
   "source": [
    "import math"
   ]
  },
  {
   "cell_type": "code",
   "execution_count": 43,
   "id": "d3482e7d-4289-413c-9c26-bd88c9236251",
   "metadata": {},
   "outputs": [
    {
     "data": {
      "text/plain": [
       "4.0"
      ]
     },
     "execution_count": 43,
     "metadata": {},
     "output_type": "execute_result"
    }
   ],
   "source": [
    "math.sqrt(16)"
   ]
  },
  {
   "cell_type": "code",
   "execution_count": 47,
   "id": "9df8a4ab-ae5d-48a1-8c00-dd0814163f64",
   "metadata": {},
   "outputs": [
    {
     "data": {
      "text/plain": [
       "3.141592653589793"
      ]
     },
     "execution_count": 47,
     "metadata": {},
     "output_type": "execute_result"
    }
   ],
   "source": [
    "math.pi"
   ]
  },
  {
   "cell_type": "code",
   "execution_count": 55,
   "id": "38256743-9f24-4a11-8ab9-430639fca64b",
   "metadata": {},
   "outputs": [
    {
     "data": {
      "text/plain": [
       "3"
      ]
     },
     "execution_count": 55,
     "metadata": {},
     "output_type": "execute_result"
    }
   ],
   "source": [
    "math.ceil(2.3)"
   ]
  },
  {
   "cell_type": "code",
   "execution_count": 57,
   "id": "5c11c24f-a774-4e85-9e0c-886c9bcf2fac",
   "metadata": {},
   "outputs": [
    {
     "data": {
      "text/plain": [
       "2"
      ]
     },
     "execution_count": 57,
     "metadata": {},
     "output_type": "execute_result"
    }
   ],
   "source": [
    "math.floor(2.3)"
   ]
  },
  {
   "cell_type": "code",
   "execution_count": 61,
   "id": "45b9b016-2d3f-41ce-8688-439beafbd869",
   "metadata": {},
   "outputs": [
    {
     "name": "stdout",
     "output_type": "stream",
     "text": [
      "this is a sentence that needs CamelCasing!\n"
     ]
    }
   ],
   "source": [
    "from camelcase import CamelCase\n",
    "c = CamelCase()\n",
    "s = 'this is a sentence that needs CamelCasing!'\n",
    "print (s)"
   ]
  },
  {
   "cell_type": "code",
   "execution_count": null,
   "id": "ae4f85e7-7e3c-4f9d-89c9-6c95050b3d52",
   "metadata": {},
   "outputs": [],
   "source": []
  }
 ],
 "metadata": {
  "kernelspec": {
   "display_name": "Python [conda env:base] *",
   "language": "python",
   "name": "conda-base-py"
  },
  "language_info": {
   "codemirror_mode": {
    "name": "ipython",
    "version": 3
   },
   "file_extension": ".py",
   "mimetype": "text/x-python",
   "name": "python",
   "nbconvert_exporter": "python",
   "pygments_lexer": "ipython3",
   "version": "3.12.7"
  }
 },
 "nbformat": 4,
 "nbformat_minor": 5
}
