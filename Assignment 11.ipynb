{
 "cells": [
  {
   "cell_type": "code",
   "execution_count": 1,
   "id": "cec4f0f6-5541-4ebc-96c2-6859a1cb4aa6",
   "metadata": {},
   "outputs": [
    {
     "data": {
      "text/plain": [
       "4.0"
      ]
     },
     "execution_count": 1,
     "metadata": {},
     "output_type": "execute_result"
    }
   ],
   "source": [
    "#mathematical functions\n",
    "import math\n",
    "math.sqrt(16)"
   ]
  },
  {
   "cell_type": "code",
   "execution_count": 5,
   "id": "311a35a1-6b87-4f17-a54f-9bc7aed425ae",
   "metadata": {},
   "outputs": [
    {
     "data": {
      "text/plain": [
       "8.0"
      ]
     },
     "execution_count": 5,
     "metadata": {},
     "output_type": "execute_result"
    }
   ],
   "source": [
    "math.pow(2,3)"
   ]
  },
  {
   "cell_type": "code",
   "execution_count": 7,
   "id": "295ab1e5-fcc2-427f-ace5-5ff9e70d0b1c",
   "metadata": {},
   "outputs": [
    {
     "data": {
      "text/plain": [
       "2.718281828459045"
      ]
     },
     "execution_count": 7,
     "metadata": {},
     "output_type": "execute_result"
    }
   ],
   "source": [
    "math.exp(1)"
   ]
  },
  {
   "cell_type": "code",
   "execution_count": 13,
   "id": "661e4d18-13d7-4336-85e8-561fc7100945",
   "metadata": {},
   "outputs": [
    {
     "data": {
      "text/plain": [
       "2.0"
      ]
     },
     "execution_count": 13,
     "metadata": {},
     "output_type": "execute_result"
    }
   ],
   "source": [
    "math.log(100, 10)  # Returns 2.0\n"
   ]
  },
  {
   "cell_type": "code",
   "execution_count": 15,
   "id": "3fe5c370-f4b1-42b9-8686-1d49ca5cd136",
   "metadata": {},
   "outputs": [
    {
     "data": {
      "text/plain": [
       "4.0"
      ]
     },
     "execution_count": 15,
     "metadata": {},
     "output_type": "execute_result"
    }
   ],
   "source": [
    "math.log(16,2) "
   ]
  },
  {
   "cell_type": "code",
   "execution_count": 17,
   "id": "db5be772-55fc-450d-b70d-6788d784222e",
   "metadata": {},
   "outputs": [
    {
     "data": {
      "text/plain": [
       "2.0"
      ]
     },
     "execution_count": 17,
     "metadata": {},
     "output_type": "execute_result"
    }
   ],
   "source": [
    "math.log(16,4) "
   ]
  },
  {
   "cell_type": "code",
   "execution_count": 19,
   "id": "c8905dce-94b3-408e-90a8-b82154fd0de7",
   "metadata": {},
   "outputs": [
    {
     "data": {
      "text/plain": [
       "2.0"
      ]
     },
     "execution_count": 19,
     "metadata": {},
     "output_type": "execute_result"
    }
   ],
   "source": [
    "math.log10(100)  # Returns 2.0\n"
   ]
  },
  {
   "cell_type": "code",
   "execution_count": 27,
   "id": "f6a6a143-cd5c-407d-a5c8-b613a4a0c8d9",
   "metadata": {},
   "outputs": [
    {
     "data": {
      "text/plain": [
       "1.8260748027008264"
      ]
     },
     "execution_count": 27,
     "metadata": {},
     "output_type": "execute_result"
    }
   ],
   "source": [
    "math.log10(67) "
   ]
  },
  {
   "cell_type": "code",
   "execution_count": 29,
   "id": "f6254988-7627-407e-b0f0-2e36379e336d",
   "metadata": {},
   "outputs": [
    {
     "data": {
      "text/plain": [
       "3.0"
      ]
     },
     "execution_count": 29,
     "metadata": {},
     "output_type": "execute_result"
    }
   ],
   "source": [
    "math.log10(1000) "
   ]
  },
  {
   "cell_type": "code",
   "execution_count": 31,
   "id": "718e0fd0-db21-45cd-80eb-da9395b2ade7",
   "metadata": {},
   "outputs": [
    {
     "data": {
      "text/plain": [
       "4.0"
      ]
     },
     "execution_count": 31,
     "metadata": {},
     "output_type": "execute_result"
    }
   ],
   "source": [
    "math.log2(16)  # Returns 3.0\n"
   ]
  },
  {
   "cell_type": "code",
   "execution_count": 33,
   "id": "ef23fddc-849c-402d-8807-64757550bcb6",
   "metadata": {},
   "outputs": [
    {
     "data": {
      "text/plain": [
       "3.0"
      ]
     },
     "execution_count": 33,
     "metadata": {},
     "output_type": "execute_result"
    }
   ],
   "source": [
    "math.log2(8)"
   ]
  },
  {
   "cell_type": "code",
   "execution_count": 39,
   "id": "522a485d-59df-4969-84d2-274a99826d16",
   "metadata": {},
   "outputs": [
    {
     "data": {
      "text/plain": [
       "1.0"
      ]
     },
     "execution_count": 39,
     "metadata": {},
     "output_type": "execute_result"
    }
   ],
   "source": [
    "math.sin(math.pi / 2)  # Returns 1.0  applies the sine function to that angle and gives you the result of sine for π/2, which is 1.0. .........\n",
    "#calculates the sine of that angle, which tells you a specific property of the angle in a right triangle or the unit circle.\n",
    "\n",
    "\n"
   ]
  },
  {
   "cell_type": "code",
   "execution_count": 41,
   "id": "fac10fad-0a41-4e83-aec0-5234350d3a91",
   "metadata": {},
   "outputs": [
    {
     "data": {
      "text/plain": [
       "1.5707963267948966"
      ]
     },
     "execution_count": 41,
     "metadata": {},
     "output_type": "execute_result"
    }
   ],
   "source": [
    "(math.pi / 2) #gives you a numerical value of π/2 (approximately 1.5708)."
   ]
  },
  {
   "cell_type": "code",
   "execution_count": 43,
   "id": "0a218622-11b0-4f3a-9686-6c6d034596a5",
   "metadata": {},
   "outputs": [
    {
     "data": {
      "text/plain": [
       "-1.0"
      ]
     },
     "execution_count": 43,
     "metadata": {},
     "output_type": "execute_result"
    }
   ],
   "source": [
    "math.cos(math.pi)  # Returns -1.0\n"
   ]
  },
  {
   "cell_type": "code",
   "execution_count": 45,
   "id": "e8b8a7f2-0cc0-4286-b58b-cd006fcc1747",
   "metadata": {},
   "outputs": [
    {
     "data": {
      "text/plain": [
       "6.123233995736766e-17"
      ]
     },
     "execution_count": 45,
     "metadata": {},
     "output_type": "execute_result"
    }
   ],
   "source": [
    "math.cos(math.pi/2)  #computes the cosine of the angle π/2 radians, and the result is 0.\n"
   ]
  },
  {
   "cell_type": "code",
   "execution_count": 47,
   "id": "21f67345-b7bd-4dde-8c27-d59ad65bb51e",
   "metadata": {},
   "outputs": [
    {
     "data": {
      "text/plain": [
       "0.9999999999999999"
      ]
     },
     "execution_count": 47,
     "metadata": {},
     "output_type": "execute_result"
    }
   ],
   "source": [
    "math.tan(math.pi / 4)  # Returns 1.0\n"
   ]
  },
  {
   "cell_type": "code",
   "execution_count": 49,
   "id": "c5a1aa13-8532-4173-a151-38682757a4a0",
   "metadata": {},
   "outputs": [
    {
     "data": {
      "text/plain": [
       "1.5707963267948966"
      ]
     },
     "execution_count": 49,
     "metadata": {},
     "output_type": "execute_result"
    }
   ],
   "source": [
    "math.asin(1)  # Returns 1.5707963267948966 (π/2)\n"
   ]
  },
  {
   "cell_type": "code",
   "execution_count": 51,
   "id": "022db5ca-49e6-4c04-8077-79e16ffa8d35",
   "metadata": {},
   "outputs": [
    {
     "data": {
      "text/plain": [
       "0.0"
      ]
     },
     "execution_count": 51,
     "metadata": {},
     "output_type": "execute_result"
    }
   ],
   "source": [
    "math.acos(1)  # Returns 0.0\n"
   ]
  },
  {
   "cell_type": "code",
   "execution_count": 53,
   "id": "98b9ae52-7069-4f2a-b664-fbbe0c7538c2",
   "metadata": {},
   "outputs": [
    {
     "data": {
      "text/plain": [
       "0.7853981633974483"
      ]
     },
     "execution_count": 53,
     "metadata": {},
     "output_type": "execute_result"
    }
   ],
   "source": [
    "math.atan(1)  # Returns 0.7853981633974483 (π/4)\n"
   ]
  },
  {
   "cell_type": "code",
   "execution_count": 55,
   "id": "2d0ed9cc-001e-43ee-989d-ac77d758e1f8",
   "metadata": {},
   "outputs": [
    {
     "data": {
      "text/plain": [
       "3"
      ]
     },
     "execution_count": 55,
     "metadata": {},
     "output_type": "execute_result"
    }
   ],
   "source": [
    "math.ceil(2.3)  # Returns 3\n"
   ]
  },
  {
   "cell_type": "code",
   "execution_count": 57,
   "id": "36d39e72-b3ab-4a6f-b447-00963cc243d7",
   "metadata": {},
   "outputs": [
    {
     "data": {
      "text/plain": [
       "2"
      ]
     },
     "execution_count": 57,
     "metadata": {},
     "output_type": "execute_result"
    }
   ],
   "source": [
    "math.floor(2.7)  # Returns 2\n"
   ]
  },
  {
   "cell_type": "code",
   "execution_count": 59,
   "id": "7aa1d520-7cd1-416e-950d-5d03e0afd590",
   "metadata": {},
   "outputs": [
    {
     "data": {
      "text/plain": [
       "2"
      ]
     },
     "execution_count": 59,
     "metadata": {},
     "output_type": "execute_result"
    }
   ],
   "source": [
    "math.trunc(2.7)  # Returns 2   Returns the integer part of x by truncating the decimal part.\n"
   ]
  },
  {
   "cell_type": "code",
   "execution_count": 61,
   "id": "08ca9f18-94be-47d6-976d-559da4e235a6",
   "metadata": {},
   "outputs": [
    {
     "data": {
      "text/plain": [
       "3"
      ]
     },
     "execution_count": 61,
     "metadata": {},
     "output_type": "execute_result"
    }
   ],
   "source": [
    "math.trunc(3.9)  # Returns 2\n"
   ]
  },
  {
   "cell_type": "code",
   "execution_count": 67,
   "id": "664115f9-9007-415e-8261-dc0f08979feb",
   "metadata": {},
   "outputs": [
    {
     "data": {
      "text/plain": [
       "-3"
      ]
     },
     "execution_count": 67,
     "metadata": {},
     "output_type": "execute_result"
    }
   ],
   "source": [
    "math.floor(-2.7)   #Always rounds down to the nearest smaller integer, even if the number is negative."
   ]
  },
  {
   "cell_type": "code",
   "execution_count": 69,
   "id": "feaaff69-6129-4e60-8e15-2586c0b7f87d",
   "metadata": {},
   "outputs": [
    {
     "data": {
      "text/plain": [
       "-2"
      ]
     },
     "execution_count": 69,
     "metadata": {},
     "output_type": "execute_result"
    }
   ],
   "source": [
    "math.trunc(-2.7) #Removes the decimal part, keeping the integer part without rounding."
   ]
  },
  {
   "cell_type": "code",
   "execution_count": 71,
   "id": "41070ec4-3793-4333-812d-d01bea1b75a8",
   "metadata": {},
   "outputs": [
    {
     "data": {
      "text/plain": [
       "1.0"
      ]
     },
     "execution_count": 71,
     "metadata": {},
     "output_type": "execute_result"
    }
   ],
   "source": [
    "math.fmod(10, 3)  # Returns 1.0\n"
   ]
  },
  {
   "cell_type": "code",
   "execution_count": 73,
   "id": "a2237052-6bac-4977-9ca6-96161112c13a",
   "metadata": {},
   "outputs": [
    {
     "data": {
      "text/plain": [
       "0.0"
      ]
     },
     "execution_count": 73,
     "metadata": {},
     "output_type": "execute_result"
    }
   ],
   "source": [
    "math.fmod(10, 2)  # Returns 1.0\n"
   ]
  },
  {
   "cell_type": "code",
   "execution_count": 75,
   "id": "5704afe7-0299-4e25-8a68-15c489e649d3",
   "metadata": {},
   "outputs": [
    {
     "data": {
      "text/plain": [
       "2.0"
      ]
     },
     "execution_count": 75,
     "metadata": {},
     "output_type": "execute_result"
    }
   ],
   "source": [
    "math.fmod(10, 4)  # Returns 1.0\n"
   ]
  },
  {
   "cell_type": "code",
   "execution_count": 77,
   "id": "23ab4dae-59fd-409f-aff0-b9a62a1e1325",
   "metadata": {},
   "outputs": [
    {
     "data": {
      "text/plain": [
       "3.141592653589793"
      ]
     },
     "execution_count": 77,
     "metadata": {},
     "output_type": "execute_result"
    }
   ],
   "source": [
    "math.pi  # Returns 3.141592653589793\n"
   ]
  },
  {
   "cell_type": "code",
   "execution_count": 79,
   "id": "c910c1cd-bcfb-4060-a094-854ce9a14a82",
   "metadata": {},
   "outputs": [
    {
     "data": {
      "text/plain": [
       "2.718281828459045"
      ]
     },
     "execution_count": 79,
     "metadata": {},
     "output_type": "execute_result"
    }
   ],
   "source": [
    "math.e  # Returns 2.718281828459045\n"
   ]
  },
  {
   "cell_type": "code",
   "execution_count": 83,
   "id": "5aec57fc-1367-4d8a-951e-52b114cfd548",
   "metadata": {},
   "outputs": [
    {
     "data": {
      "text/plain": [
       "6.283185307179586"
      ]
     },
     "execution_count": 83,
     "metadata": {},
     "output_type": "execute_result"
    }
   ],
   "source": [
    "math.tau  # Returns 6.283185307179586        τ=2×π\n",
    "\n"
   ]
  },
  {
   "cell_type": "code",
   "execution_count": 85,
   "id": "36e69bd7-9693-414c-acca-5e7d0b35678b",
   "metadata": {},
   "outputs": [
    {
     "data": {
      "text/plain": [
       "120"
      ]
     },
     "execution_count": 85,
     "metadata": {},
     "output_type": "execute_result"
    }
   ],
   "source": [
    "math.factorial(5)  # Returns 120\n"
   ]
  },
  {
   "cell_type": "code",
   "execution_count": 89,
   "id": "ffcf997c-2689-495f-a292-427b47c30f86",
   "metadata": {},
   "outputs": [
    {
     "data": {
      "text/plain": [
       "10"
      ]
     },
     "execution_count": 89,
     "metadata": {},
     "output_type": "execute_result"
    }
   ],
   "source": [
    "math.comb(5, 2)  # Returns 10  Returns the number of ways to choose k items from n items without repetition (combinations).\n"
   ]
  },
  {
   "cell_type": "code",
   "execution_count": 93,
   "id": "e037e2ed-a99e-422a-bc18-b130145314da",
   "metadata": {},
   "outputs": [
    {
     "data": {
      "text/plain": [
       "20"
      ]
     },
     "execution_count": 93,
     "metadata": {},
     "output_type": "execute_result"
    }
   ],
   "source": [
    "math.perm(5, 2)  # Returns 20   Returns the number of ways to arrange k items from n items (permutations).\n"
   ]
  },
  {
   "cell_type": "code",
   "execution_count": 95,
   "id": "089712e0-7137-4396-a832-e372e6194bff",
   "metadata": {},
   "outputs": [
    {
     "data": {
      "text/plain": [
       "4"
      ]
     },
     "execution_count": 95,
     "metadata": {},
     "output_type": "execute_result"
    }
   ],
   "source": [
    "math.gcd(8, 12)  # Returns 4\n"
   ]
  },
  {
   "cell_type": "code",
   "execution_count": 97,
   "id": "f51f7fbb-487c-4b48-a3fb-748ff2bba6dd",
   "metadata": {},
   "outputs": [
    {
     "data": {
      "text/plain": [
       "5"
      ]
     },
     "execution_count": 97,
     "metadata": {},
     "output_type": "execute_result"
    }
   ],
   "source": [
    "math.gcd(10, 25)  \n"
   ]
  },
  {
   "cell_type": "code",
   "execution_count": 101,
   "id": "8d2811ed-48f8-4619-9917-9b8791e6618b",
   "metadata": {},
   "outputs": [
    {
     "data": {
      "text/plain": [
       "3"
      ]
     },
     "execution_count": 101,
     "metadata": {},
     "output_type": "execute_result"
    }
   ],
   "source": [
    "math.isqrt(10)  \n"
   ]
  },
  {
   "cell_type": "code",
   "execution_count": 103,
   "id": "859be5d9-dda3-4a46-b73c-91e546cdaf24",
   "metadata": {},
   "outputs": [
    {
     "data": {
      "text/plain": [
       "3.1622776601683795"
      ]
     },
     "execution_count": 103,
     "metadata": {},
     "output_type": "execute_result"
    }
   ],
   "source": [
    "math.sqrt(10)  \n"
   ]
  },
  {
   "cell_type": "code",
   "execution_count": 109,
   "id": "1cfb3c57-4f7e-41a1-9144-c507ff710084",
   "metadata": {},
   "outputs": [
    {
     "data": {
      "text/plain": [
       "4"
      ]
     },
     "execution_count": 109,
     "metadata": {},
     "output_type": "execute_result"
    }
   ],
   "source": [
    "math.isqrt(17)  # Returns 4     Returns the integer square root of x.\n"
   ]
  },
  {
   "cell_type": "code",
   "execution_count": 111,
   "id": "09796ca1-3bb9-4bce-9e0a-6f0745632dd2",
   "metadata": {},
   "outputs": [
    {
     "data": {
      "text/plain": [
       "4.123105625617661"
      ]
     },
     "execution_count": 111,
     "metadata": {},
     "output_type": "execute_result"
    }
   ],
   "source": [
    "math.sqrt(17) "
   ]
  },
  {
   "cell_type": "code",
   "execution_count": 113,
   "id": "16b1fa82-6ad0-4cf7-9e59-4590717aa3e7",
   "metadata": {},
   "outputs": [
    {
     "data": {
      "text/plain": [
       "-2.0"
      ]
     },
     "execution_count": 113,
     "metadata": {},
     "output_type": "execute_result"
    }
   ],
   "source": [
    "math.copysign(2, -1)  # Returns -2.0\n"
   ]
  },
  {
   "cell_type": "code",
   "execution_count": 115,
   "id": "a3756f87-9a1e-479b-a063-423360174479",
   "metadata": {},
   "outputs": [
    {
     "data": {
      "text/plain": [
       "-7.0"
      ]
     },
     "execution_count": 115,
     "metadata": {},
     "output_type": "execute_result"
    }
   ],
   "source": [
    "math.copysign(7, -2)  \n"
   ]
  },
  {
   "cell_type": "code",
   "execution_count": 119,
   "id": "bf62fb90-5ad9-47a6-9c53-ee957415c039",
   "metadata": {},
   "outputs": [
    {
     "data": {
      "text/plain": [
       "3.141592653589793"
      ]
     },
     "execution_count": 119,
     "metadata": {},
     "output_type": "execute_result"
    }
   ],
   "source": [
    "math.radians(180)  # Returns 3.141592653589793    Converts x from degrees to radians.\n",
    " "
   ]
  },
  {
   "cell_type": "code",
   "execution_count": 125,
   "id": "78bb543d-fc5e-48b4-839e-2d3084b0a69f",
   "metadata": {},
   "outputs": [
    {
     "data": {
      "text/plain": [
       "1.1752011936438014"
      ]
     },
     "execution_count": 125,
     "metadata": {},
     "output_type": "execute_result"
    }
   ],
   "source": [
    "math.sinh(1)  # Returns 1.1752011936438014     Returns the hyperbolic sine of x.\n"
   ]
  },
  {
   "cell_type": "code",
   "execution_count": 127,
   "id": "1837cd31-442c-42aa-a52a-06f6326e753e",
   "metadata": {},
   "outputs": [
    {
     "data": {
      "text/plain": [
       "3.6268604078470186"
      ]
     },
     "execution_count": 127,
     "metadata": {},
     "output_type": "execute_result"
    }
   ],
   "source": [
    "math.sinh(2)  # Returns 1.1752011936438014\n"
   ]
  },
  {
   "cell_type": "code",
   "execution_count": 129,
   "id": "8471c41d-cad4-47e6-8fe3-eca4d05490a6",
   "metadata": {},
   "outputs": [
    {
     "data": {
      "text/plain": [
       "True"
      ]
     },
     "execution_count": 129,
     "metadata": {},
     "output_type": "execute_result"
    }
   ],
   "source": [
    "math.isclose(0.1 + 0.2, 0.3)  # Returns True\n"
   ]
  },
  {
   "cell_type": "code",
   "execution_count": 131,
   "id": "8ee4997b-be01-4af2-b3bc-24b22f5d775c",
   "metadata": {},
   "outputs": [
    {
     "data": {
      "text/plain": [
       "False"
      ]
     },
     "execution_count": 131,
     "metadata": {},
     "output_type": "execute_result"
    }
   ],
   "source": [
    "math.isclose(5+7,98)  \n"
   ]
  },
  {
   "cell_type": "code",
   "execution_count": 133,
   "id": "16111d91-c09b-4ba6-9657-281737318446",
   "metadata": {},
   "outputs": [
    {
     "data": {
      "text/plain": [
       "True"
      ]
     },
     "execution_count": 133,
     "metadata": {},
     "output_type": "execute_result"
    }
   ],
   "source": [
    "math.isclose(5+7,12)  \n"
   ]
  },
  {
   "cell_type": "code",
   "execution_count": 135,
   "id": "fc559ed7-fc3e-4d47-a764-18057a7b84ba",
   "metadata": {},
   "outputs": [
    {
     "data": {
      "text/plain": [
       "1.0000000000000002"
      ]
     },
     "execution_count": 135,
     "metadata": {},
     "output_type": "execute_result"
    }
   ],
   "source": [
    "math.nextafter(1, 2)  # Returns 1.0000000000000002\n"
   ]
  },
  {
   "cell_type": "code",
   "execution_count": null,
   "id": "311538e1-a3ab-4a2e-869f-8d8a27584620",
   "metadata": {},
   "outputs": [],
   "source": []
  }
 ],
 "metadata": {
  "kernelspec": {
   "display_name": "Python [conda env:base] *",
   "language": "python",
   "name": "conda-base-py"
  },
  "language_info": {
   "codemirror_mode": {
    "name": "ipython",
    "version": 3
   },
   "file_extension": ".py",
   "mimetype": "text/x-python",
   "name": "python",
   "nbconvert_exporter": "python",
   "pygments_lexer": "ipython3",
   "version": "3.12.7"
  }
 },
 "nbformat": 4,
 "nbformat_minor": 5
}
