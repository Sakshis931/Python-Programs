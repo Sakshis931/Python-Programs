{
 "cells": [
  {
   "cell_type": "code",
   "execution_count": 67,
   "id": "8a47fb39-118a-491f-8d06-32eddc703e4f",
   "metadata": {},
   "outputs": [
    {
     "name": "stdout",
     "output_type": "stream",
     "text": [
      "d\n",
      "a\n",
      "t\n",
      "a\n",
      "m\n",
      "i\n",
      "t\n",
      "e\n",
      "s\n"
     ]
    }
   ],
   "source": [
    "a=\"datamites@gmail.com\"\n",
    "for i in a:\n",
    "    if(i=='@'):\n",
    "        break\n",
    "    print(i)"
   ]
  },
  {
   "cell_type": "code",
   "execution_count": 61,
   "id": "71a893c6-67cd-4737-8a87-91c5cde9c88b",
   "metadata": {},
   "outputs": [
    {
     "name": "stdout",
     "output_type": "stream",
     "text": [
      "d\n",
      "a\n",
      "t\n",
      "a\n",
      "m\n",
      "i\n",
      "t\n",
      "e\n",
      "s\n"
     ]
    }
   ],
   "source": [
    "a = \"datamites@gmail.com\"\n",
    "\n",
    "for i in a:\n",
    "    if i == '@':\n",
    "        break\n",
    "    print(i)\n"
   ]
  },
  {
   "cell_type": "code",
   "execution_count": 63,
   "id": "fe6981aa-a7a2-4e60-a3e3-9f05c0bc2de4",
   "metadata": {},
   "outputs": [
    {
     "name": "stdout",
     "output_type": "stream",
     "text": [
      "datamites"
     ]
    }
   ],
   "source": [
    "#end=\"\" argument. This prevents the print statement from moving to a new line after each character.\n",
    "a = \"datamites@gmail.com\"\n",
    "\n",
    "for i in a:\n",
    "    if i == '@':\n",
    "        break\n",
    "    print(i,end=\"\")"
   ]
  },
  {
   "cell_type": "code",
   "execution_count": 23,
   "id": "dc5ea93e-28d7-49cd-98cf-4c996d89e2b6",
   "metadata": {},
   "outputs": [
    {
     "name": "stdin",
     "output_type": "stream",
     "text": [
      "Enter a string:  Hello!!!, he said ---and went\n"
     ]
    },
    {
     "name": "stdout",
     "output_type": "stream",
     "text": [
      "Hello he said and went\n"
     ]
    }
   ],
   "source": [
    "my_str = input(\"Enter a string: \")\n",
    "no_punct = \"\"\n",
    "for char in my_str:\n",
    "    if char not in punctuations:\n",
    "        no_punct = no_punct + char\n",
    "print(no_punct)"
   ]
  },
  {
   "cell_type": "code",
   "execution_count": 1,
   "id": "d03f615f-11d5-451e-a110-61a42ed465b6",
   "metadata": {},
   "outputs": [
    {
     "name": "stdout",
     "output_type": "stream",
     "text": [
      "Product of elements in the list: 12000000\n"
     ]
    }
   ],
   "source": [
    "# Sample list of numbers\n",
    "numbers = [10, 20, 30, 40, 50]\n",
    "product_of_numbers = 1\n",
    "for i in numbers:\n",
    " product_of_numbers *= i\n",
    "print(\"Product of elements in the list:\", product_of_numbers)"
   ]
  },
  {
   "cell_type": "code",
   "execution_count": 3,
   "id": "db885c2e-367f-4086-80f5-0deda9aa0df4",
   "metadata": {},
   "outputs": [],
   "source": [
    "#Write a Python program to Remove empty List from List.\n"
   ]
  },
  {
   "cell_type": "code",
   "execution_count": null,
   "id": "08a5fbd3-6d75-46ab-9bd5-a84ce259f9cf",
   "metadata": {},
   "outputs": [],
   "source": []
  },
  {
   "cell_type": "code",
   "execution_count": 25,
   "id": "5c4c011a-ed56-4759-ad21-2cacde5539c2",
   "metadata": {},
   "outputs": [
    {
     "name": "stdout",
     "output_type": "stream",
     "text": [
      "      May 2025\n",
      "Mo Tu We Th Fr Sa Su\n",
      "          1  2  3  4\n",
      " 5  6  7  8  9 10 11\n",
      "12 13 14 15 16 17 18\n",
      "19 20 21 22 23 24 25\n",
      "26 27 28 29 30 31\n",
      "\n"
     ]
    }
   ],
   "source": [
    "#Write a Python program to display the current date and time\n",
    "import calendar\n",
    "print(calendar.month(2025,5))\n",
    "\n"
   ]
  },
  {
   "cell_type": "code",
   "execution_count": 33,
   "id": "ee5cf7fb-170a-4b78-85ee-8f5456e46ab8",
   "metadata": {},
   "outputs": [
    {
     "name": "stdout",
     "output_type": "stream",
     "text": [
      "Current date and time:\n",
      "1900-01-01 12:26:07\n"
     ]
    }
   ],
   "source": [
    "from datetime import datetime\n",
    "now = datetime.now().time()\n",
    "print(\"Current date and time:\")\n",
    "print(now.strftime(\"%Y-%m-%d %H:%M:%S\"))\n"
   ]
  },
  {
   "cell_type": "code",
   "execution_count": 35,
   "id": "d2be35b0-6cee-4ece-b74b-eae4c4352072",
   "metadata": {},
   "outputs": [
    {
     "name": "stdout",
     "output_type": "stream",
     "text": [
      "Current date and time:\n",
      "2025-05-06 00:00:00\n"
     ]
    }
   ],
   "source": [
    "from datetime import datetime\n",
    "now = datetime.now().date()\n",
    "print(\"Current date and time:\")\n",
    "print(now.strftime(\"%Y-%m-%d %H:%M:%S\"))"
   ]
  },
  {
   "cell_type": "code",
   "execution_count": 37,
   "id": "d4e1eb4a-fb44-4ea3-a14b-9926dc660be3",
   "metadata": {},
   "outputs": [
    {
     "name": "stdout",
     "output_type": "stream",
     "text": [
      "Current date and time:\n",
      "1900-01-01 12:27:52\n"
     ]
    }
   ],
   "source": [
    "from datetime import datetime\n",
    "now = datetime.now().time()\n",
    "print(\"Current date and time:\")\n",
    "print(now.strftime(\"%Y-%m-%d %H:%M:%S\"))"
   ]
  },
  {
   "cell_type": "code",
   "execution_count": 39,
   "id": "94c4d54f-891b-4f38-8e1f-8c214ac37f2d",
   "metadata": {},
   "outputs": [
    {
     "name": "stdout",
     "output_type": "stream",
     "text": [
      "Time: 12:28 PM\n"
     ]
    }
   ],
   "source": [
    "#for 12 hour format\n",
    "from datetime import datetime\n",
    "\n",
    "now = datetime.now()\n",
    "print(now.strftime(\"Time: %I:%M %p\"))\n"
   ]
  },
  {
   "cell_type": "code",
   "execution_count": 51,
   "id": "609f0316-5c87-4a56-a1ef-de159d55b124",
   "metadata": {},
   "outputs": [
    {
     "name": "stdout",
     "output_type": "stream",
     "text": [
      "4\n",
      "9\n",
      "16\n",
      "25\n",
      "None\n"
     ]
    }
   ],
   "source": [
    "#Use functions to return square of numbers from 2 to 5\n",
    "def square():\n",
    "    for i in range(2,6):\n",
    "        sq=0\n",
    "        sq=i*i\n",
    "        i+=1\n",
    "        print(sq)\n",
    "m=square()\n",
    "print(m)\n"
   ]
  },
  {
   "cell_type": "code",
   "execution_count": 71,
   "id": "2d4efd43-4358-4dca-a086-8907fb318d82",
   "metadata": {},
   "outputs": [
    {
     "name": "stdout",
     "output_type": "stream",
     "text": [
      "Number of days between the dates: 9 days, 0:00:00\n"
     ]
    }
   ],
   "source": [
    "#Write a Python program to calculate number of days between two dates.\n",
    "#Sample dates : (2014, 7, 2), (2014, 7, 11)\n",
    "\n",
    "from datetime import datetime\n",
    "\n",
    "# Sample dates\n",
    "date1 = (2014, 7, 2)\n",
    "date2 = (2014, 7, 11)\n",
    "\n",
    "# Convert the tuples to datetime objects\n",
    "date1 = datetime(date1[0], date1[1], date1[2])\n",
    "date2 = datetime(date2[0], date2[1], date2[2])\n",
    "\n",
    "# Calculate the difference between the two dates\n",
    "difference = date2 - date1\n",
    "\n",
    "# Print the number of days\n",
    "print(\"Number of days between the dates:\", difference)\n"
   ]
  },
  {
   "cell_type": "code",
   "execution_count": null,
   "id": "744975b5-f30a-4d3f-994d-71702b58467f",
   "metadata": {},
   "outputs": [],
   "source": []
  }
 ],
 "metadata": {
  "kernelspec": {
   "display_name": "Python [conda env:base] *",
   "language": "python",
   "name": "conda-base-py"
  },
  "language_info": {
   "codemirror_mode": {
    "name": "ipython",
    "version": 3
   },
   "file_extension": ".py",
   "mimetype": "text/x-python",
   "name": "python",
   "nbconvert_exporter": "python",
   "pygments_lexer": "ipython3",
   "version": "3.12.7"
  }
 },
 "nbformat": 4,
 "nbformat_minor": 5
}
