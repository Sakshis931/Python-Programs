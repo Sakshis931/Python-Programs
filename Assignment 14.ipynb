{
 "cells": [
  {
   "cell_type": "code",
   "execution_count": 2,
   "id": "9c019b12-6e7c-4677-8dd2-7a8387c1e373",
   "metadata": {},
   "outputs": [],
   "source": [
    "#Daily Mood Tracker"
   ]
  },
  {
   "cell_type": "code",
   "execution_count": 4,
   "id": "55a77107-91b2-43b6-b8df-0ae37b4e2404",
   "metadata": {},
   "outputs": [],
   "source": [
    "mood_log = {}\n"
   ]
  },
  {
   "cell_type": "code",
   "execution_count": 13,
   "id": "04e7362f-d7bf-4c6b-b2c1-7c5e32354f58",
   "metadata": {},
   "outputs": [
    {
     "name": "stdin",
     "output_type": "stream",
     "text": [
      "How did you feel on Day 1? (e.g. Happy, Sad, Excited):  good\n",
      "How did you feel on Day 2? (e.g. Happy, Sad, Excited):  great\n",
      "How did you feel on Day 3? (e.g. Happy, Sad, Excited):  sad\n",
      "How did you feel on Day 4? (e.g. Happy, Sad, Excited):  okok\n",
      "How did you feel on Day 5? (e.g. Happy, Sad, Excited):  idk\n"
     ]
    }
   ],
   "source": [
    "for i in range(1, 6):\n",
    "    day = f\"Day {i}\"\n",
    "    mood = input(f\"How did you feel on {day}? (e.g. Happy, Sad, Excited): \")\n",
    "    mood_log[day] = mood\n"
   ]
  },
  {
   "cell_type": "code",
   "execution_count": 15,
   "id": "b9f65d7b-b0a5-4cc8-86be-3ab03dabfd71",
   "metadata": {},
   "outputs": [
    {
     "name": "stdout",
     "output_type": "stream",
     "text": [
      "\n",
      "📝 Your Mood Log:\n",
      "Day 1: good\n",
      "Day 2: great\n",
      "Day 3: sad\n",
      "Day 4: okok\n",
      "Day 5: idk\n"
     ]
    }
   ],
   "source": [
    "print(\"\\n📝 Your Mood Log:\")\n",
    "for day, mood in mood_log.items():\n",
    "    print(f\"{day}: {mood}\")\n"
   ]
  },
  {
   "cell_type": "code",
   "execution_count": 17,
   "id": "edd084cd-e558-4ca2-8d2b-6a9a68436b56",
   "metadata": {},
   "outputs": [],
   "source": [
    "mood_count = {}\n",
    "\n",
    "for mood in mood_log.values():\n",
    "    if mood in mood_count:\n",
    "        mood_count[mood] += 1\n",
    "    else:\n",
    "        mood_count[mood] = 1\n"
   ]
  },
  {
   "cell_type": "code",
   "execution_count": 19,
   "id": "948d2bdb-0625-4218-9856-b4b92e19816f",
   "metadata": {},
   "outputs": [
    {
     "name": "stdout",
     "output_type": "stream",
     "text": [
      "\n",
      "📊 Mood Summary:\n",
      "good: 1 time(s)\n",
      "great: 1 time(s)\n",
      "sad: 1 time(s)\n",
      "okok: 1 time(s)\n",
      "idk: 1 time(s)\n"
     ]
    }
   ],
   "source": [
    "print(\"\\n📊 Mood Summary:\")\n",
    "for mood, count in mood_count.items():\n",
    "    print(f\"{mood}: {count} time(s)\")\n"
   ]
  },
  {
   "cell_type": "code",
   "execution_count": 27,
   "id": "11147f69-9b24-4388-9510-7cddacd3bb3e",
   "metadata": {},
   "outputs": [
    {
     "name": "stdin",
     "output_type": "stream",
     "text": [
      "How did you feel on Day 1? (e.g. Happy, Sad, Excited):  sad\n",
      "How did you feel on Day 2? (e.g. Happy, Sad, Excited):  happy\n",
      "How did you feel on Day 3? (e.g. Happy, Sad, Excited):  happy\n",
      "How did you feel on Day 4? (e.g. Happy, Sad, Excited):  ok\n",
      "How did you feel on Day 5? (e.g. Happy, Sad, Excited):  knd\n"
     ]
    },
    {
     "name": "stdout",
     "output_type": "stream",
     "text": [
      "\n",
      "📝 Your Mood Log:\n",
      "Day 1: sad\n",
      "Day 2: happy\n",
      "Day 3: happy\n",
      "Day 4: ok\n",
      "Day 5: knd\n",
      "\n",
      "📊 Mood Summary:\n",
      "sad: 1 time(s)\n",
      "happy: 2 time(s)\n",
      "ok: 1 time(s)\n",
      "knd: 1 time(s)\n"
     ]
    }
   ],
   "source": [
    "# Step 1: Create an empty dictionary to store moods\n",
    "mood_log = {}\n",
    "\n",
    "# Step 2: Ask user for mood inputs for 5 days\n",
    "for i in range(1, 6):\n",
    "    day = f\"Day {i}\"\n",
    "    mood = input(f\"How did you feel on {day}? (e.g. Happy, Sad, Excited): \")\n",
    "    mood_log[day] = mood\n",
    "\n",
    "# Step 3: Display full mood log\n",
    "print(\"\\n📝 Your Mood Log:\")\n",
    "for day, mood in mood_log.items():\n",
    "    print(f\"{day}: {mood}\")\n",
    "\n",
    "# Step 4: Count how many times each mood occurred\n",
    "mood_count = {}\n",
    "\n",
    "for mood in mood_log.values():\n",
    "    if mood in mood_count:\n",
    "        mood_count[mood] += 1\n",
    "    else:\n",
    "        mood_count[mood] = 1\n",
    "\n",
    "# Step 5: Show summary\n",
    "print(\"\\n📊 Mood Summary:\")\n",
    "for mood, count in mood_count.items():\n",
    "    print(f\"{mood}: {count} time(s)\")\n"
   ]
  },
  {
   "cell_type": "code",
   "execution_count": 23,
   "id": "89acf1e6-10c6-46cb-be3d-43f7b6261189",
   "metadata": {},
   "outputs": [],
   "source": [
    "#with pandas"
   ]
  },
  {
   "cell_type": "code",
   "execution_count": 29,
   "id": "45d00c24-22e2-4dcc-a0da-ac3b4d943758",
   "metadata": {},
   "outputs": [
    {
     "name": "stdin",
     "output_type": "stream",
     "text": [
      "How did you feel on Day 1? (e.g. Happy, Sad, Excited):  sad\n",
      "How did you feel on Day 2? (e.g. Happy, Sad, Excited):  happy\n",
      "How did you feel on Day 3? (e.g. Happy, Sad, Excited):  sad\n",
      "How did you feel on Day 4? (e.g. Happy, Sad, Excited):  ok\n",
      "How did you feel on Day 5? (e.g. Happy, Sad, Excited):  good\n"
     ]
    },
    {
     "name": "stdout",
     "output_type": "stream",
     "text": [
      "\n",
      "📝 Mood Log:\n",
      "     Day   Mood\n",
      "0  Day 1    sad\n",
      "1  Day 2  happy\n",
      "2  Day 3    sad\n",
      "3  Day 4     ok\n",
      "4  Day 5   good\n",
      "\n",
      "📊 Mood Summary:\n",
      "Mood\n",
      "sad      2\n",
      "happy    1\n",
      "ok       1\n",
      "good     1\n",
      "Name: count, dtype: int64\n"
     ]
    }
   ],
   "source": [
    "import pandas as pd\n",
    "\n",
    "# Step 1: Create empty lists to store input\n",
    "days = []\n",
    "moods = []\n",
    "\n",
    "# Step 2: Collect mood data for 5 days\n",
    "for i in range(1, 6):\n",
    "    day = f\"Day {i}\"\n",
    "    mood = input(f\"How did you feel on {day}? (e.g. Happy, Sad, Excited): \")\n",
    "    days.append(day)\n",
    "    moods.append(mood)\n",
    "\n",
    "# Step 3: Create a DataFrame\n",
    "df = pd.DataFrame({\n",
    "    'Day': days,\n",
    "    'Mood': moods\n",
    "})\n",
    "\n",
    "# Step 4: Display the full mood log\n",
    "print(\"\\n📝 Mood Log:\")\n",
    "print(df)\n",
    "\n",
    "# Step 5: Mood summary using value_counts()\n",
    "print(\"\\n📊 Mood Summary:\")\n",
    "print(df['Mood'].value_counts())\n"
   ]
  },
  {
   "cell_type": "code",
   "execution_count": null,
   "id": "ed525cc8-3640-4a1b-9139-deecd67bf12b",
   "metadata": {},
   "outputs": [],
   "source": []
  }
 ],
 "metadata": {
  "kernelspec": {
   "display_name": "Python [conda env:base] *",
   "language": "python",
   "name": "conda-base-py"
  },
  "language_info": {
   "codemirror_mode": {
    "name": "ipython",
    "version": 3
   },
   "file_extension": ".py",
   "mimetype": "text/x-python",
   "name": "python",
   "nbconvert_exporter": "python",
   "pygments_lexer": "ipython3",
   "version": "3.12.7"
  }
 },
 "nbformat": 4,
 "nbformat_minor": 5
}
