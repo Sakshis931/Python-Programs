{
 "cells": [
  {
   "cell_type": "code",
   "execution_count": 9,
   "id": "880d35c9-9ece-4640-baec-49bf59f970e7",
   "metadata": {},
   "outputs": [
    {
     "name": "stdout",
     "output_type": "stream",
     "text": [
      "zsh:1: no matches found: qrcode[pil]\n"
     ]
    }
   ],
   "source": [
    "import sys\n",
    "!{sys.executable} -m pip install qrcode[pil]\n"
   ]
  },
  {
   "cell_type": "code",
   "execution_count": 11,
   "id": "5e6463e9-a69b-4658-93cc-7f5e17a69f12",
   "metadata": {},
   "outputs": [
    {
     "name": "stdout",
     "output_type": "stream",
     "text": [
      "Collecting qrcode[pil]\n",
      "  Downloading qrcode-8.2-py3-none-any.whl.metadata (17 kB)\n",
      "Requirement already satisfied: pillow>=9.1.0 in /opt/anaconda3/lib/python3.12/site-packages (from qrcode[pil]) (10.4.0)\n",
      "Downloading qrcode-8.2-py3-none-any.whl (45 kB)\n",
      "Installing collected packages: qrcode\n",
      "Successfully installed qrcode-8.2\n"
     ]
    }
   ],
   "source": [
    "import sys\n",
    "!{sys.executable} -m pip install \"qrcode[pil]\"\n"
   ]
  },
  {
   "cell_type": "code",
   "execution_count": 15,
   "id": "6b560223-9510-4f58-aafb-c015789fc607",
   "metadata": {},
   "outputs": [
    {
     "name": "stdout",
     "output_type": "stream",
     "text": [
      "QR code generated and saved as 'url_qrcode.png'\n"
     ]
    }
   ],
   "source": [
    "import qrcode\n",
    "\n",
    "input_URL = \"https://www.google.com/\"\n",
    "\n",
    "qr = qrcode.QRCode(\n",
    "    version=1,\n",
    "    error_correction=qrcode.constants.ERROR_CORRECT_L,\n",
    "    box_size=15,\n",
    "    border=4,\n",
    ")\n",
    "\n",
    "qr.add_data(input_URL)\n",
    "qr.make(fit=True)\n",
    "\n",
    "img = qr.make_image(fill_color=\"red\", back_color=\"white\")\n",
    "img.save(\"url_qrcode.png\")\n",
    "\n",
    "print(\"QR code generated and saved as 'url_qrcode.png'\")\n"
   ]
  },
  {
   "cell_type": "code",
   "execution_count": null,
   "id": "fe392954-66b6-4cd1-8254-c100cefbedf9",
   "metadata": {},
   "outputs": [],
   "source": []
  }
 ],
 "metadata": {
  "kernelspec": {
   "display_name": "Python [conda env:base] *",
   "language": "python",
   "name": "conda-base-py"
  },
  "language_info": {
   "codemirror_mode": {
    "name": "ipython",
    "version": 3
   },
   "file_extension": ".py",
   "mimetype": "text/x-python",
   "name": "python",
   "nbconvert_exporter": "python",
   "pygments_lexer": "ipython3",
   "version": "3.12.7"
  }
 },
 "nbformat": 4,
 "nbformat_minor": 5
}
