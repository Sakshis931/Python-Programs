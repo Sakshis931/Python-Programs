{
 "cells": [
  {
   "cell_type": "code",
   "execution_count": 3,
   "id": "fcb18711-59ad-43ae-9be6-7d4518f4a389",
   "metadata": {},
   "outputs": [],
   "source": [
    "import pandas as pd\n"
   ]
  },
  {
   "cell_type": "code",
   "execution_count": 5,
   "id": "096a2ba4-3344-48bc-ae97-a9ab210a84b6",
   "metadata": {},
   "outputs": [],
   "source": [
    "data = {\n",
    "    'Name': ['Sakshi', 'Aman', 'Riya', 'Tina', 'John', 'Rohan'],\n",
    "    'Math': [89, 67, 90, 45, 76, 82],\n",
    "    'Science': [94, 60, 88, 70, 66, 79],\n",
    "    'English': [85, 77, 92, 58, 73, 81],\n",
    "    'Attendance (%)': [92, 85, 88, 74, 80, 95]\n",
    "}\n"
   ]
  },
  {
   "cell_type": "code",
   "execution_count": 25,
   "id": "5d751a44-86cb-4a59-a047-6b704f0f89a6",
   "metadata": {},
   "outputs": [
    {
     "name": "stdout",
     "output_type": "stream",
     "text": [
      "     Name  Math  Science  English  Attendance (%)\n",
      "0  Sakshi    89       94       85              92\n",
      "1    Aman    67       60       77              85\n",
      "2    Riya    90       88       92              88\n",
      "3    Tina    45       70       58              74\n",
      "4    John    76       66       73              80\n",
      "5   Rohan    82       79       81              95\n"
     ]
    }
   ],
   "source": [
    "df = pd.DataFrame(data)\n",
    "print(df)"
   ]
  },
  {
   "cell_type": "code",
   "execution_count": 33,
   "id": "c0a6aa0d-191a-4120-a3dd-acf554b31442",
   "metadata": {},
   "outputs": [],
   "source": [
    "df['Total'] = df[['Math', 'Science', 'English']].sum(axis=1)\n",
    "df['Average'] = df['Total'] / 3\n"
   ]
  },
  {
   "cell_type": "code",
   "execution_count": 35,
   "id": "2248229f-3b11-4204-a3d2-ca7051db49e1",
   "metadata": {},
   "outputs": [],
   "source": [
    "df['Grade'] = pd.cut(df['Average'],\n",
    "                     bins=[0, 60, 75, 90, 100],\n",
    "                     labels=['Poor', 'Average', 'Good', 'Excellent'])\n"
   ]
  },
  {
   "cell_type": "code",
   "execution_count": 37,
   "id": "5cbe0e55-ac1e-4f59-8cb1-ab06a3949f6a",
   "metadata": {},
   "outputs": [
    {
     "name": "stdout",
     "output_type": "stream",
     "text": [
      "     Name  Math  Science  English  Attendance (%)  Total    Average Grade\n",
      "0  Sakshi    89       94       85              92    268  89.333333  Good\n",
      "2    Riya    90       88       92              88    270  90.000000  Good\n",
      "5   Rohan    82       79       81              95    242  80.666667  Good\n"
     ]
    }
   ],
   "source": [
    "high_attendance = df[df['Attendance (%)'] > 85]\n",
    "print(high_attendance)\n"
   ]
  },
  {
   "cell_type": "code",
   "execution_count": 39,
   "id": "47d42d5e-ba34-43e9-a5dc-b2a8e38fc6cd",
   "metadata": {},
   "outputs": [
    {
     "name": "stdout",
     "output_type": "stream",
     "text": [
      "     Name  Math  Science  English  Attendance (%)  Total    Average Grade\n",
      "2    Riya    90       88       92              88    270  90.000000  Good\n",
      "0  Sakshi    89       94       85              92    268  89.333333  Good\n",
      "5   Rohan    82       79       81              95    242  80.666667  Good\n"
     ]
    }
   ],
   "source": [
    "top_3 = df.sort_values(by='Average', ascending=False).head(3)\n",
    "print(top_3)"
   ]
  },
  {
   "cell_type": "code",
   "execution_count": 41,
   "id": "ee20eeeb-e8e4-4053-bb45-53cf9d68cd47",
   "metadata": {},
   "outputs": [],
   "source": [
    "summary = df.describe()\n"
   ]
  },
  {
   "cell_type": "code",
   "execution_count": 43,
   "id": "e8a6d4d3-1558-484a-b886-8f6323c83ca4",
   "metadata": {},
   "outputs": [
    {
     "name": "stdout",
     "output_type": "stream",
     "text": [
      "📊 Full DataFrame:\n",
      "      Name  Math  Science  English  Attendance (%)  Total    Average    Grade\n",
      "0  Sakshi    89       94       85              92    268  89.333333     Good\n",
      "1    Aman    67       60       77              85    204  68.000000  Average\n",
      "2    Riya    90       88       92              88    270  90.000000     Good\n",
      "3    Tina    45       70       58              74    173  57.666667     Poor\n",
      "4    John    76       66       73              80    215  71.666667  Average\n",
      "5   Rohan    82       79       81              95    242  80.666667     Good\n",
      "\n",
      "🎯 High Attendance (>85%):\n",
      "      Name  Math  Science  English  Attendance (%)  Total    Average Grade\n",
      "0  Sakshi    89       94       85              92    268  89.333333  Good\n",
      "2    Riya    90       88       92              88    270  90.000000  Good\n",
      "5   Rohan    82       79       81              95    242  80.666667  Good\n",
      "\n",
      "🏆 Top 3 Students:\n",
      "      Name    Average Grade\n",
      "2    Riya  90.000000  Good\n",
      "0  Sakshi  89.333333  Good\n",
      "5   Rohan  80.666667  Good\n",
      "\n",
      "📈 Summary Statistics:\n",
      "             Math    Science    English  Attendance (%)       Total    Average\n",
      "count   6.000000   6.000000   6.000000        6.000000    6.000000   6.000000\n",
      "mean   74.833333  76.166667  77.666667       85.666667  228.666667  76.222222\n",
      "std    16.940091  13.182059  11.656186        7.763161   38.281414  12.760471\n",
      "min    45.000000  60.000000  58.000000       74.000000  173.000000  57.666667\n",
      "25%    69.250000  67.000000  74.000000       81.250000  206.750000  68.916667\n",
      "50%    79.000000  74.500000  79.000000       86.500000  228.500000  76.166667\n",
      "75%    87.250000  85.750000  84.000000       91.000000  261.500000  87.166667\n",
      "max    90.000000  94.000000  92.000000       95.000000  270.000000  90.000000\n"
     ]
    }
   ],
   "source": [
    "print(\"📊 Full DataFrame:\\n\", df)\n",
    "print(\"\\n🎯 High Attendance (>85%):\\n\", high_attendance)\n",
    "print(\"\\n🏆 Top 3 Students:\\n\", top_3[['Name', 'Average', 'Grade']])\n",
    "print(\"\\n📈 Summary Statistics:\\n\", summary)\n"
   ]
  },
  {
   "cell_type": "code",
   "execution_count": 45,
   "id": "573cf406-cda8-471c-bedd-53a669b802a2",
   "metadata": {},
   "outputs": [],
   "source": [
    "#without panadas\n"
   ]
  },
  {
   "cell_type": "code",
   "execution_count": 47,
   "id": "bda71e4f-029b-4a37-be9a-0291a379ab14",
   "metadata": {},
   "outputs": [],
   "source": [
    "items = ['Rice', 'Wheat', 'Milk', 'Eggs', 'Fruits', 'Soap']\n",
    "quantities = [5, 4, 2, 12, 3, 6]             # quantity in kg, litres, or units\n",
    "prices = [50, 45, 30, 6, 60, 20]             # price per unit (₹)\n"
   ]
  },
  {
   "cell_type": "code",
   "execution_count": 53,
   "id": "46cc3b7a-9973-4038-81bf-9421ae72e852",
   "metadata": {},
   "outputs": [
    {
     "name": "stdout",
     "output_type": "stream",
     "text": [
      "Rice → 5 x ₹50 = ₹250\n",
      "Wheat → 4 x ₹45 = ₹180\n",
      "Milk → 2 x ₹30 = ₹60\n",
      "Eggs → 12 x ₹6 = ₹72\n",
      "Fruits → 3 x ₹60 = ₹180\n",
      "Soap → 6 x ₹20 = ₹120\n"
     ]
    }
   ],
   "source": [
    "total_prices = []\n",
    "\n",
    "for i in range(len(items)):\n",
    "    total = quantities[i] * prices[i]\n",
    "    total_prices.append(total)\n",
    "    print(f\"{items[i]} → {quantities[i]} x ₹{prices[i]} = ₹{total}\")\n"
   ]
  },
  {
   "cell_type": "code",
   "execution_count": 55,
   "id": "bcddda06-86e0-41f5-b00d-398eddf67c7d",
   "metadata": {},
   "outputs": [
    {
     "name": "stdout",
     "output_type": "stream",
     "text": [
      "\n",
      "💰 Total spend on groceries: ₹862\n"
     ]
    }
   ],
   "source": [
    "total_spent = sum(total_prices)\n",
    "print(f\"\\n💰 Total spend on groceries: ₹{total_spent}\")\n"
   ]
  },
  {
   "cell_type": "code",
   "execution_count": 57,
   "id": "b34554f7-ace4-456b-bf28-d49903ca47ee",
   "metadata": {},
   "outputs": [
    {
     "name": "stdout",
     "output_type": "stream",
     "text": [
      "\n",
      "🏆 Most expensive item: Rice → ₹250\n"
     ]
    }
   ],
   "source": [
    "max_price = max(total_prices)                        # Highest value\n",
    "max_index = total_prices.index(max_price)            # Find its position\n",
    "print(f\"\\n🏆 Most expensive item: {items[max_index]} → ₹{max_price}\")\n"
   ]
  },
  {
   "cell_type": "code",
   "execution_count": null,
   "id": "46e2219a-b497-49e1-9144-ecdc6c6cbae7",
   "metadata": {},
   "outputs": [],
   "source": []
  }
 ],
 "metadata": {
  "kernelspec": {
   "display_name": "Python [conda env:base] *",
   "language": "python",
   "name": "conda-base-py"
  },
  "language_info": {
   "codemirror_mode": {
    "name": "ipython",
    "version": 3
   },
   "file_extension": ".py",
   "mimetype": "text/x-python",
   "name": "python",
   "nbconvert_exporter": "python",
   "pygments_lexer": "ipython3",
   "version": "3.12.7"
  }
 },
 "nbformat": 4,
 "nbformat_minor": 5
}
