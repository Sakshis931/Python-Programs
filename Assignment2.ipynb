{
 "cells": [
  {
   "cell_type": "code",
   "execution_count": 31,
   "id": "7937a482-6845-4582-8d07-33ab3fd3474b",
   "metadata": {},
   "outputs": [
    {
     "name": "stdin",
     "output_type": "stream",
     "text": [
      "enter income 45000\n"
     ]
    },
    {
     "name": "stdout",
     "output_type": "stream",
     "text": [
      "20% 6000.0\n"
     ]
    }
   ],
   "source": [
    "#Calculate income tax\n",
    "i=int(input(\"enter income\"))\n",
    "if(i<=10000):\n",
    "    t1=10000*0\n",
    "    print(\"0 tax\",t1)\n",
    "elif(i>10000 and i<=20000):\n",
    "    t2=10000*(10/100)\n",
    "    print(\"10%\",t2)\n",
    "else:\n",
    "    t3=(i-20000)*(20/100)+t2\n",
    "    print(\"20%\",t3)"
   ]
  },
  {
   "cell_type": "code",
   "execution_count": 47,
   "id": "b779e6a5-d7d7-4974-94a4-15684b963c0a",
   "metadata": {},
   "outputs": [
    {
     "name": "stdout",
     "output_type": "stream",
     "text": [
      "2\n",
      "4\n",
      "6\n",
      "8\n",
      "10\n",
      "12\n",
      "14\n",
      "16\n",
      "18\n",
      "20\n"
     ]
    }
   ],
   "source": [
    "#Print multiplication table from 1 to 10\n",
    "n=2\n",
    "for i in range(1,11):\n",
    "    t=i*n\n",
    "    print(t)"
   ]
  },
  {
   "cell_type": "code",
   "execution_count": 93,
   "id": "8224f9f3-75a3-4725-8340-220f3b98fc2b",
   "metadata": {},
   "outputs": [
    {
     "name": "stdout",
     "output_type": "stream",
     "text": [
      "1 2 3 4 5 6 7 8 9 10 \t\t\n",
      "2 4 6 8 10 12 14 16 18 20 \t\t\n",
      "3 6 9 12 15 18 21 24 27 30 \t\t\n",
      "4 8 12 16 20 24 28 32 36 40 \t\t\n",
      "5 10 15 20 25 30 35 40 45 50 \t\t\n",
      "6 12 18 24 30 36 42 48 54 60 \t\t\n",
      "7 14 21 28 35 42 49 56 63 70 \t\t\n",
      "8 16 24 32 40 48 56 64 72 80 \t\t\n",
      "9 18 27 36 45 54 63 72 81 90 \t\t\n",
      "10 20 30 40 50 60 70 80 90 100 \t\t\n"
     ]
    }
   ],
   "source": [
    "#Print multiplication table from 1 to 10\n",
    "for i in range(1,11):\n",
    "    for j in range(1,11):\n",
    "         print(i*j,end=\" \")\n",
    "    print(\"\\t\\t\") "
   ]
  },
  {
   "cell_type": "code",
   "execution_count": 110,
   "id": "12a2df71-af39-454e-84f0-57ba55df5a63",
   "metadata": {},
   "outputs": [
    {
     "name": "stdout",
     "output_type": "stream",
     "text": [
      "1\n",
      "2\n",
      "3\n",
      "4\n",
      "5\n",
      "6\n",
      "7\n",
      "8\n",
      "9\n",
      "10\n",
      "\t\t\n",
      "2\n",
      "4\n",
      "6\n",
      "8\n",
      "10\n",
      "12\n",
      "14\n",
      "16\n",
      "18\n",
      "20\n",
      "\t\t\n",
      "3\n",
      "6\n",
      "9\n",
      "12\n",
      "15\n",
      "18\n",
      "21\n",
      "24\n",
      "27\n",
      "30\n",
      "\t\t\n",
      "4\n",
      "8\n",
      "12\n",
      "16\n",
      "20\n",
      "24\n",
      "28\n",
      "32\n",
      "36\n",
      "40\n",
      "\t\t\n",
      "5\n",
      "10\n",
      "15\n",
      "20\n",
      "25\n",
      "30\n",
      "35\n",
      "40\n",
      "45\n",
      "50\n",
      "\t\t\n",
      "6\n",
      "12\n",
      "18\n",
      "24\n",
      "30\n",
      "36\n",
      "42\n",
      "48\n",
      "54\n",
      "60\n",
      "\t\t\n",
      "7\n",
      "14\n",
      "21\n",
      "28\n",
      "35\n",
      "42\n",
      "49\n",
      "56\n",
      "63\n",
      "70\n",
      "\t\t\n",
      "8\n",
      "16\n",
      "24\n",
      "32\n",
      "40\n",
      "48\n",
      "56\n",
      "64\n",
      "72\n",
      "80\n",
      "\t\t\n",
      "9\n",
      "18\n",
      "27\n",
      "36\n",
      "45\n",
      "54\n",
      "63\n",
      "72\n",
      "81\n",
      "90\n",
      "\t\t\n",
      "10\n",
      "20\n",
      "30\n",
      "40\n",
      "50\n",
      "60\n",
      "70\n",
      "80\n",
      "90\n",
      "100\n",
      "\t\t\n"
     ]
    }
   ],
   "source": [
    "#Print multiplication table from 1 to 10\n",
    "for i in range(1,11):\n",
    "    for j in range(1,11):\n",
    "         print(i*j)\n",
    "    print(\"\\t\\t\") "
   ]
  },
  {
   "cell_type": "code",
   "execution_count": 114,
   "id": "7236e6ed-7421-4a00-918b-2b9064d8d914",
   "metadata": {},
   "outputs": [
    {
     "name": "stdout",
     "output_type": "stream",
     "text": [
      "\n",
      "Twinkle, twinkle, little star,\n",
      "\tHow I wonder what you are! \n",
      "\t\tUp above the world so high,   \t\t\n",
      "\t\tLike a diamond in the sky. \n",
      "Twinkle, twinkle, little star, \n",
      "\tHow I wonder what you are\n"
     ]
    }
   ],
   "source": [
    "#Formatted Twinkle Poem\n",
    "t='''\n",
    "Twinkle, twinkle, little star,\n",
    "\tHow I wonder what you are! \n",
    "\t\tUp above the world so high,   \t\t\n",
    "\t\tLike a diamond in the sky. \n",
    "Twinkle, twinkle, little star, \n",
    "\tHow I wonder what you are'''\n",
    "print(t)"
   ]
  },
  {
   "cell_type": "code",
   "execution_count": 122,
   "id": "90b87505-f449-46c6-8dbb-e6b7a331edc5",
   "metadata": {},
   "outputs": [
    {
     "name": "stdout",
     "output_type": "stream",
     "text": [
      "3.12.7 | packaged by Anaconda, Inc. | (main, Oct  4 2024, 08:28:27) [Clang 14.0.6 ]\n"
     ]
    }
   ],
   "source": [
    "#Python Version Checker\n",
    "import sys\n",
    "n=sys.version\n",
    "print(n)"
   ]
  },
  {
   "cell_type": "code",
   "execution_count": 132,
   "id": "b14fa925-fa07-44f0-806d-d7dc4c6d023a",
   "metadata": {},
   "outputs": [
    {
     "name": "stdout",
     "output_type": "stream",
     "text": [
      "22\n"
     ]
    }
   ],
   "source": [
    "#Current DateTime Display\n",
    "import time\n",
    "t=time.strftime(\"%H\")\n",
    "print(t)"
   ]
  },
  {
   "cell_type": "code",
   "execution_count": 138,
   "id": "ef31e2c7-ee3c-412f-8ed2-c9d134a4d0b2",
   "metadata": {},
   "outputs": [
    {
     "name": "stdout",
     "output_type": "stream",
     "text": [
      "ramuk mar\n",
      "mar ramuk\n"
     ]
    }
   ],
   "source": [
    "#Reverse Full Name\n",
    "a=\"ram kumar\"\n",
    "b=\"ram\"\n",
    "c=\"kumar\"\n",
    "print(a[::-1])\n",
    "print(b[::-1],c[::-1])"
   ]
  },
  {
   "cell_type": "code",
   "execution_count": 152,
   "id": "30df2f56-9ae0-4315-b9b7-b6a40ab8ba55",
   "metadata": {},
   "outputs": [
    {
     "name": "stdout",
     "output_type": "stream",
     "text": [
      "blue\n",
      "pink\n",
      "0\n"
     ]
    }
   ],
   "source": [
    "#First and Last Colors\n",
    "l=[\"blue\",\"black\",\"white\",\"pink\"]\n",
    "print(l[0])\n",
    "print(l[-1])\n",
    "print(l.index(\"blue\"))"
   ]
  },
  {
   "cell_type": "code",
   "execution_count": 174,
   "id": "1528a18f-8740-4d32-9bda-d6962b5959de",
   "metadata": {},
   "outputs": [
    {
     "name": "stdin",
     "output_type": "stream",
     "text": [
      "enter date 12,43,2343\n"
     ]
    },
    {
     "name": "stdout",
     "output_type": "stream",
     "text": [
      "12/43/2343\n"
     ]
    }
   ],
   "source": [
    "# Exam Schedule Formatter\n",
    "d=(input(\"enter date\"))\n",
    "m=d.replace(\",\",\"/\")\n",
    "print(m)"
   ]
  },
  {
   "cell_type": "code",
   "execution_count": 166,
   "id": "7472c12e-c3b3-41e2-aef5-81715d0c066a",
   "metadata": {},
   "outputs": [
    {
     "name": "stdin",
     "output_type": "stream",
     "text": [
      "Enter date (e.g. 12,04,2025):  12,04,2025\n"
     ]
    },
    {
     "name": "stdout",
     "output_type": "stream",
     "text": [
      "Formatted date: 12/04/2025\n"
     ]
    }
   ],
   "source": [
    "d = input(\"Enter date (e.g. 12,04,2025): \")\n",
    "m = d.replace(\",\", \"/\")\n",
    "print(\"Formatted date:\", m)\n"
   ]
  },
  {
   "cell_type": "code",
   "execution_count": null,
   "id": "c2377e0e-bbb1-45c9-99ca-e0da8ee787af",
   "metadata": {},
   "outputs": [],
   "source": []
  }
 ],
 "metadata": {
  "kernelspec": {
   "display_name": "Python [conda env:base] *",
   "language": "python",
   "name": "conda-base-py"
  },
  "language_info": {
   "codemirror_mode": {
    "name": "ipython",
    "version": 3
   },
   "file_extension": ".py",
   "mimetype": "text/x-python",
   "name": "python",
   "nbconvert_exporter": "python",
   "pygments_lexer": "ipython3",
   "version": "3.12.7"
  }
 },
 "nbformat": 4,
 "nbformat_minor": 5
}
