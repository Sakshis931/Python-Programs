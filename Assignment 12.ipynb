{
 "cells": [
  {
   "cell_type": "code",
   "execution_count": 2,
   "id": "6c5215e0-99e8-4df7-a756-e43079507c4f",
   "metadata": {},
   "outputs": [],
   "source": [
    "#import cmath\n",
    "\n",
    "import cmath\n"
   ]
  },
  {
   "cell_type": "code",
   "execution_count": 20,
   "id": "6247b5cb-6a42-4ed9-8404-209b206c9f9e",
   "metadata": {},
   "outputs": [
    {
     "data": {
      "text/plain": [
       "(2+0j)"
      ]
     },
     "execution_count": 20,
     "metadata": {},
     "output_type": "execute_result"
    }
   ],
   "source": [
    "cmath.sqrt(4)\n"
   ]
  },
  {
   "cell_type": "code",
   "execution_count": 22,
   "id": "79d860f8-5ee2-4b8e-825e-7397bd21ea53",
   "metadata": {},
   "outputs": [
    {
     "data": {
      "text/plain": [
       "(4+0j)"
      ]
     },
     "execution_count": 22,
     "metadata": {},
     "output_type": "execute_result"
    }
   ],
   "source": [
    "cmath.sqrt(16)"
   ]
  },
  {
   "cell_type": "code",
   "execution_count": 24,
   "id": "dc0d0bf8-064a-464b-a714-e35d7bb9bd56",
   "metadata": {},
   "outputs": [
    {
     "data": {
      "text/plain": [
       "1j"
      ]
     },
     "execution_count": 24,
     "metadata": {},
     "output_type": "execute_result"
    }
   ],
   "source": [
    "cmath.sqrt(-1)"
   ]
  },
  {
   "cell_type": "code",
   "execution_count": 26,
   "id": "8e27d812-8245-42cc-9019-72076001024d",
   "metadata": {},
   "outputs": [
    {
     "data": {
      "text/plain": [
       "(54.598150033144236+0j)"
      ]
     },
     "execution_count": 26,
     "metadata": {},
     "output_type": "execute_result"
    }
   ],
   "source": [
    "cmath.exp(4)"
   ]
  },
  {
   "cell_type": "code",
   "execution_count": 28,
   "id": "567e8fbd-f929-42ca-9b39-02de76e54404",
   "metadata": {},
   "outputs": [
    {
     "data": {
      "text/plain": [
       "(2.718281828459045+0j)"
      ]
     },
     "execution_count": 28,
     "metadata": {},
     "output_type": "execute_result"
    }
   ],
   "source": [
    "cmath.exp(1)"
   ]
  },
  {
   "cell_type": "code",
   "execution_count": 30,
   "id": "e00bc6cf-b937-42fe-9f8f-ef3695a58336",
   "metadata": {},
   "outputs": [
    {
     "data": {
      "text/plain": [
       "(0.6931471805599453+0j)"
      ]
     },
     "execution_count": 30,
     "metadata": {},
     "output_type": "execute_result"
    }
   ],
   "source": [
    "cmath.log(2)"
   ]
  },
  {
   "cell_type": "code",
   "execution_count": 32,
   "id": "e29b1d81-7fbc-4a74-98a1-0ac03f93de19",
   "metadata": {},
   "outputs": [
    {
     "data": {
      "text/plain": [
       "(1.3862943611198906+0j)"
      ]
     },
     "execution_count": 32,
     "metadata": {},
     "output_type": "execute_result"
    }
   ],
   "source": [
    "cmath.log(4)"
   ]
  },
  {
   "cell_type": "code",
   "execution_count": 34,
   "id": "67663e3f-a792-4a21-a7e8-6c3d2b362d11",
   "metadata": {},
   "outputs": [
    {
     "data": {
      "text/plain": [
       "(-0.3048106211022167-0j)"
      ]
     },
     "execution_count": 34,
     "metadata": {},
     "output_type": "execute_result"
    }
   ],
   "source": [
    "cmath.sin(60)"
   ]
  },
  {
   "cell_type": "code",
   "execution_count": 62,
   "id": "46e5434a-5523-445b-873f-c66f37428f04",
   "metadata": {},
   "outputs": [
    {
     "name": "stdout",
     "output_type": "stream",
     "text": [
      "[5 7 9]\n",
      "[-3 -3 -3]\n",
      "[ 4 10 18]\n",
      "[0.25 0.4  0.5 ]\n",
      "[1 4 9]\n",
      "[1 2 3]\n",
      "[1.         1.41421356 1.73205081]\n",
      "[1 2 3]\n"
     ]
    }
   ],
   "source": [
    "#import numpy as np\n",
    "import numpy as np\n",
    "\n",
    "# Addition\n",
    "x = np.array([1, 2, 3])\n",
    "y = np.array([4, 5, 6])\n",
    "print(np.add(x, y))  # [5, 7, 9]\n",
    "\n",
    "# Subtraction\n",
    "print(np.subtract(x, y))  # [-3, -3, -3]\n",
    "\n",
    "# Multiplication\n",
    "print(np.multiply(x, y))  # [ 4, 10, 18]\n",
    "\n",
    "# Division\n",
    "print(np.divide(x, y))  # [0.25, 0.4 , 0.5 ]\n",
    "\n",
    "# Power\n",
    "print(np.power(x, 2))  # [1, 4, 9]\n",
    "\n",
    "# Modulo\n",
    "print(np.remainder(x, y))  # [1, 2, 3]\n",
    "\n",
    "# Square root\n",
    "print(np.sqrt(x))  # [1. 1.41421356 1.73205081]\n",
    "\n",
    "# Absolute value\n",
    "print(np.abs(x))  # [1 2 3]\n"
   ]
  },
  {
   "cell_type": "code",
   "execution_count": 64,
   "id": "6a97abb1-b62b-409a-9d3e-542b9c8bf54a",
   "metadata": {},
   "outputs": [
    {
     "name": "stdout",
     "output_type": "stream",
     "text": [
      "[1 2 3]\n"
     ]
    }
   ],
   "source": [
    "print(np.remainder(x, y))"
   ]
  },
  {
   "cell_type": "code",
   "execution_count": 66,
   "id": "073882df-afd8-48cd-bd42-bffe0e8fec45",
   "metadata": {},
   "outputs": [
    {
     "name": "stdout",
     "output_type": "stream",
     "text": [
      "[0.0000000e+00 1.0000000e+00 1.2246468e-16]\n",
      "[ 1.000000e+00  6.123234e-17 -1.000000e+00]\n",
      "[ 0.00000000e+00  1.63312394e+16 -1.22464680e-16]\n",
      "[ 2.71828183  7.3890561  20.08553692]\n",
      "[0.         0.69314718 1.09861229]\n"
     ]
    }
   ],
   "source": [
    "# Sine, Cosine, Tangent\n",
    "angle = np.array([0, np.pi/2, np.pi])\n",
    "print(np.sin(angle))  # [0. 1. 0.]\n",
    "print(np.cos(angle))  # [1. 0. -1.]\n",
    "print(np.tan(angle))  # [ 0.00000000e+00  1.63312394e+16  1.22464680e-16]\n",
    "\n",
    "# Exponential and Logarithmic\n",
    "print(np.exp(x))  # [ 2.71828183  7.3890561  20.08553692]\n",
    "print(np.log(x))  # [0.         0.69314718 1.09861229]\n"
   ]
  },
  {
   "cell_type": "code",
   "execution_count": 68,
   "id": "37bf0abe-d73a-4ae2-a234-4ec1c737f269",
   "metadata": {},
   "outputs": [
    {
     "name": "stdout",
     "output_type": "stream",
     "text": [
      "[ 0.          2.3012989  11.54873936]\n",
      "[ 1.          2.50917848 11.59195328]\n",
      "[0.         0.91715234 0.99627208]\n"
     ]
    }
   ],
   "source": [
    "# Hyperbolic sine, cosine, and tangent\n",
    "print(np.sinh(angle))  # [ 0.          1.17520119  1.17520119]\n",
    "print(np.cosh(angle))  # [1.         1.54308063 1.54308063]\n",
    "print(np.tanh(angle))  # [0.         0.91715234 0.0]\n"
   ]
  },
  {
   "cell_type": "code",
   "execution_count": 70,
   "id": "e13d5b0e-970b-4a84-8464-84ed99e6941b",
   "metadata": {},
   "outputs": [
    {
     "name": "stdout",
     "output_type": "stream",
     "text": [
      "6\n",
      "2.0\n",
      "1\n",
      "3\n"
     ]
    }
   ],
   "source": [
    "# Sum, Mean, Min, Max\n",
    "print(np.sum(x))  # 6\n",
    "print(np.mean(x))  # 2.0\n",
    "print(np.min(x))  # 1\n",
    "print(np.max(x))  # 3\n"
   ]
  },
  {
   "cell_type": "code",
   "execution_count": 72,
   "id": "0fa59659-298b-421e-aa28-f45ee338ab82",
   "metadata": {},
   "outputs": [
    {
     "name": "stdout",
     "output_type": "stream",
     "text": [
      "11\n",
      "[[19 22]\n",
      " [43 50]]\n",
      "[[-2.   1. ]\n",
      " [ 1.5 -0.5]]\n"
     ]
    }
   ],
   "source": [
    "# Dot product\n",
    "a = np.array([1, 2])\n",
    "b = np.array([3, 4])\n",
    "print(np.dot(a, b))  # 11\n",
    "\n",
    "# Matrix multiplication\n",
    "A = np.array([[1, 2], [3, 4]])\n",
    "B = np.array([[5, 6], [7, 8]])\n",
    "print(np.matmul(A, B))  # [[19 22] [43 50]]\n",
    "\n",
    "# Inverse of a matrix\n",
    "print(np.linalg.inv(A))  # [[-2.  1.] [1.5 -0.5]]\n"
   ]
  },
  {
   "cell_type": "code",
   "execution_count": 74,
   "id": "1ce8f3b6-0f63-495f-a512-fbf948b4b65b",
   "metadata": {},
   "outputs": [
    {
     "name": "stdout",
     "output_type": "stream",
     "text": [
      "[ True  True False]\n",
      "False\n",
      "True\n"
     ]
    }
   ],
   "source": [
    "# Element-wise comparison\n",
    "print(np.equal([1, 2, 3], [1, 2, 4]))  # [ True  True False]\n",
    "\n",
    "# Check if all elements are true\n",
    "print(np.all([True, False, True]))  # False\n",
    "\n",
    "# Check if any element is true\n",
    "print(np.any([True, False, False]))  # True\n"
   ]
  },
  {
   "cell_type": "code",
   "execution_count": 76,
   "id": "f07561c4-a4e9-42d6-8a2e-4e844dd242a5",
   "metadata": {},
   "outputs": [
    {
     "name": "stdout",
     "output_type": "stream",
     "text": [
      "[0.30389997 0.14332624 0.33041417]\n",
      "[7 8 3 6 6]\n",
      "3\n"
     ]
    }
   ],
   "source": [
    "# Random float in [0, 1)\n",
    "print(np.random.rand(3))  # Example: [0.12345678 0.23456789 0.3456789]\n",
    "\n",
    "# Random integers between 0 and 10\n",
    "print(np.random.randint(0, 10,5))  # Example: [1 3 7 0 9]\n",
    "\n",
    "# Random choice from an array\n",
    "print(np.random.choice([1, 2, 3, 4]))  # Example: 3\n"
   ]
  },
  {
   "cell_type": "code",
   "execution_count": 78,
   "id": "a5fdcb71-d817-44d6-883a-7a13d750041f",
   "metadata": {},
   "outputs": [
    {
     "name": "stdout",
     "output_type": "stream",
     "text": [
      "9\n"
     ]
    }
   ],
   "source": [
    "print(np.random.randint(0, 10))"
   ]
  },
  {
   "cell_type": "code",
   "execution_count": 80,
   "id": "7ac98ea5-ee2a-4f1b-93c8-06c41837790e",
   "metadata": {},
   "outputs": [
    {
     "name": "stdout",
     "output_type": "stream",
     "text": [
      "16\n"
     ]
    }
   ],
   "source": [
    "print(np.random.randint(0, 20))"
   ]
  },
  {
   "cell_type": "code",
   "execution_count": 82,
   "id": "e848e328-5145-4c7b-8666-d2c6eab0c5bc",
   "metadata": {},
   "outputs": [
    {
     "name": "stdout",
     "output_type": "stream",
     "text": [
      "3\n"
     ]
    }
   ],
   "source": [
    "#import statistics\n",
    "import statistics\n",
    "data = [1, 2, 3, 4, 5]\n",
    "print(statistics.mean(data))  # Output: 3\n"
   ]
  },
  {
   "cell_type": "code",
   "execution_count": 87,
   "id": "e1d101dc-0f60-4e7e-b577-b7ad201b28d5",
   "metadata": {},
   "outputs": [
    {
     "name": "stdout",
     "output_type": "stream",
     "text": [
      "Mean: 3\n",
      "Median: 3\n",
      "Mode: 3\n",
      "Standard Deviation: 1.5811388300841898\n",
      "Variance: 2.5\n",
      "Median Low: 2\n",
      "Median High: 3\n",
      "fmean: 3.0\n",
      "Geometric Mean: 2.6051710846973517\n",
      "Harmonic Mean: 2.18978102189781\n",
      "Population Standard Deviation: 1.4142135623730951\n",
      "Population Variance: 2\n"
     ]
    }
   ],
   "source": [
    "import statistics\n",
    "\n",
    "# Sample data\n",
    "data = [1, 2, 3, 4, 5]\n",
    "\n",
    "# Mean\n",
    "print(f\"Mean: {statistics.mean(data)}\")\n",
    "\n",
    "# Median\n",
    "print(f\"Median: {statistics.median(data)}\")\n",
    "\n",
    "# Mode\n",
    "data_mode = [1, 2, 2, 3, 3, 3, 4]\n",
    "print(f\"Mode: {statistics.mode(data_mode)}\")\n",
    "\n",
    "# Standard Deviation\n",
    "print(f\"Standard Deviation: {statistics.stdev(data)}\")\n",
    "\n",
    "# Variance\n",
    "print(f\"Variance: {statistics.variance(data)}\")\n",
    "\n",
    "# Median Low and High\n",
    "print(f\"Median Low: {statistics.median_low([1, 2, 3, 4])}\")\n",
    "print(f\"Median High: {statistics.median_high([1, 2, 3, 4])}\")\n",
    "\n",
    "# fmean (floating point mean)\n",
    "print(f\"fmean: {statistics.fmean(data)}\")\n",
    "\n",
    "# Geometric Mean\n",
    "print(f\"Geometric Mean: {statistics.geometric_mean(data)}\")\n",
    "\n",
    "# Harmonic Mean\n",
    "print(f\"Harmonic Mean: {statistics.harmonic_mean(data)}\")\n",
    "\n",
    "# Population Standard Deviation and Variance\n",
    "print(f\"Population Standard Deviation: {statistics.pstdev(data)}\")\n",
    "print(f\"Population Variance: {statistics.pvariance(data)}\")\n"
   ]
  },
  {
   "cell_type": "code",
   "execution_count": 89,
   "id": "58f58c54-a037-460a-a13a-2faef5da36dd",
   "metadata": {},
   "outputs": [
    {
     "name": "stdout",
     "output_type": "stream",
     "text": [
      "3\n"
     ]
    }
   ],
   "source": [
    "data = [1, 2, 3, 4]\n",
    "print(statistics.median_high(data))  # Output: 3\n"
   ]
  },
  {
   "cell_type": "code",
   "execution_count": null,
   "id": "cb379e1f-639f-4568-9046-e3c540138c1d",
   "metadata": {},
   "outputs": [],
   "source": []
  },
  {
   "cell_type": "code",
   "execution_count": null,
   "id": "397b7c1a-abd9-4167-9dd8-f0c4e905599a",
   "metadata": {},
   "outputs": [],
   "source": []
  }
 ],
 "metadata": {
  "kernelspec": {
   "display_name": "Python [conda env:base] *",
   "language": "python",
   "name": "conda-base-py"
  },
  "language_info": {
   "codemirror_mode": {
    "name": "ipython",
    "version": 3
   },
   "file_extension": ".py",
   "mimetype": "text/x-python",
   "name": "python",
   "nbconvert_exporter": "python",
   "pygments_lexer": "ipython3",
   "version": "3.12.7"
  }
 },
 "nbformat": 4,
 "nbformat_minor": 5
}
