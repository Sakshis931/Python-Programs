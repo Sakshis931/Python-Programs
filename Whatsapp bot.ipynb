{
 "cells": [
  {
   "cell_type": "code",
   "execution_count": 3,
   "id": "84486482-af62-46ad-bc43-cefc894ca3ac",
   "metadata": {
    "scrolled": true
   },
   "outputs": [
    {
     "name": "stdout",
     "output_type": "stream",
     "text": [
      "Requirement already satisfied: pywhatkit in /opt/anaconda3/lib/python3.12/site-packages (5.4)\n",
      "Requirement already satisfied: Pillow in /opt/anaconda3/lib/python3.12/site-packages (from pywhatkit) (10.4.0)\n",
      "Requirement already satisfied: pyautogui in /opt/anaconda3/lib/python3.12/site-packages (from pywhatkit) (0.9.54)\n",
      "Requirement already satisfied: requests in /opt/anaconda3/lib/python3.12/site-packages (from pywhatkit) (2.32.3)\n",
      "Requirement already satisfied: wikipedia in /opt/anaconda3/lib/python3.12/site-packages (from pywhatkit) (1.4.0)\n",
      "Requirement already satisfied: Flask in /opt/anaconda3/lib/python3.12/site-packages (from pywhatkit) (3.0.3)\n",
      "Requirement already satisfied: Werkzeug>=3.0.0 in /opt/anaconda3/lib/python3.12/site-packages (from Flask->pywhatkit) (3.0.3)\n",
      "Requirement already satisfied: Jinja2>=3.1.2 in /opt/anaconda3/lib/python3.12/site-packages (from Flask->pywhatkit) (3.1.4)\n",
      "Requirement already satisfied: itsdangerous>=2.1.2 in /opt/anaconda3/lib/python3.12/site-packages (from Flask->pywhatkit) (2.2.0)\n",
      "Requirement already satisfied: click>=8.1.3 in /opt/anaconda3/lib/python3.12/site-packages (from Flask->pywhatkit) (8.1.7)\n",
      "Requirement already satisfied: blinker>=1.6.2 in /opt/anaconda3/lib/python3.12/site-packages (from Flask->pywhatkit) (1.6.2)\n",
      "Requirement already satisfied: pyobjc-core in /opt/anaconda3/lib/python3.12/site-packages (from pyautogui->pywhatkit) (11.0)\n",
      "Requirement already satisfied: pyobjc-framework-quartz in /opt/anaconda3/lib/python3.12/site-packages (from pyautogui->pywhatkit) (11.0)\n",
      "Requirement already satisfied: pymsgbox in /opt/anaconda3/lib/python3.12/site-packages (from pyautogui->pywhatkit) (1.0.9)\n",
      "Requirement already satisfied: pytweening>=1.0.4 in /opt/anaconda3/lib/python3.12/site-packages (from pyautogui->pywhatkit) (1.2.0)\n",
      "Requirement already satisfied: pyscreeze>=0.1.21 in /opt/anaconda3/lib/python3.12/site-packages (from pyautogui->pywhatkit) (1.0.1)\n",
      "Requirement already satisfied: pygetwindow>=0.0.5 in /opt/anaconda3/lib/python3.12/site-packages (from pyautogui->pywhatkit) (0.0.9)\n",
      "Requirement already satisfied: mouseinfo in /opt/anaconda3/lib/python3.12/site-packages (from pyautogui->pywhatkit) (0.1.3)\n",
      "Requirement already satisfied: charset-normalizer<4,>=2 in /opt/anaconda3/lib/python3.12/site-packages (from requests->pywhatkit) (3.3.2)\n",
      "Requirement already satisfied: idna<4,>=2.5 in /opt/anaconda3/lib/python3.12/site-packages (from requests->pywhatkit) (3.7)\n",
      "Requirement already satisfied: urllib3<3,>=1.21.1 in /opt/anaconda3/lib/python3.12/site-packages (from requests->pywhatkit) (2.2.3)\n",
      "Requirement already satisfied: certifi>=2017.4.17 in /opt/anaconda3/lib/python3.12/site-packages (from requests->pywhatkit) (2025.1.31)\n",
      "Requirement already satisfied: beautifulsoup4 in /opt/anaconda3/lib/python3.12/site-packages (from wikipedia->pywhatkit) (4.12.3)\n",
      "Requirement already satisfied: MarkupSafe>=2.0 in /opt/anaconda3/lib/python3.12/site-packages (from Jinja2>=3.1.2->Flask->pywhatkit) (2.1.3)\n",
      "Requirement already satisfied: pyrect in /opt/anaconda3/lib/python3.12/site-packages (from pygetwindow>=0.0.5->pyautogui->pywhatkit) (0.2.0)\n",
      "Requirement already satisfied: soupsieve>1.2 in /opt/anaconda3/lib/python3.12/site-packages (from beautifulsoup4->wikipedia->pywhatkit) (2.5)\n",
      "Requirement already satisfied: pyperclip in /opt/anaconda3/lib/python3.12/site-packages (from mouseinfo->pyautogui->pywhatkit) (1.9.0)\n",
      "Requirement already satisfied: rubicon-objc in /opt/anaconda3/lib/python3.12/site-packages (from mouseinfo->pyautogui->pywhatkit) (0.5.0)\n",
      "Requirement already satisfied: pyobjc-framework-Cocoa>=11.0 in /opt/anaconda3/lib/python3.12/site-packages (from pyobjc-framework-quartz->pyautogui->pywhatkit) (11.0)\n"
     ]
    },
    {
     "name": "stdin",
     "output_type": "stream",
     "text": [
      "Enter Mobile No of Receiver (with country code):  +91 9319312018\n",
      "Enter Message you want to send:  hi python\n",
      "Enter hour (24-hour format):  14\n",
      "Enter minute:  52\n"
     ]
    },
    {
     "name": "stdout",
     "output_type": "stream",
     "text": [
      "In 16 Seconds WhatsApp will open and after 15 Seconds Message will be Delivered!\n"
     ]
    }
   ],
   "source": [
    "!pip install pywhatkit\n",
    "import pywhatkit\n",
    "from datetime import datetime\n",
    "import sys  # You need to import sys if you're using sys.exit()\n",
    "\n",
    "try:\n",
    "    now = datetime.now()\n",
    "\n",
    "    mobile = input('Enter Mobile No of Receiver (with country code): ')\n",
    "    message = input('Enter Message you want to send: ')\n",
    "    hour = int(input('Enter hour (24-hour format): '))\n",
    "    minute = int(input('Enter minute: '))\n",
    "\n",
    "    pywhatkit.sendwhatmsg(mobile, message, hour, minute)\n",
    "\n",
    "except Exception as e:\n",
    "    print(\"❌ Error occurred:\", e)\n",
    "    sys.exit()"
   ]
  },
  {
   "cell_type": "code",
   "execution_count": null,
   "id": "dc8f5b76-bd74-4f53-ba79-0a4920b9cbbd",
   "metadata": {},
   "outputs": [],
   "source": []
  }
 ],
 "metadata": {
  "kernelspec": {
   "display_name": "Python [conda env:base] *",
   "language": "python",
   "name": "conda-base-py"
  },
  "language_info": {
   "codemirror_mode": {
    "name": "ipython",
    "version": 3
   },
   "file_extension": ".py",
   "mimetype": "text/x-python",
   "name": "python",
   "nbconvert_exporter": "python",
   "pygments_lexer": "ipython3",
   "version": "3.12.7"
  }
 },
 "nbformat": 4,
 "nbformat_minor": 5
}
