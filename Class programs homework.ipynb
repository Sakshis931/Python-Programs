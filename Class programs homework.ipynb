{
 "cells": [
  {
   "cell_type": "code",
   "execution_count": 5,
   "id": "7ce89d18-6ca5-4aca-8156-387335ade48e",
   "metadata": {},
   "outputs": [
    {
     "name": "stdout",
     "output_type": "stream",
     "text": [
      "[2, 3, 3234, 5, 6, 2, 4, 24, 35, 34, 78, 9, 88, 97, 65, 44, 23, 22, 23, 45, 2, 2323, 545]\n"
     ]
    }
   ],
   "source": [
    "#create a jupiter notebook as list method contains all list methods with examples\n",
    "l=[2,3,4,5,6,2,4,24,35,34,78,9,0,88,97,65,44,23,22,23,45]\n",
    "l.append(2)\n",
    "l\n"
   ]
  },
  {
   "cell_type": "code",
   "execution_count": null,
   "id": "dc25e79d-dfdc-48c2-8bef-f9ac3b5837cf",
   "metadata": {},
   "outputs": [],
   "source": [
    "l.insert(3,3234)\n",
    "l\n",
    "l.extend([2323,545,6465])\n",
    "l\n",
    "l.pop()\n",
    "l\n",
    "l.pop(2)\n",
    "l\n",
    "l.remove(0)\n",
    "print(l)\n",
    "   "
   ]
  }
 ],
 "metadata": {
  "kernelspec": {
   "display_name": "Python [conda env:base] *",
   "language": "python",
   "name": "conda-base-py"
  },
  "language_info": {
   "codemirror_mode": {
    "name": "ipython",
    "version": 3
   },
   "file_extension": ".py",
   "mimetype": "text/x-python",
   "name": "python",
   "nbconvert_exporter": "python",
   "pygments_lexer": "ipython3",
   "version": "3.12.7"
  }
 },
 "nbformat": 4,
 "nbformat_minor": 5
}
