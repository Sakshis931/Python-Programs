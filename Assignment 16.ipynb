{
 "cells": [
  {
   "cell_type": "code",
   "execution_count": 13,
   "id": "f1119d23-5a82-4a44-95b3-02c7d261b707",
   "metadata": {},
   "outputs": [
    {
     "name": "stdout",
     "output_type": "stream",
     "text": [
      "Random number: 3\n"
     ]
    }
   ],
   "source": [
    "import random\n",
    "print(f\"Random number: {random.randint(1, 100)}\")       #importance of f"
   ]
  },
  {
   "cell_type": "code",
   "execution_count": 15,
   "id": "41bda763-2c21-4a19-b303-a1ff30697e96",
   "metadata": {},
   "outputs": [
    {
     "name": "stdin",
     "output_type": "stream",
     "text": [
      "Enter the kms 23\n"
     ]
    },
    {
     "name": "stdout",
     "output_type": "stream",
     "text": [
      "KILOMETERES IN METRES ARE 23 IS 23000 \n"
     ]
    }
   ],
   "source": [
    "#Write a Python program to convert kilometers to metres\n",
    "km=int(input(\"Enter the kms\"))\n",
    "convert=km*1000\n",
    "print(f\"KILOMETERES IN METRES ARE {km} IS {convert} \")\n"
   ]
  },
  {
   "cell_type": "code",
   "execution_count": 17,
   "id": "d070fcdb-4138-4523-8ba4-ea739467ad19",
   "metadata": {},
   "outputs": [
    {
     "name": "stdin",
     "output_type": "stream",
     "text": [
      "enter celcius 43\n"
     ]
    },
    {
     "name": "stdout",
     "output_type": "stream",
     "text": [
      "celcius to fahrenheit 109.4\n"
     ]
    }
   ],
   "source": [
    "#Write a Python program to convert Celsius to Fahrenheit\n",
    "c=float(input(\"enter celcius\"))\n",
    "f=(c*9/5)+32\n",
    "print(f\"celcius to fahrenheit {f}\")"
   ]
  },
  {
   "cell_type": "code",
   "execution_count": 19,
   "id": "b6a16a95-1aed-45a3-a4a8-e3b0c234cf0e",
   "metadata": {},
   "outputs": [
    {
     "name": "stdin",
     "output_type": "stream",
     "text": [
      "enter year\n",
      " 2022\n",
      "enter months\n",
      " 3\n"
     ]
    },
    {
     "name": "stdout",
     "output_type": "stream",
     "text": [
      "     March 2022\n",
      "Mo Tu We Th Fr Sa Su\n",
      "    1  2  3  4  5  6\n",
      " 7  8  9 10 11 12 13\n",
      "14 15 16 17 18 19 20\n",
      "21 22 23 24 25 26 27\n",
      "28 29 30 31\n",
      "\n"
     ]
    }
   ],
   "source": [
    "#Write a Python program to display calendar.\n",
    "import calendar\n",
    "year=int(input(\"enter year\\n\"))\n",
    "month=int(input(\"enter months\\n\"))\n",
    "cal=calendar.month(year,month)\n",
    "print(cal)"
   ]
  },
  {
   "cell_type": "code",
   "execution_count": 23,
   "id": "c467a409-517c-4b6b-bed5-a605d97dade7",
   "metadata": {},
   "outputs": [
    {
     "name": "stdin",
     "output_type": "stream",
     "text": [
      "enter no 2\n",
      "enter no 4\n"
     ]
    },
    {
     "name": "stdout",
     "output_type": "stream",
     "text": [
      "4 value is 2 now\n"
     ]
    }
   ],
   "source": [
    "#Write a Python program to swap two variables without temp variable.\n",
    "a=int(input(\"enter no\"))\n",
    "b=int(input(\"enter no\"))\n",
    "temp=0\n",
    "temp=a\n",
    "a=b\n",
    "b=temp\n",
    "print(f\"{a} value is {b} now\")"
   ]
  },
  {
   "cell_type": "code",
   "execution_count": 25,
   "id": "cc2bcfc9-1b11-41da-97f0-3bd89c057d1b",
   "metadata": {},
   "outputs": [
    {
     "name": "stdin",
     "output_type": "stream",
     "text": [
      "enter no 4\n"
     ]
    },
    {
     "name": "stdout",
     "output_type": "stream",
     "text": [
      "a is positive\n"
     ]
    }
   ],
   "source": [
    "#Write a Python Program to Check if a Number is Positive, Negative or Zero.\n",
    "a=int(input(\"enter no\"))\n",
    "if(a<1):\n",
    "    print(\"a is neg\")\n",
    "elif(a>1):\n",
    "    print(\"a is positive\")\n",
    "else:\n",
    "    print(\"a is 0\")"
   ]
  },
  {
   "cell_type": "code",
   "execution_count": 27,
   "id": "4e7aba2e-c096-4c84-92f5-5d16743bb0b8",
   "metadata": {},
   "outputs": [
    {
     "name": "stdin",
     "output_type": "stream",
     "text": [
      "Enter a year:  2000\n"
     ]
    },
    {
     "name": "stdout",
     "output_type": "stream",
     "text": [
      "2000 is leap\n"
     ]
    }
   ],
   "source": [
    "#Write a Python Program to Check Leap Year\n",
    "year = int(input(\"Enter a year: \"))\n",
    "if(year%400==0 and year%100==0):\n",
    "    print(f\"{year} is leap\")\n",
    "elif(year%4==0 and year%100!=0):\n",
    "    print(f\"{year} is leap year\")\n",
    "else:\n",
    "    print(f\"{year} not a leap year\")"
   ]
  },
  {
   "cell_type": "code",
   "execution_count": 29,
   "id": "ee1b2815-19b8-4106-9915-a92e497b5e06",
   "metadata": {},
   "outputs": [
    {
     "name": "stdin",
     "output_type": "stream",
     "text": [
      "enter no 5\n"
     ]
    },
    {
     "name": "stdout",
     "output_type": "stream",
     "text": [
      "not prime\n"
     ]
    }
   ],
   "source": [
    "#prime number\n",
    "num=int(input(\"enter no\"))\n",
    "if num>1:\n",
    "    for i in range(1,11):\n",
    "        if(num%i==0):\n",
    "            print(\"not prime\")\n",
    "            break\n",
    "        else:\n",
    "            print(\"prime\")\n",
    " "
   ]
  },
  {
   "cell_type": "code",
   "execution_count": 31,
   "id": "3513c203-3f05-4036-bab5-7da393d855d4",
   "metadata": {},
   "outputs": [
    {
     "name": "stdin",
     "output_type": "stream",
     "text": [
      "enter no 5\n"
     ]
    },
    {
     "name": "stdout",
     "output_type": "stream",
     "text": [
      "1\n",
      "2\n",
      "6\n",
      "24\n",
      "120\n",
      "this will be 1 line output because it is out of for loop:- 120\n"
     ]
    }
   ],
   "source": [
    "#Write a Python Program to Find the Factorial of a Number.\n",
    "#5=5*4*3*2*1\n",
    "num=int(input(\"enter no\"))\n",
    "if(num==0 and num==1):\n",
    "    print(\"factorials is 1\")\n",
    "else:\n",
    "    f=1\n",
    "    for i in range(1,num+1):\n",
    "        f=f*i\n",
    "        i=i+1\n",
    "        print(f)\n",
    "print(f\"this will be 1 line output because it is out of for loop:- {f}\")"
   ]
  },
  {
   "cell_type": "code",
   "execution_count": 33,
   "id": "2a368330-4af5-46ea-b228-4a1efc752209",
   "metadata": {},
   "outputs": [
    {
     "name": "stdin",
     "output_type": "stream",
     "text": [
      "enter no 6\n"
     ]
    },
    {
     "name": "stdout",
     "output_type": "stream",
     "text": [
      "6 * 2 =6\n",
      "6 * 3 =12\n",
      "6 * 4 =18\n",
      "6 * 5 =24\n",
      "6 * 6 =30\n",
      "6 * 7 =36\n",
      "6 * 8 =42\n",
      "6 * 9 =48\n",
      "6 * 10 =54\n",
      "6 * 11 =60\n"
     ]
    }
   ],
   "source": [
    "#Write a Python Program to Display the multiplication Table\n",
    "num=int(input(\"enter no\"))\n",
    "for i in range(1,11):\n",
    "    table=num*i\n",
    "    i=i+1\n",
    "    print(f\"{num} * {i} ={table}\")"
   ]
  },
  {
   "cell_type": "code",
   "execution_count": 35,
   "id": "960dde41-6385-445e-a296-f30467615ef3",
   "metadata": {},
   "outputs": [
    {
     "name": "stdin",
     "output_type": "stream",
     "text": [
      "enter no 5\n"
     ]
    },
    {
     "name": "stdout",
     "output_type": "stream",
     "text": [
      "15\n"
     ]
    }
   ],
   "source": [
    "#Write a Python Program to Find the Sum of Natural Numbers\n",
    "n=int(input(\"enter no\"))\n",
    "s=0\n",
    "for i in range(1,n+1):\n",
    "    s=s+i\n",
    "    i=i+1\n",
    "print(s)\n",
    "    \n"
   ]
  },
  {
   "cell_type": "code",
   "execution_count": 64,
   "id": "599634a5-7f1b-45a5-bfaa-188067db0c18",
   "metadata": {},
   "outputs": [
    {
     "name": "stdin",
     "output_type": "stream",
     "text": [
      "Enter first number:  2\n",
      "Enter first number:  3\n"
     ]
    },
    {
     "name": "stdout",
     "output_type": "stream",
     "text": [
      "6\n"
     ]
    }
   ],
   "source": [
    "# Python program to find LCM of two numbers\n",
    "def lcm(a,b):\n",
    "    if a>b:\n",
    "        g=a\n",
    "    else:\n",
    "        g=b\n",
    "    while True:\n",
    "        if(g%a==0 and g%b==0):\n",
    "            lcm=g\n",
    "            break\n",
    "        g+=1\n",
    "    return lcm\n",
    "x=int(input(\"Enter first number: \"))\n",
    "y=int(input(\"Enter first number: \"))\n",
    "m=lcm(x,y)\n",
    "print(m)"
   ]
  },
  {
   "cell_type": "code",
   "execution_count": 72,
   "id": "1ad51cd7-3db6-4caf-ba3b-62c3dba7c583",
   "metadata": {},
   "outputs": [
    {
     "name": "stdin",
     "output_type": "stream",
     "text": [
      "Enter first number:  3\n",
      "Enter first number:  12\n"
     ]
    },
    {
     "name": "stdout",
     "output_type": "stream",
     "text": [
      "3\n"
     ]
    }
   ],
   "source": [
    "#Write a Python Program to Find HCF.\n",
    "import math\n",
    "x=int(input(\"Enter first number: \"))\n",
    "y=int(input(\"Enter first number: \"))\n",
    "print(math.gcd(x,y))"
   ]
  },
  {
   "cell_type": "code",
   "execution_count": 43,
   "id": "f26b16dd-b68e-4f88-8126-9db146d616a3",
   "metadata": {},
   "outputs": [
    {
     "name": "stdin",
     "output_type": "stream",
     "text": [
      "enter number a\n"
     ]
    },
    {
     "name": "stdout",
     "output_type": "stream",
     "text": [
      "Ascii is :- 65\n"
     ]
    }
   ],
   "source": [
    "#Write a Python Program To Find ASCII value of a character.\n",
    "c=str(input(\"enter number\")).upper()\n",
    "print(\"Ascii is :-\" , ord(c))"
   ]
  },
  {
   "cell_type": "code",
   "execution_count": 45,
   "id": "09d48c71-4494-4e82-89bd-67da099c2248",
   "metadata": {},
   "outputs": [
    {
     "name": "stdin",
     "output_type": "stream",
     "text": [
      "enter no 5\n",
      "enter no 4\n"
     ]
    },
    {
     "name": "stdout",
     "output_type": "stream",
     "text": [
      "9\n",
      "1\n",
      "20\n",
      "1.25\n"
     ]
    }
   ],
   "source": [
    "#Write a Python Program to Make a Simple Calculator with 4 basic mathematical operations.\n",
    "a=int(input(\"enter no\"))\n",
    "b=int(input(\"enter no\"))\n",
    "s=a+b\n",
    "if a>b:\n",
    "    sub=a-b\n",
    "else:\n",
    "    sub=b-a\n",
    "mul=a*b\n",
    "if a>b:\n",
    "    div=a/b\n",
    "else:\n",
    "    div=b/a\n",
    "print(s)\n",
    "print(sub)\n",
    "print(mul)\n",
    "print(div)"
   ]
  },
  {
   "cell_type": "code",
   "execution_count": 47,
   "id": "e53c92fe-630e-4f86-996a-a23b4fbc7eed",
   "metadata": {},
   "outputs": [],
   "source": [
    "#Write a Python Program to Display Fibonacci Sequence Using Recursion"
   ]
  },
  {
   "cell_type": "code",
   "execution_count": 51,
   "id": "c1039614-c788-494d-8094-b39d4e423a51",
   "metadata": {},
   "outputs": [
    {
     "name": "stdin",
     "output_type": "stream",
     "text": [
      "Enter the number:  5\n"
     ]
    },
    {
     "name": "stdout",
     "output_type": "stream",
     "text": [
      "120\n"
     ]
    }
   ],
   "source": [
    "# Factorial of a number using recursion\n",
    "def fact(n):\n",
    "    if n==1:\n",
    "        return n\n",
    "    else:\n",
    "        return n*fact(n-1)\n",
    "num=int(input(\"Enter the number: \"))\n",
    "g=fact(num)\n",
    "print(g)\n",
    "       \n"
   ]
  },
  {
   "cell_type": "code",
   "execution_count": 53,
   "id": "aabf33a6-0f73-47d1-b173-ff870218f2d1",
   "metadata": {},
   "outputs": [
    {
     "name": "stdin",
     "output_type": "stream",
     "text": [
      "enter number 1\n"
     ]
    },
    {
     "name": "stdout",
     "output_type": "stream",
     "text": [
      "0.0\n"
     ]
    }
   ],
   "source": [
    "#Write a Python Program to calculate the natural logarithm of any number\n",
    "import math\n",
    "n=float(input(\"enter number\"))\n",
    "if(n<=0):\n",
    "    print(\"no log\")\n",
    "else:\n",
    "    m=math.log(n)\n",
    "    print(m)"
   ]
  },
  {
   "cell_type": "code",
   "execution_count": 55,
   "id": "df0e8a0b-32bf-423e-8ff2-c67bd6fabc6a",
   "metadata": {},
   "outputs": [
    {
     "name": "stdout",
     "output_type": "stream",
     "text": [
      "6\n"
     ]
    }
   ],
   "source": [
    "#Write a Python Program to find sum of array.\n",
    "list=[1,2,3]\n",
    "s=sum(list)\n",
    "print(s)"
   ]
  },
  {
   "cell_type": "code",
   "execution_count": 57,
   "id": "a39978f3-2e04-4f15-b657-ce0aa33e03aa",
   "metadata": {},
   "outputs": [
    {
     "name": "stdout",
     "output_type": "stream",
     "text": [
      "Sum of the array is  6\n"
     ]
    }
   ],
   "source": [
    "# Finding Sum of Array Using sum()\n",
    "arr = [1,2,3]\n",
    "ans = sum(arr)\n",
    "print('Sum of the array is ', ans)\n"
   ]
  },
  {
   "cell_type": "code",
   "execution_count": 76,
   "id": "d9527f27-4072-4839-b2bd-3be9ea7e4c25",
   "metadata": {},
   "outputs": [
    {
     "name": "stdin",
     "output_type": "stream",
     "text": [
      "Enter a string:  e w r f \n"
     ]
    },
    {
     "name": "stdout",
     "output_type": "stream",
     "text": [
      "The sorted words are:\n",
      "E\n",
      "F\n",
      "R\n",
      "W\n"
     ]
    }
   ],
   "source": [
    "#Write a Python Program to Sort Words in Alphabetic Order.\n",
    "\n",
    "# Program to sort alphabetically the words form a string provided by th\n",
    "my_str = input(\"Enter a string: \")\n",
    "# breakdown the string into a list of words\n",
    "words = [word.capitalize() for word in my_str.split()]\n",
    "# sort the list\n",
    "words.sort()\n",
    "# display the sorted words\n",
    "print(\"The sorted words are:\")\n",
    "for word in words:\n",
    " print(word)"
   ]
  },
  {
   "cell_type": "code",
   "execution_count": null,
   "id": "807d6b43-5cc7-49a7-8aad-de14d292fc75",
   "metadata": {},
   "outputs": [],
   "source": []
  }
 ],
 "metadata": {
  "kernelspec": {
   "display_name": "Python [conda env:base] *",
   "language": "python",
   "name": "conda-base-py"
  },
  "language_info": {
   "codemirror_mode": {
    "name": "ipython",
    "version": 3
   },
   "file_extension": ".py",
   "mimetype": "text/x-python",
   "name": "python",
   "nbconvert_exporter": "python",
   "pygments_lexer": "ipython3",
   "version": "3.12.7"
  }
 },
 "nbformat": 4,
 "nbformat_minor": 5
}
