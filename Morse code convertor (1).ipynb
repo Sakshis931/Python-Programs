{
 "cells": [
  {
   "cell_type": "code",
   "execution_count": 1,
   "id": "40f19f8b-30c9-4ea1-8508-d2a3d6e411ea",
   "metadata": {},
   "outputs": [
    {
     "name": "stdin",
     "output_type": "stream",
     "text": [
      "type:  sakshi\n"
     ]
    },
    {
     "name": "stdout",
     "output_type": "stream",
     "text": [
      " ... .- -.- ... .... ..\n"
     ]
    }
   ],
   "source": [
    "#all_the symbols\n",
    "symbols = {\n",
    "    \"a\": \".-\",\n",
    "    \"b\": \"-...\",\n",
    "    \"c\": \"-.-.\",\n",
    "    \"d\": \"-..\",\n",
    "    \"e\": \".\",\n",
    "    \"f\": \"..-.\",\n",
    "    \"g\": \".-\",\n",
    "    \"h\": \"....\",\n",
    "    \"i\": \"..\",\n",
    "    \"j\": \".---\",\n",
    "    \"k\": \"-.-\",\n",
    "    \"l\": \".-..\",\n",
    "    \"m\": \"--\",\n",
    "    \"n\": \"-.\",\n",
    "    \"o\": \"---\",\n",
    "    \"p\": \".--.\",\n",
    "    \"q\": \"--.-\",\n",
    "    \"r\": \".-.\",\n",
    "    \"s\": \"...\",\n",
    "    \"t\": \"-\",\n",
    "    \"u\": \"..-\",\n",
    "    \"v\": \"...-\",\n",
    "    \"w\": \".--\",\n",
    "    \"x\": \"-..-\",\n",
    "    \"y\": \"-.--\",\n",
    "    \"z\": \"--..\",\n",
    "}\n",
    "\n",
    "#the user has to tyoe a word\n",
    "ask = input(\"type: \")\n",
    "\n",
    "\n",
    "length = len(ask)\n",
    "output = \"\"\n",
    "\n",
    "for i in range(length):\n",
    "    if ask[i] in symbols.keys():\n",
    "        output = output + \" \" + symbols.get(ask[i])\n",
    "\n",
    "print(output)   \n"
   ]
  },
  {
   "cell_type": "code",
   "execution_count": null,
   "id": "6fe201b7-8ca1-4dab-afaa-55bc53ad4783",
   "metadata": {},
   "outputs": [],
   "source": []
  }
 ],
 "metadata": {
  "kernelspec": {
   "display_name": "Python [conda env:base] *",
   "language": "python",
   "name": "conda-base-py"
  },
  "language_info": {
   "codemirror_mode": {
    "name": "ipython",
    "version": 3
   },
   "file_extension": ".py",
   "mimetype": "text/x-python",
   "name": "python",
   "nbconvert_exporter": "python",
   "pygments_lexer": "ipython3",
   "version": "3.12.7"
  }
 },
 "nbformat": 4,
 "nbformat_minor": 5
}
