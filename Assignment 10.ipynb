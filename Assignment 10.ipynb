{
 "cells": [
  {
   "cell_type": "code",
   "execution_count": 4,
   "id": "58087d69-d73c-4ed9-b6e3-c1abfbc030d4",
   "metadata": {},
   "outputs": [
    {
     "data": {
      "text/plain": [
       "'wet'"
      ]
     },
     "execution_count": 4,
     "metadata": {},
     "output_type": "execute_result"
    }
   ],
   "source": [
    "#lower() Converts to lowercase\n",
    "a=\"cat is\"\n",
    "b=\"WET\"\n",
    "m=b.lower()\n",
    "m"
   ]
  },
  {
   "cell_type": "code",
   "execution_count": 20,
   "id": "740cab33-1544-4d5a-a7de-60dbe384fed5",
   "metadata": {},
   "outputs": [
    {
     "data": {
      "text/plain": [
       "'WET'"
      ]
     },
     "execution_count": 20,
     "metadata": {},
     "output_type": "execute_result"
    }
   ],
   "source": [
    "#lstrip()\n",
    "a=\"cat is\"\n",
    "b=\"    WET\"\n",
    "m=b.lstrip()\n",
    "m"
   ]
  },
  {
   "cell_type": "code",
   "execution_count": 24,
   "id": "65a0d236-5070-4db4-abf6-af9ac7f1ea40",
   "metadata": {},
   "outputs": [
    {
     "data": {
      "text/plain": [
       "'WET'"
      ]
     },
     "execution_count": 24,
     "metadata": {},
     "output_type": "execute_result"
    }
   ],
   "source": [
    "#lstrip()\n",
    "a=\"cat is\"\n",
    "b=\"  **  WET\"\n",
    "m=b.lstrip(\"* \")\n",
    "m"
   ]
  },
  {
   "cell_type": "code",
   "execution_count": 32,
   "id": "485aa532-e3f0-43c6-9d65-9b7ac6462ee6",
   "metadata": {},
   "outputs": [
    {
     "data": {
      "text/plain": [
       "('cat', ' ', 'is')"
      ]
     },
     "execution_count": 32,
     "metadata": {},
     "output_type": "execute_result"
    }
   ],
   "source": [
    "#partition(sep)\n",
    "a=\"cat is\"\n",
    "b=\"WET\"\n",
    "m=a.partition(\" \")\n",
    "m"
   ]
  },
  {
   "cell_type": "code",
   "execution_count": 34,
   "id": "1b4b92b3-4993-4f5e-81cc-56cc4b799169",
   "metadata": {},
   "outputs": [
    {
     "data": {
      "text/plain": [
       "('WET', ' ', '')"
      ]
     },
     "execution_count": 34,
     "metadata": {},
     "output_type": "execute_result"
    }
   ],
   "source": [
    "#partition(sep)\n",
    "a=\"cat is\"\n",
    "b=\"WET \"\n",
    "m=b.partition(\" \")\n",
    "m"
   ]
  },
  {
   "cell_type": "code",
   "execution_count": 38,
   "id": "ac3d7ef5-760f-4a6d-ae50-058d00a031bf",
   "metadata": {},
   "outputs": [
    {
     "data": {
      "text/plain": [
       "'cat are'"
      ]
     },
     "execution_count": 38,
     "metadata": {},
     "output_type": "execute_result"
    }
   ],
   "source": [
    "#replace(old, new)\n",
    "a=\"cat is\"\n",
    "b=\"WET \"\n",
    "m=a.replace(\"is\",\"are\")\n",
    "m"
   ]
  },
  {
   "cell_type": "code",
   "execution_count": 48,
   "id": "e8707ee9-72dc-410d-babd-5d3b881833b3",
   "metadata": {},
   "outputs": [
    {
     "data": {
      "text/plain": [
       "7"
      ]
     },
     "execution_count": 48,
     "metadata": {},
     "output_type": "execute_result"
    }
   ],
   "source": [
    "#rfind(sub) Finds last occurrence\n",
    "a=\"cat is i s\"\n",
    "b=\"WET \"\n",
    "m=a.rfind(\"i\")\n",
    "m"
   ]
  },
  {
   "cell_type": "code",
   "execution_count": 46,
   "id": "c8dcd54f-bbc8-458f-b721-f9710f7ae381",
   "metadata": {},
   "outputs": [
    {
     "data": {
      "text/plain": [
       "7"
      ]
     },
     "execution_count": 46,
     "metadata": {},
     "output_type": "execute_result"
    }
   ],
   "source": [
    "#rindex(sub) Like rfind(), but raises error if not found\n",
    "a=\"cat is s i\"\n",
    "b=\"WET \"\n",
    "m=a.rindex(\"s\")\n",
    "m"
   ]
  },
  {
   "cell_type": "code",
   "execution_count": 62,
   "id": "908c927c-146b-4c75-89d7-a804562cc776",
   "metadata": {},
   "outputs": [
    {
     "data": {
      "text/plain": [
       "'                 cat is s i                '"
      ]
     },
     "execution_count": 62,
     "metadata": {},
     "output_type": "execute_result"
    }
   ],
   "source": [
    "#rjust(width) Right-justifies string\n",
    "a=\"                 cat is s i                \"\n",
    "b=\"WET \"\n",
    "m=a.rjust(5)\n",
    "m"
   ]
  },
  {
   "cell_type": "code",
   "execution_count": 67,
   "id": "d8d73391-d52f-4b6d-8f54-04f1b7e0fce4",
   "metadata": {},
   "outputs": [
    {
     "data": {
      "text/plain": [
       "'       cat'"
      ]
     },
     "execution_count": 67,
     "metadata": {},
     "output_type": "execute_result"
    }
   ],
   "source": [
    "#rjust(width) Right-justifies string\n",
    "a=\"cat\"\n",
    "b=\"WET \"\n",
    "m=a.rjust(10)\n",
    "m"
   ]
  },
  {
   "cell_type": "code",
   "execution_count": 73,
   "id": "1d536ceb-8469-4ab8-b765-0326721de159",
   "metadata": {},
   "outputs": [
    {
     "data": {
      "text/plain": [
       "'cat'"
      ]
     },
     "execution_count": 73,
     "metadata": {},
     "output_type": "execute_result"
    }
   ],
   "source": [
    "#rstrip() Strips trailing spaces\n",
    "a=\"cat          \"\n",
    "b=\"WET \"\n",
    "m=a.rstrip()\n",
    "m"
   ]
  },
  {
   "cell_type": "code",
   "execution_count": 77,
   "id": "0a88e955-f6b8-4caf-aac6-d2e956184892",
   "metadata": {},
   "outputs": [
    {
     "data": {
      "text/plain": [
       "['cat', 'is', 'a', 'animal']"
      ]
     },
     "execution_count": 77,
     "metadata": {},
     "output_type": "execute_result"
    }
   ],
   "source": [
    "#split(sep) Splits string\n",
    "a=\"cat is a animal      \"\n",
    "b=\"WET \"\n",
    "m=a.split()\n",
    "m"
   ]
  },
  {
   "cell_type": "code",
   "execution_count": 83,
   "id": "e552547a-7ba3-4381-8f14-eea8fa5b9c67",
   "metadata": {},
   "outputs": [
    {
     "data": {
      "text/plain": [
       "['cat is a animal']"
      ]
     },
     "execution_count": 83,
     "metadata": {},
     "output_type": "execute_result"
    }
   ],
   "source": [
    "#splitlines() Splits on line breaks\n",
    "a=\"cat is a animal\"\n",
    "b=\"WET \"\n",
    "m=a.splitlines(2)\n",
    "m"
   ]
  },
  {
   "cell_type": "code",
   "execution_count": 95,
   "id": "26cca1a4-ab82-4b3c-b948-559ab51c052e",
   "metadata": {},
   "outputs": [
    {
     "data": {
      "text/plain": [
       "['cat is a animal', 'animals are cute']"
      ]
     },
     "execution_count": 95,
     "metadata": {},
     "output_type": "execute_result"
    }
   ],
   "source": [
    "#splitlines() Splits on line breaks\n",
    "a=\"cat is a animal\\nanimals are cute\"\n",
    "b=\"WET \"\n",
    "m=a.splitlines()\n",
    "m"
   ]
  },
  {
   "cell_type": "code",
   "execution_count": 97,
   "id": "24eed685-0721-45fc-a3f0-8ce14211db61",
   "metadata": {},
   "outputs": [
    {
     "data": {
      "text/plain": [
       "True"
      ]
     },
     "execution_count": 97,
     "metadata": {},
     "output_type": "execute_result"
    }
   ],
   "source": [
    "#startswith(prefix) Checks if string starts with prefix\n",
    "a=\"cat is a animal\"\n",
    "b=\"WET \"\n",
    "m=a.startswith(\"c\")\n",
    "m"
   ]
  },
  {
   "cell_type": "code",
   "execution_count": 99,
   "id": "b4a54790-4786-4ddf-b0f3-c165a3c38915",
   "metadata": {},
   "outputs": [
    {
     "data": {
      "text/plain": [
       "False"
      ]
     },
     "execution_count": 99,
     "metadata": {},
     "output_type": "execute_result"
    }
   ],
   "source": [
    "#startswith(prefix) Checks if string starts with prefix\n",
    "a=\"cat is a animal\"\n",
    "b=\"WET \"\n",
    "m=a.startswith(\"m\")\n",
    "m"
   ]
  },
  {
   "cell_type": "code",
   "execution_count": 101,
   "id": "cf379ed4-96c2-4b2f-a841-dbf540f0b338",
   "metadata": {},
   "outputs": [
    {
     "data": {
      "text/plain": [
       "False"
      ]
     },
     "execution_count": 101,
     "metadata": {},
     "output_type": "execute_result"
    }
   ],
   "source": [
    "#startswith(prefix) Checks if string starts with prefix\n",
    "a=\"    cat is a animal\"\n",
    "b=\"WET \"\n",
    "m=a.startswith(\"c\")      #starts with space\n",
    "m"
   ]
  },
  {
   "cell_type": "code",
   "execution_count": 111,
   "id": "210f9686-0301-4b98-bd85-3713a0fb6ca2",
   "metadata": {},
   "outputs": [
    {
     "data": {
      "text/plain": [
       "'cat is a animal       */'"
      ]
     },
     "execution_count": 111,
     "metadata": {},
     "output_type": "execute_result"
    }
   ],
   "source": [
    "#strip() Removes leading/trailing whitespace\n",
    "a=\"    cat is a animal       */\"\n",
    "b=\"WET \"\n",
    "m=a.strip(\"* \")\n",
    "m"
   ]
  },
  {
   "cell_type": "code",
   "execution_count": 113,
   "id": "b5889460-b52f-4a77-9e94-afe224f41b57",
   "metadata": {},
   "outputs": [
    {
     "data": {
      "text/plain": [
       "'cat is a animal       */'"
      ]
     },
     "execution_count": 113,
     "metadata": {},
     "output_type": "execute_result"
    }
   ],
   "source": [
    "#strip() Removes leading/trailing whitespace\n",
    "a=\"  **  cat is a animal       */\"\n",
    "b=\"WET \"\n",
    "m=a.strip(\"* \")        #works on right\n",
    "m"
   ]
  },
  {
   "cell_type": "code",
   "execution_count": 115,
   "id": "d291076d-d3fb-45b9-a49f-222f27fc71df",
   "metadata": {},
   "outputs": [
    {
     "data": {
      "text/plain": [
       "'CAT IS A ANIMAL'"
      ]
     },
     "execution_count": 115,
     "metadata": {},
     "output_type": "execute_result"
    }
   ],
   "source": [
    "#swapcase() Swaps case of all letters\n",
    "a=\"cat is a animal\"\n",
    "b=\"WET \"\n",
    "m=a.swapcase()\n",
    "m"
   ]
  },
  {
   "cell_type": "code",
   "execution_count": 117,
   "id": "1bdba32f-821d-44bc-b89f-e9a4a21488fa",
   "metadata": {},
   "outputs": [
    {
     "data": {
      "text/plain": [
       "'Cat Is A Animal'"
      ]
     },
     "execution_count": 117,
     "metadata": {},
     "output_type": "execute_result"
    }
   ],
   "source": [
    "#title() Converts to title case\n",
    "a=\"cat is a animal\"\n",
    "b=\"WET \"\n",
    "m=a.title()\n",
    "m"
   ]
  },
  {
   "cell_type": "code",
   "execution_count": 127,
   "id": "67d74855-7d64-4fc4-81d9-e4df0258f142",
   "metadata": {},
   "outputs": [
    {
     "data": {
      "text/plain": [
       "'0000000000000000000000000000000000000000000000000000000000000000000000000000000000000cat is a animal'"
      ]
     },
     "execution_count": 127,
     "metadata": {},
     "output_type": "execute_result"
    }
   ],
   "source": [
    "#zfill(width) Pads string with zeros from left\n",
    "a=\"cat is a animal\"\n",
    "b=\"WET \"\n",
    "m=a.zfill(100)\n",
    "m"
   ]
  },
  {
   "cell_type": "code",
   "execution_count": 131,
   "id": "fd98e8b3-cf55-4a6a-b7df-47c2484e3727",
   "metadata": {},
   "outputs": [
    {
     "ename": "TypeError",
     "evalue": "str.translate() takes exactly one argument (0 given)",
     "output_type": "error",
     "traceback": [
      "\u001b[0;31m---------------------------------------------------------------------------\u001b[0m",
      "\u001b[0;31mTypeError\u001b[0m                                 Traceback (most recent call last)",
      "Cell \u001b[0;32mIn[131], line 4\u001b[0m\n\u001b[1;32m      2\u001b[0m a\u001b[38;5;241m=\u001b[39m\u001b[38;5;124m\"\u001b[39m\u001b[38;5;124mcat is a animal\u001b[39m\u001b[38;5;124m\"\u001b[39m\n\u001b[1;32m      3\u001b[0m b\u001b[38;5;241m=\u001b[39m\u001b[38;5;124m\"\u001b[39m\u001b[38;5;124mWET \u001b[39m\u001b[38;5;124m\"\u001b[39m\n\u001b[0;32m----> 4\u001b[0m m\u001b[38;5;241m=\u001b[39ma\u001b[38;5;241m.\u001b[39mtranslate()\n\u001b[1;32m      5\u001b[0m m\n",
      "\u001b[0;31mTypeError\u001b[0m: str.translate() takes exactly one argument (0 given)"
     ]
    }
   ],
   "source": [
    "#translate(table) Translates using a table\n",
    "a=\"cat is a animal\"\n",
    "b=\"WET \"\n",
    "m=a.translate()\n",
    "m"
   ]
  },
  {
   "cell_type": "code",
   "execution_count": null,
   "id": "651c5ec8-f25f-46cb-888a-4fa15f06ddb7",
   "metadata": {},
   "outputs": [],
   "source": []
  }
 ],
 "metadata": {
  "kernelspec": {
   "display_name": "Python [conda env:base] *",
   "language": "python",
   "name": "conda-base-py"
  },
  "language_info": {
   "codemirror_mode": {
    "name": "ipython",
    "version": 3
   },
   "file_extension": ".py",
   "mimetype": "text/x-python",
   "name": "python",
   "nbconvert_exporter": "python",
   "pygments_lexer": "ipython3",
   "version": "3.12.7"
  }
 },
 "nbformat": 4,
 "nbformat_minor": 5
}
