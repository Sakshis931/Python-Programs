{
 "cells": [
  {
   "cell_type": "code",
   "execution_count": 1,
   "id": "30c9bc30-0379-4711-94da-ff086cd6c88c",
   "metadata": {},
   "outputs": [],
   "source": [
    "a={1,2,3,4,5}"
   ]
  },
  {
   "cell_type": "code",
   "execution_count": 3,
   "id": "7e93ebc6-eeef-4e27-a9f3-6b9302680901",
   "metadata": {},
   "outputs": [],
   "source": [
    "b={4,5,6,7,8}"
   ]
  },
  {
   "cell_type": "code",
   "execution_count": 5,
   "id": "b979d1e5-5577-4a33-b00c-0cb0733600da",
   "metadata": {},
   "outputs": [],
   "source": [
    "#union, intersection, difference"
   ]
  },
  {
   "cell_type": "code",
   "execution_count": 23,
   "id": "1bfab786-6be3-4f94-a251-208dcf04d7a9",
   "metadata": {},
   "outputs": [
    {
     "data": {
      "text/plain": [
       "{1, 2, 3, 4, 5, 6, 7, 8}"
      ]
     },
     "execution_count": 23,
     "metadata": {},
     "output_type": "execute_result"
    }
   ],
   "source": [
    "s=a.union(b)\n",
    "s"
   ]
  },
  {
   "cell_type": "code",
   "execution_count": 25,
   "id": "9813298a-dca0-49ca-9b18-16a7fccf78f4",
   "metadata": {},
   "outputs": [
    {
     "data": {
      "text/plain": [
       "{4, 5}"
      ]
     },
     "execution_count": 25,
     "metadata": {},
     "output_type": "execute_result"
    }
   ],
   "source": [
    "l=a.intersection(b)\n",
    "l"
   ]
  },
  {
   "cell_type": "code",
   "execution_count": 49,
   "id": "8f16f5ec-ae50-4585-842c-038b6e7ca345",
   "metadata": {},
   "outputs": [
    {
     "data": {
      "text/plain": [
       "{1, 2, 3}"
      ]
     },
     "execution_count": 49,
     "metadata": {},
     "output_type": "execute_result"
    }
   ],
   "source": [
    "k=a.difference(b)\n",
    "k"
   ]
  },
  {
   "cell_type": "code",
   "execution_count": 51,
   "id": "db95f804-470c-402e-915c-6a42e044681e",
   "metadata": {},
   "outputs": [
    {
     "data": {
      "text/plain": [
       "{6, 7, 8}"
      ]
     },
     "execution_count": 51,
     "metadata": {},
     "output_type": "execute_result"
    }
   ],
   "source": [
    "j=b.difference(a)\n",
    "j"
   ]
  },
  {
   "cell_type": "code",
   "execution_count": 53,
   "id": "edb329e8-c577-46d0-99de-283f6bb9498f",
   "metadata": {},
   "outputs": [
    {
     "data": {
      "text/plain": [
       "{1, 2, 3, 6, 7, 8}"
      ]
     },
     "execution_count": 53,
     "metadata": {},
     "output_type": "execute_result"
    }
   ],
   "source": [
    "j=s.difference(l)\n",
    "j                                          "
   ]
  },
  {
   "cell_type": "code",
   "execution_count": 55,
   "id": "cdb3858d-8976-4628-8f91-dd863b6120f3",
   "metadata": {},
   "outputs": [
    {
     "data": {
      "text/plain": [
       "{1, 2, 3, 6, 7, 8}"
      ]
     },
     "execution_count": 55,
     "metadata": {},
     "output_type": "execute_result"
    }
   ],
   "source": [
    "c=a.union(b)\n",
    "c.difference(a.intersection(b))"
   ]
  },
  {
   "cell_type": "code",
   "execution_count": 67,
   "id": "d0985050-8980-4eaf-a911-50b57210bf9d",
   "metadata": {},
   "outputs": [
    {
     "data": {
      "text/plain": [
       "{1, 2, 3, 6, 7, 8}"
      ]
     },
     "execution_count": 67,
     "metadata": {},
     "output_type": "execute_result"
    }
   ],
   "source": [
    "s=k.union(j)\n",
    "s"
   ]
  },
  {
   "cell_type": "code",
   "execution_count": 69,
   "id": "b74f36d4-1309-44dd-9615-65f08c20dca4",
   "metadata": {},
   "outputs": [
    {
     "ename": "TypeError",
     "evalue": "unsupported operand type(s) for +: 'set' and 'set'",
     "output_type": "error",
     "traceback": [
      "\u001b[0;31m---------------------------------------------------------------------------\u001b[0m",
      "\u001b[0;31mTypeError\u001b[0m                                 Traceback (most recent call last)",
      "Cell \u001b[0;32mIn[69], line 1\u001b[0m\n\u001b[0;32m----> 1\u001b[0m b\u001b[38;5;241m.\u001b[39mdifference(a)\u001b[38;5;241m+\u001b[39ms\u001b[38;5;241m.\u001b[39mdifference(l)\n",
      "\u001b[0;31mTypeError\u001b[0m: unsupported operand type(s) for +: 'set' and 'set'"
     ]
    }
   ],
   "source": [
    "b.difference(a)+s.difference(l)"
   ]
  },
  {
   "cell_type": "code",
   "execution_count": 71,
   "id": "f4797b9c-4580-40c9-8137-c33877d50d89",
   "metadata": {},
   "outputs": [
    {
     "data": {
      "text/plain": [
       "{1, 2, 3, 6, 7, 8}"
      ]
     },
     "execution_count": 71,
     "metadata": {},
     "output_type": "execute_result"
    }
   ],
   "source": [
    "a.union(b)-a.intersection(b)"
   ]
  },
  {
   "cell_type": "code",
   "execution_count": 73,
   "id": "da68ce1a-7195-4fcf-b85b-f2c569e56bb2",
   "metadata": {},
   "outputs": [
    {
     "name": "stdout",
     "output_type": "stream",
     "text": [
      "{1, 2, 3, 4, 5}\n"
     ]
    }
   ],
   "source": [
    "print(a)"
   ]
  },
  {
   "cell_type": "code",
   "execution_count": 79,
   "id": "12f68b4b-30b3-498e-a2a5-d58b54db0d4e",
   "metadata": {},
   "outputs": [],
   "source": [
    "def add(d1,d2):\n",
    "    c=d1+d2\n",
    "    return c"
   ]
  },
  {
   "cell_type": "code",
   "execution_count": 77,
   "id": "24f0234d-1dd7-424f-ad09-73eb5a2a3cf5",
   "metadata": {},
   "outputs": [
    {
     "name": "stdout",
     "output_type": "stream",
     "text": [
      "7\n"
     ]
    }
   ],
   "source": [
    "result=add(2,5)\n",
    "print(result)"
   ]
  },
  {
   "cell_type": "code",
   "execution_count": 81,
   "id": "c31f3a97-e94c-402b-9dff-9c4da60d09f1",
   "metadata": {},
   "outputs": [
    {
     "name": "stdout",
     "output_type": "stream",
     "text": [
      "7.8\n"
     ]
    }
   ],
   "source": [
    "result=add(2.2,5.6)\n",
    "print(result)"
   ]
  },
  {
   "cell_type": "code",
   "execution_count": 85,
   "id": "2d7c24e0-4ac6-4476-b785-54c6317b6cd2",
   "metadata": {},
   "outputs": [
    {
     "name": "stdout",
     "output_type": "stream",
     "text": [
      "i go home\n"
     ]
    }
   ],
   "source": [
    "result=add(\"i\",\" go home\")\n",
    "print(result)"
   ]
  },
  {
   "cell_type": "code",
   "execution_count": 128,
   "id": "665c0e53-2b92-4779-b0e4-5a952cb9f52b",
   "metadata": {},
   "outputs": [],
   "source": [
    "\n",
    "#subtraction\n",
    "def sub(d1,d2):\n",
    "    if(d1<d2):\n",
    "        c=d2-d1\n",
    "        #print(c)\n",
    "        return c\n",
    "    else:\n",
    "        c=d1-d2\n",
    "        return c"
   ]
  },
  {
   "cell_type": "code",
   "execution_count": 130,
   "id": "eb53ee49-15f6-44ad-837b-c203db93d8a2",
   "metadata": {},
   "outputs": [
    {
     "name": "stdout",
     "output_type": "stream",
     "text": [
      "25\n"
     ]
    }
   ],
   "source": [
    "d=sub(45,20)\n",
    "print(d)"
   ]
  },
  {
   "cell_type": "code",
   "execution_count": 132,
   "id": "bc249833-3879-4519-9548-256843052131",
   "metadata": {},
   "outputs": [],
   "source": [
    "#multiply\n",
    "def mul(d1,d2):\n",
    "    c=d1*d2\n",
    "    return c"
   ]
  },
  {
   "cell_type": "code",
   "execution_count": 134,
   "id": "56db703c-2dc5-4113-926b-e7e86e1b615c",
   "metadata": {},
   "outputs": [
    {
     "name": "stdout",
     "output_type": "stream",
     "text": [
      "100\n"
     ]
    }
   ],
   "source": [
    "d=mul(5,20)\n",
    "print(d)"
   ]
  },
  {
   "cell_type": "code",
   "execution_count": 143,
   "id": "3521c6c4-63aa-4426-9125-389b57d8ff7c",
   "metadata": {},
   "outputs": [],
   "source": [
    "# Divide\n",
    "def div(d1,d2):\n",
    "     if(d1<d2):\n",
    "        c=d2/d1\n",
    "        #print(c)\n",
    "        return c\n",
    "     else:\n",
    "        c=d1/d2\n",
    "        return c"
   ]
  },
  {
   "cell_type": "code",
   "execution_count": 145,
   "id": "b9d99f95-beb4-4889-a2d3-0a95b9605774",
   "metadata": {},
   "outputs": [
    {
     "name": "stdout",
     "output_type": "stream",
     "text": [
      "4.0\n"
     ]
    }
   ],
   "source": [
    "d=div(5,20)\n",
    "print(d)"
   ]
  },
  {
   "cell_type": "code",
   "execution_count": 200,
   "id": "5378c6e6-3d3e-4f12-8d4e-0ca5c55d5e17",
   "metadata": {},
   "outputs": [],
   "source": [
    "#passing a string, count characters (without using len function) in the given string\n",
    "def count(a):\n",
    "    c=0\n",
    "    for i in a:\n",
    "        c=c+1\n",
    "    #c=a.count(a)\n",
    "    return c\n",
    "\n"
   ]
  },
  {
   "cell_type": "code",
   "execution_count": 202,
   "id": "97941709-0e5d-442b-b9b6-6af9404c4a95",
   "metadata": {},
   "outputs": [
    {
     "data": {
      "text/plain": [
       "5"
      ]
     },
     "execution_count": 202,
     "metadata": {},
     "output_type": "execute_result"
    }
   ],
   "source": [
    "m=count(\"hello\")\n",
    "m"
   ]
  },
  {
   "cell_type": "code",
   "execution_count": 204,
   "id": "036f87bd-3170-417d-987b-d779070e1be8",
   "metadata": {},
   "outputs": [],
   "source": [
    "def count(a):\n",
    "    c=0\n",
    "    for i in a:\n",
    "        c=c+1\n",
    "    return c"
   ]
  },
  {
   "cell_type": "code",
   "execution_count": 210,
   "id": "1d657a8b-9274-4774-952f-a27ea82a94f5",
   "metadata": {},
   "outputs": [
    {
     "data": {
      "text/plain": [
       "9"
      ]
     },
     "execution_count": 210,
     "metadata": {},
     "output_type": "execute_result"
    }
   ],
   "source": [
    "m=count([2,3,4,5,5,3,2,3,9])\n",
    "m"
   ]
  },
  {
   "cell_type": "code",
   "execution_count": 212,
   "id": "6203f8ea-4005-48b2-aed1-7f83963d3617",
   "metadata": {},
   "outputs": [
    {
     "data": {
      "text/plain": [
       "9"
      ]
     },
     "execution_count": 212,
     "metadata": {},
     "output_type": "execute_result"
    }
   ],
   "source": [
    "#length of list\n",
    "def count(a):\n",
    "    c=0\n",
    "    for i in a:\n",
    "        c=c+1\n",
    "    return c\n",
    "m=count([2,3,4,5,5,3,2,3,9])\n",
    "m"
   ]
  },
  {
   "cell_type": "code",
   "execution_count": 216,
   "id": "796c4830-c61a-460d-b26e-4669f68f46bc",
   "metadata": {},
   "outputs": [
    {
     "data": {
      "text/plain": [
       "8"
      ]
     },
     "execution_count": 216,
     "metadata": {},
     "output_type": "execute_result"
    }
   ],
   "source": [
    "#length of tuple\n",
    "def count(a):\n",
    "    c=0\n",
    "    for i in a:\n",
    "        c=c+1\n",
    "    return c\n",
    "m=count((2,4,5,5,3,2,3,9))\n",
    "m"
   ]
  },
  {
   "cell_type": "code",
   "execution_count": 224,
   "id": "1560dcb5-10dc-467e-af04-913f8469d025",
   "metadata": {},
   "outputs": [
    {
     "data": {
      "text/plain": [
       "11"
      ]
     },
     "execution_count": 224,
     "metadata": {},
     "output_type": "execute_result"
    }
   ],
   "source": [
    "# count words\n",
    "def count(a):\n",
    "    c=0\n",
    "    for i in a:\n",
    "        c=c+1\n",
    "        if(a==\" \"):\n",
    "         break\n",
    "    return c\n",
    "m=count(\"i am a girl\")\n",
    "m"
   ]
  },
  {
   "cell_type": "code",
   "execution_count": 226,
   "id": "5eb73e61-7af8-4896-8aba-9711b85d47e6",
   "metadata": {},
   "outputs": [
    {
     "data": {
      "text/plain": [
       "0"
      ]
     },
     "execution_count": 226,
     "metadata": {},
     "output_type": "execute_result"
    }
   ],
   "source": [
    "# count words\n",
    "def count(a):\n",
    "    c=0\n",
    "    for i in a:\n",
    "        if(a==\" \"):\n",
    "         break\n",
    "         c=c+1\n",
    "    return c\n",
    "m=count(\"i am a girl\")\n",
    "m"
   ]
  },
  {
   "cell_type": "code",
   "execution_count": 55,
   "id": "6bae822f-f21c-4723-af59-a69edeb4e12e",
   "metadata": {},
   "outputs": [],
   "source": [
    "#wap using fnction to check the given number is even or odd\n",
    "def evodd(num):\n",
    "        if(num%2==0):\n",
    "            return \"even\"\n",
    "        else:\n",
    "            return \"odd\""
   ]
  },
  {
   "cell_type": "code",
   "execution_count": 57,
   "id": "61b09fc3-d70b-40fd-97c6-32b1592a113f",
   "metadata": {},
   "outputs": [
    {
     "name": "stdout",
     "output_type": "stream",
     "text": [
      "odd\n"
     ]
    }
   ],
   "source": [
    "m=evodd(3)\n",
    "print(m)"
   ]
  },
  {
   "cell_type": "code",
   "execution_count": 95,
   "id": "bec9ee2a-6c51-4497-bc50-9dec4b775a93",
   "metadata": {},
   "outputs": [],
   "source": [
    "# wap check prime\n",
    "def prime(a):\n",
    "    if(a<=1):\n",
    "        return \"not p\"\n",
    "    elif(a>1):\n",
    "        for i in range(2,a):\n",
    "            if(a%i==0):\n",
    "                return \"notttt p\"\n",
    "                break\n",
    "        return \"prime\"\n",
    "    else:\n",
    "        return \"invalid\"\n",
    "            \n",
    "            "
   ]
  },
  {
   "cell_type": "code",
   "execution_count": 97,
   "id": "0dc8fcc9-d6f7-40a6-93cb-07c628e32c54",
   "metadata": {},
   "outputs": [
    {
     "data": {
      "text/plain": [
       "'notttt p'"
      ]
     },
     "execution_count": 97,
     "metadata": {},
     "output_type": "execute_result"
    }
   ],
   "source": [
    "j=prime(9)\n",
    "j"
   ]
  },
  {
   "cell_type": "code",
   "execution_count": 17,
   "id": "cbf5b1fc-7951-4385-9c0c-07799e46dd7c",
   "metadata": {},
   "outputs": [],
   "source": [
    "listt=1,2,3"
   ]
  },
  {
   "cell_type": "code",
   "execution_count": 19,
   "id": "eeb0d2ef-6171-4556-b170-db02e8a15ce1",
   "metadata": {},
   "outputs": [
    {
     "data": {
      "text/plain": [
       "6"
      ]
     },
     "execution_count": 19,
     "metadata": {},
     "output_type": "execute_result"
    }
   ],
   "source": [
    "import functools\n",
    "functools.reduce(\n",
    "    lambda x,y:x+y,listt\n",
    ")"
   ]
  },
  {
   "cell_type": "code",
   "execution_count": 21,
   "id": "4549239b-9219-41bd-9696-8988d8b09170",
   "metadata": {},
   "outputs": [
    {
     "data": {
      "text/plain": [
       "5"
      ]
     },
     "execution_count": 21,
     "metadata": {},
     "output_type": "execute_result"
    }
   ],
   "source": [
    "res=lambda a,b:a+b\n",
    "res(2,3)"
   ]
  },
  {
   "cell_type": "code",
   "execution_count": 23,
   "id": "1bf4b4e1-e7df-4ac4-b630-47e1d97488cd",
   "metadata": {},
   "outputs": [
    {
     "data": {
      "text/plain": [
       "12.56"
      ]
     },
     "execution_count": 23,
     "metadata": {},
     "output_type": "execute_result"
    }
   ],
   "source": [
    "area=lambda rad:3.14*rad**2\n",
    "area(2)"
   ]
  },
  {
   "cell_type": "code",
   "execution_count": 25,
   "id": "74d95877-e6ae-4ae0-9a43-43f7f7ae6426",
   "metadata": {},
   "outputs": [],
   "source": [
    "list1=[1,2,3,4,5]"
   ]
  },
  {
   "cell_type": "code",
   "execution_count": 27,
   "id": "a2020ad7-3930-48b0-bae7-b8c4af6f2aa7",
   "metadata": {},
   "outputs": [
    {
     "data": {
      "text/plain": [
       "[2, 4]"
      ]
     },
     "execution_count": 27,
     "metadata": {},
     "output_type": "execute_result"
    }
   ],
   "source": [
    "list(filter(lambda x:x%2==0,list1))\n"
   ]
  },
  {
   "cell_type": "code",
   "execution_count": 33,
   "id": "cda5a664-8d4d-41ee-8131-f887a6f80903",
   "metadata": {},
   "outputs": [
    {
     "data": {
      "text/plain": [
       "[1, 4, 9, 16, 25]"
      ]
     },
     "execution_count": 33,
     "metadata": {},
     "output_type": "execute_result"
    }
   ],
   "source": [
    "list(map(lambda x:x**2,list1))"
   ]
  },
  {
   "cell_type": "code",
   "execution_count": null,
   "id": "0a8cf84f-7eab-4c7a-87d7-53807661606b",
   "metadata": {},
   "outputs": [],
   "source": []
  }
 ],
 "metadata": {
  "kernelspec": {
   "display_name": "Python [conda env:base] *",
   "language": "python",
   "name": "conda-base-py"
  },
  "language_info": {
   "codemirror_mode": {
    "name": "ipython",
    "version": 3
   },
   "file_extension": ".py",
   "mimetype": "text/x-python",
   "name": "python",
   "nbconvert_exporter": "python",
   "pygments_lexer": "ipython3",
   "version": "3.12.7"
  }
 },
 "nbformat": 4,
 "nbformat_minor": 5
}
